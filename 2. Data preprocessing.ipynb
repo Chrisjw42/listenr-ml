{
 "cells": [
  {
   "cell_type": "code",
   "execution_count": 163,
   "metadata": {
    "_cell_guid": "5abea3ac-4fa5-4c4f-893f-7f2afa49e523",
    "_kg_hide-output": true,
    "_uuid": "337e0950ca948be32d5d881c1a3c675ccf7ac523",
    "scrolled": true
   },
   "outputs": [],
   "source": [
    "import numpy as np\n",
    "np.random.seed(1001)\n",
    "\n",
    "import pickle\n",
    "import os\n",
    "import shutil\n",
    "\n",
    "import IPython\n",
    "import matplotlib\n",
    "import matplotlib.pyplot as plt\n",
    "import pandas as pd\n",
    "import seaborn as sns\n",
    "from tqdm import tqdm_notebook\n",
    "from sklearn.cross_validation import StratifiedKFold\n",
    "import sklearn\n",
    "from sklearn.model_selection import train_test_split\n",
    "import dask.dataframe as dd\n",
    "from dask import array\n",
    "\n",
    "import librosa\n",
    "import IPython.display as ipd  # To play sound in the notebook\n",
    "import librosa.display\n",
    "\n",
    "import keras\n",
    "from keras.layers import Conv1D, Dropout, Dense, MaxPooling1D, Flatten\n",
    "from keras import Sequential\n",
    "\n",
    "%matplotlib inline\n",
    "matplotlib.style.use('ggplot')\n",
    "\n",
    "import dask\n",
    "from dask.distributed import Client, wait, progress"
   ]
  },
  {
   "cell_type": "code",
   "execution_count": 2,
   "metadata": {},
   "outputs": [],
   "source": [
    "client = Client()"
   ]
  },
  {
   "cell_type": "code",
   "execution_count": 3,
   "metadata": {},
   "outputs": [],
   "source": [
    "from sklearn.preprocessing import StandardScaler\n",
    "from sklearn.preprocessing import MinMaxScaler"
   ]
  },
  {
   "cell_type": "code",
   "execution_count": 4,
   "metadata": {},
   "outputs": [],
   "source": [
    "metadata = pd.read_csv(\"file_metadata.csv\", index_col=0)"
   ]
  },
  {
   "cell_type": "code",
   "execution_count": 46,
   "metadata": {},
   "outputs": [],
   "source": [
    "def get_length_in_seconds(y,sr):\n",
    "    return len(y)/sr\n",
    "\n",
    "def create_samples_from_fn(idx, fn):\n",
    "    \"\"\"\n",
    "    Also trims silence from a file\n",
    "    \"\"\"\n",
    "    desired_sr = 22050\n",
    "    try:\n",
    "        # Load, resample if needed\n",
    "        y, sr = librosa.load(fn)\n",
    "    except:\n",
    "        return None\n",
    "    if sr != desired_sr:\n",
    "        y = librosa.core.resample(y, sr, desired_sr)\n",
    "        sr = desired_sr\n",
    "\n",
    "    # Standard scaling\n",
    "    standardScaler = StandardScaler()    \n",
    "    y = standardScaler.fit_transform(y.reshape(-1, 1)).reshape(1, -1)[0]\n",
    "\n",
    "    length = get_length_in_seconds(y, sr)\n",
    "\n",
    "    #ax.plot(y, alpha=0.3)\n",
    "    #print(f\"{np.round(length, 4)}\")\n",
    "    # Trim silence\n",
    "    y_trimmed = librosa.effects.trim(y, top_db=12.5)[0]\n",
    "    length_trimmed = get_length_in_seconds(y_trimmed, sr)\n",
    "    #print(f\"{np.round(length_trimmed, 4)}\")\n",
    "    #plt.plot(y_trimmed, alpha=0.5)\n",
    "\n",
    "    # Split into chunks\n",
    "    chunk_len = int(sr / 2) # .5 seconds\n",
    "    end = len(y_trimmed) - (len(y_trimmed) % chunk_len)\n",
    "    n_chunks = int(end / chunk_len)\n",
    "    if n_chunks == 0:\n",
    "        return None\n",
    "    y_trimmed_chunks = np.split(y_trimmed[:end], n_chunks)\n",
    "    \n",
    "    #print([x.shape for x in y_trimmed_chunks])\n",
    "\n",
    "    # TODO: Engineer some damn features!\n",
    "    \n",
    "    y_trimmed_chunks = [x for x in y_trimmed_chunks]\n",
    "    for i in range(len(y_trimmed_chunks)):\n",
    "        res = pd.DataFrame(y_trimmed_chunks[i], columns=[\"wave\"])\n",
    "        res.to_parquet(f\"../data/listenr-ml/preprocessed_1/{idx}-{i}\")"
   ]
  },
  {
   "cell_type": "code",
   "execution_count": 47,
   "metadata": {},
   "outputs": [],
   "source": [
    "def establish_data(metadata):\n",
    "    \"\"\"\n",
    "    Save all preprocessed (and eventually feature engineered samples)\n",
    "    \"\"\"\n",
    "    n = len(metadata)\n",
    "    \n",
    "    futures = []\n",
    "\n",
    "    for idx, data in metadata.iterrows():\n",
    "        futures.append(client.submit(create_samples_from_fn, idx, data[\"filepath\"]))\n",
    "    return futures\n",
    "    "
   ]
  },
  {
   "cell_type": "code",
   "execution_count": 49,
   "metadata": {},
   "outputs": [
    {
     "data": {
      "text/html": [
       "<table style=\"border: 2px solid white;\">\n",
       "<tr>\n",
       "<td style=\"vertical-align: top; border: 0px solid white\">\n",
       "<h3>Client</h3>\n",
       "<ul>\n",
       "  <li><b>Scheduler: </b>tcp://127.0.0.1:53686\n",
       "  <li><b>Dashboard: </b><a href='http://127.0.0.1:8787/status' target='_blank'>http://127.0.0.1:8787/status</a>\n",
       "</ul>\n",
       "</td>\n",
       "<td style=\"vertical-align: top; border: 0px solid white\">\n",
       "<h3>Cluster</h3>\n",
       "<ul>\n",
       "  <li><b>Workers: </b>4</li>\n",
       "  <li><b>Cores: </b>4</li>\n",
       "  <li><b>Memory: </b>8.46 GB</li>\n",
       "</ul>\n",
       "</td>\n",
       "</tr>\n",
       "</table>"
      ],
      "text/plain": [
       "<Client: scheduler='tcp://127.0.0.1:53686' processes=0 cores=0>"
      ]
     },
     "execution_count": 49,
     "metadata": {},
     "output_type": "execute_result"
    }
   ],
   "source": [
    "client.restart()"
   ]
  },
  {
   "cell_type": "code",
   "execution_count": 50,
   "metadata": {},
   "outputs": [],
   "source": [
    "futures = establish_data(metadata)"
   ]
  },
  {
   "cell_type": "code",
   "execution_count": 155,
   "metadata": {},
   "outputs": [],
   "source": [
    "def load_one(fn):\n",
    "    res = pd.read_parquet(f\"../data/listenr-ml/preprocessed_1/{fn}\")\n",
    "    return res.values\n",
    "res = load_one(\"0-0\")"
   ]
  },
  {
   "cell_type": "code",
   "execution_count": 177,
   "metadata": {
    "scrolled": true
   },
   "outputs": [],
   "source": [
    "def load_data(client, metadata):\n",
    "    \"\"\"\n",
    "    Load all samples into keras-digestible format\n",
    "    \"\"\"\n",
    "    fns = os.listdir(\"../data/listenr-ml/preprocessed_1/\")\n",
    "    # Get the original sample's metada for each of these chunks\n",
    "    indices = [int(x.split(\"-\")[0]) for x in fns]\n",
    "    these_samples_metadata = metadata.loc[indices]\n",
    "    \n",
    "    \n",
    "    y = pd.get_dummies(these_samples_metadata[\"emo\"].values)\n",
    "    sample_weight = these_samples_metadata[\"emo_intensity\"] + 1\n",
    "    \n",
    "    futures = []\n",
    "    for fn in fns:\n",
    "        futures.append(client.submit(load_one, fn))\n",
    "    \n",
    "    wait(futures)\n",
    "    # Join all results\n",
    "    X = np.array([x.result() for x in futures])\n",
    "    return X, y, sample_weight"
   ]
  },
  {
   "cell_type": "code",
   "execution_count": 178,
   "metadata": {},
   "outputs": [
    {
     "name": "stdout",
     "output_type": "stream",
     "text": [
      "Wall time: 2min 7s\n"
     ]
    }
   ],
   "source": [
    "%%time\n",
    "X, y, sw = load_data(client, metadata)"
   ]
  },
  {
   "cell_type": "code",
   "execution_count": 179,
   "metadata": {},
   "outputs": [
    {
     "data": {
      "text/plain": [
       "4686"
      ]
     },
     "execution_count": 179,
     "metadata": {},
     "output_type": "execute_result"
    }
   ],
   "source": [
    "len(X)"
   ]
  },
  {
   "cell_type": "code",
   "execution_count": 180,
   "metadata": {},
   "outputs": [
    {
     "data": {
      "text/plain": [
       "4686"
      ]
     },
     "execution_count": 180,
     "metadata": {},
     "output_type": "execute_result"
    }
   ],
   "source": [
    "len(y)"
   ]
  },
  {
   "cell_type": "code",
   "execution_count": 182,
   "metadata": {},
   "outputs": [
    {
     "data": {
      "text/html": [
       "<table style=\"border: 2px solid white;\">\n",
       "<tr>\n",
       "<td style=\"vertical-align: top; border: 0px solid white\">\n",
       "<h3>Client</h3>\n",
       "<ul>\n",
       "  <li><b>Scheduler: </b>tcp://127.0.0.1:53686\n",
       "  <li><b>Dashboard: </b><a href='http://127.0.0.1:8787/status' target='_blank'>http://127.0.0.1:8787/status</a>\n",
       "</ul>\n",
       "</td>\n",
       "<td style=\"vertical-align: top; border: 0px solid white\">\n",
       "<h3>Cluster</h3>\n",
       "<ul>\n",
       "  <li><b>Workers: </b>4</li>\n",
       "  <li><b>Cores: </b>4</li>\n",
       "  <li><b>Memory: </b>8.46 GB</li>\n",
       "</ul>\n",
       "</td>\n",
       "</tr>\n",
       "</table>"
      ],
      "text/plain": [
       "<Client: scheduler='tcp://127.0.0.1:53686' processes=3 cores=3>"
      ]
     },
     "execution_count": 182,
     "metadata": {},
     "output_type": "execute_result"
    }
   ],
   "source": [
    "client.restart()"
   ]
  },
  {
   "cell_type": "code",
   "execution_count": 200,
   "metadata": {},
   "outputs": [],
   "source": [
    "def build_1D_model(sample_len, n_classes, filter_size):\n",
    "    model = Sequential()\n",
    "    model.add(Conv1D(8, filter_size,\n",
    "                            padding='valid',\n",
    "                            input_shape=(sample_len, 1),\n",
    "                            activation=\"relu\"))\n",
    "    model.add(MaxPooling1D(padding=\"same\", pool_size=(3)))\n",
    "    model.add(Dropout(0.2))\n",
    "    \n",
    "    model.add(Conv1D(8, filter_size,\n",
    "                            padding=\"same\",\n",
    "                            activation=\"relu\"))\n",
    "    model.add(MaxPooling1D(padding=\"same\", pool_size=(3)))\n",
    "    model.add(Dropout(0.2))\n",
    "    \n",
    "    base_dense = 32\n",
    "    \n",
    "    model.add(Flatten())\n",
    "    model.add(Dense(base_dense, activation=\"relu\"))\n",
    "    model.add(Dropout(0.2))    \n",
    "    model.add(Dense(int(base_dense / 2), activation=\"relu\"))\n",
    "    model.add(Dense(n_classes, activation=\"softmax\"))\n",
    "    \n",
    "    model.compile(optimizer=\"adam\", loss=\"categorical_crossentropy\", metrics=['acc'])\n",
    "    return model"
   ]
  },
  {
   "cell_type": "code",
   "execution_count": 201,
   "metadata": {},
   "outputs": [],
   "source": [
    "md = build_1D_model(11025, len(y.columns), filter_size=3)"
   ]
  },
  {
   "cell_type": "code",
   "execution_count": 199,
   "metadata": {},
   "outputs": [
    {
     "name": "stdout",
     "output_type": "stream",
     "text": [
      "Epoch 1/1\n",
      " - 72s - loss: 1.9507 - acc: 0.2000\n"
     ]
    },
    {
     "data": {
      "text/plain": [
       "<keras.callbacks.History at 0x25b9d8273c8>"
      ]
     },
     "execution_count": 199,
     "metadata": {},
     "output_type": "execute_result"
    }
   ],
   "source": [
    "md.fit(X, y, verbose=1)"
   ]
  },
  {
   "cell_type": "code",
   "execution_count": 38,
   "metadata": {},
   "outputs": [
    {
     "name": "stdout",
     "output_type": "stream",
     "text": [
      "3\n",
      "531/531 [==============================] - ETA:  - ETA:  - ETA:  - ETA:  - ETA:  - ETA:  - ETA:  - ETA:  - ETA:  - ETA:  - ETA:  - ETA:  - ETA:  - ETA:  - ETA:  - ETA:  - 2s 4ms/step\n",
      "6\n",
      "531/531 [==============================] - ETA:  - ETA:  - ETA:  - ETA:  - ETA:  - ETA:  - ETA:  - ETA:  - ETA:  - ETA:  - ETA:  - ETA:  - ETA:  - ETA:  - ETA:  - ETA:  - 2s 4ms/step\n",
      "12\n",
      "531/531 [==============================] - ETA:  - ETA:  - ETA:  - ETA:  - ETA:  - ETA:  - ETA:  - ETA:  - ETA:  - ETA:  - ETA:  - ETA:  - ETA:  - ETA:  - ETA:  - ETA:  - 3s 6ms/step\n",
      "28\n"
     ]
    },
    {
     "ename": "KeyboardInterrupt",
     "evalue": "",
     "output_type": "error",
     "traceback": [
      "\u001b[1;31m---------------------------------------------------------------------------\u001b[0m",
      "\u001b[1;31mKeyboardInterrupt\u001b[0m                         Traceback (most recent call last)",
      "\u001b[1;32m<ipython-input-38-4fc649021a08>\u001b[0m in \u001b[0;36m<module>\u001b[1;34m()\u001b[0m\n\u001b[0;32m      7\u001b[0m                               \u001b[0mmin_delta\u001b[0m\u001b[1;33m=\u001b[0m\u001b[1;36m0\u001b[0m\u001b[1;33m,\u001b[0m\u001b[1;33m\u001b[0m\u001b[0m\n\u001b[0;32m      8\u001b[0m                               \u001b[0mpatience\u001b[0m\u001b[1;33m=\u001b[0m\u001b[1;36m1\u001b[0m\u001b[1;33m,\u001b[0m\u001b[1;33m\u001b[0m\u001b[0m\n\u001b[1;32m----> 9\u001b[1;33m                               verbose=0, mode='auto')])\n\u001b[0m\u001b[0;32m     10\u001b[0m     \u001b[0mres\u001b[0m \u001b[1;33m=\u001b[0m \u001b[0mmd\u001b[0m\u001b[1;33m.\u001b[0m\u001b[0mevaluate\u001b[0m\u001b[1;33m(\u001b[0m\u001b[0mX_test\u001b[0m\u001b[1;33m,\u001b[0m \u001b[0my_test\u001b[0m\u001b[1;33m)\u001b[0m\u001b[1;33m\u001b[0m\u001b[0m\n\u001b[0;32m     11\u001b[0m     \u001b[0mfilter_size_df\u001b[0m\u001b[1;33m.\u001b[0m\u001b[0mloc\u001b[0m\u001b[1;33m[\u001b[0m\u001b[0mfs\u001b[0m\u001b[1;33m]\u001b[0m \u001b[1;33m=\u001b[0m \u001b[0mres\u001b[0m\u001b[1;33m\u001b[0m\u001b[0m\n",
      "\u001b[1;32m~\\Anaconda3\\envs\\audio\\lib\\site-packages\\keras\\engine\\training.py\u001b[0m in \u001b[0;36mfit\u001b[1;34m(self, x, y, batch_size, epochs, verbose, callbacks, validation_split, validation_data, shuffle, class_weight, sample_weight, initial_epoch, steps_per_epoch, validation_steps, **kwargs)\u001b[0m\n\u001b[0;32m   1035\u001b[0m                                         \u001b[0minitial_epoch\u001b[0m\u001b[1;33m=\u001b[0m\u001b[0minitial_epoch\u001b[0m\u001b[1;33m,\u001b[0m\u001b[1;33m\u001b[0m\u001b[0m\n\u001b[0;32m   1036\u001b[0m                                         \u001b[0msteps_per_epoch\u001b[0m\u001b[1;33m=\u001b[0m\u001b[0msteps_per_epoch\u001b[0m\u001b[1;33m,\u001b[0m\u001b[1;33m\u001b[0m\u001b[0m\n\u001b[1;32m-> 1037\u001b[1;33m                                         validation_steps=validation_steps)\n\u001b[0m\u001b[0;32m   1038\u001b[0m \u001b[1;33m\u001b[0m\u001b[0m\n\u001b[0;32m   1039\u001b[0m     def evaluate(self, x=None, y=None,\n",
      "\u001b[1;32m~\\Anaconda3\\envs\\audio\\lib\\site-packages\\keras\\engine\\training_arrays.py\u001b[0m in \u001b[0;36mfit_loop\u001b[1;34m(model, f, ins, out_labels, batch_size, epochs, verbose, callbacks, val_f, val_ins, shuffle, callback_metrics, initial_epoch, steps_per_epoch, validation_steps)\u001b[0m\n\u001b[0;32m    197\u001b[0m                     \u001b[0mins_batch\u001b[0m\u001b[1;33m[\u001b[0m\u001b[0mi\u001b[0m\u001b[1;33m]\u001b[0m \u001b[1;33m=\u001b[0m \u001b[0mins_batch\u001b[0m\u001b[1;33m[\u001b[0m\u001b[0mi\u001b[0m\u001b[1;33m]\u001b[0m\u001b[1;33m.\u001b[0m\u001b[0mtoarray\u001b[0m\u001b[1;33m(\u001b[0m\u001b[1;33m)\u001b[0m\u001b[1;33m\u001b[0m\u001b[0m\n\u001b[0;32m    198\u001b[0m \u001b[1;33m\u001b[0m\u001b[0m\n\u001b[1;32m--> 199\u001b[1;33m                 \u001b[0mouts\u001b[0m \u001b[1;33m=\u001b[0m \u001b[0mf\u001b[0m\u001b[1;33m(\u001b[0m\u001b[0mins_batch\u001b[0m\u001b[1;33m)\u001b[0m\u001b[1;33m\u001b[0m\u001b[0m\n\u001b[0m\u001b[0;32m    200\u001b[0m                 \u001b[0mouts\u001b[0m \u001b[1;33m=\u001b[0m \u001b[0mto_list\u001b[0m\u001b[1;33m(\u001b[0m\u001b[0mouts\u001b[0m\u001b[1;33m)\u001b[0m\u001b[1;33m\u001b[0m\u001b[0m\n\u001b[0;32m    201\u001b[0m                 \u001b[1;32mfor\u001b[0m \u001b[0ml\u001b[0m\u001b[1;33m,\u001b[0m \u001b[0mo\u001b[0m \u001b[1;32min\u001b[0m \u001b[0mzip\u001b[0m\u001b[1;33m(\u001b[0m\u001b[0mout_labels\u001b[0m\u001b[1;33m,\u001b[0m \u001b[0mouts\u001b[0m\u001b[1;33m)\u001b[0m\u001b[1;33m:\u001b[0m\u001b[1;33m\u001b[0m\u001b[0m\n",
      "\u001b[1;32m~\\Anaconda3\\envs\\audio\\lib\\site-packages\\keras\\backend\\tensorflow_backend.py\u001b[0m in \u001b[0;36m__call__\u001b[1;34m(self, inputs)\u001b[0m\n\u001b[0;32m   2664\u001b[0m                 \u001b[1;32mreturn\u001b[0m \u001b[0mself\u001b[0m\u001b[1;33m.\u001b[0m\u001b[0m_legacy_call\u001b[0m\u001b[1;33m(\u001b[0m\u001b[0minputs\u001b[0m\u001b[1;33m)\u001b[0m\u001b[1;33m\u001b[0m\u001b[0m\n\u001b[0;32m   2665\u001b[0m \u001b[1;33m\u001b[0m\u001b[0m\n\u001b[1;32m-> 2666\u001b[1;33m             \u001b[1;32mreturn\u001b[0m \u001b[0mself\u001b[0m\u001b[1;33m.\u001b[0m\u001b[0m_call\u001b[0m\u001b[1;33m(\u001b[0m\u001b[0minputs\u001b[0m\u001b[1;33m)\u001b[0m\u001b[1;33m\u001b[0m\u001b[0m\n\u001b[0m\u001b[0;32m   2667\u001b[0m         \u001b[1;32melse\u001b[0m\u001b[1;33m:\u001b[0m\u001b[1;33m\u001b[0m\u001b[0m\n\u001b[0;32m   2668\u001b[0m             \u001b[1;32mif\u001b[0m \u001b[0mpy_any\u001b[0m\u001b[1;33m(\u001b[0m\u001b[0mis_tensor\u001b[0m\u001b[1;33m(\u001b[0m\u001b[0mx\u001b[0m\u001b[1;33m)\u001b[0m \u001b[1;32mfor\u001b[0m \u001b[0mx\u001b[0m \u001b[1;32min\u001b[0m \u001b[0minputs\u001b[0m\u001b[1;33m)\u001b[0m\u001b[1;33m:\u001b[0m\u001b[1;33m\u001b[0m\u001b[0m\n",
      "\u001b[1;32m~\\Anaconda3\\envs\\audio\\lib\\site-packages\\keras\\backend\\tensorflow_backend.py\u001b[0m in \u001b[0;36m_call\u001b[1;34m(self, inputs)\u001b[0m\n\u001b[0;32m   2634\u001b[0m                                 \u001b[0msymbol_vals\u001b[0m\u001b[1;33m,\u001b[0m\u001b[1;33m\u001b[0m\u001b[0m\n\u001b[0;32m   2635\u001b[0m                                 session)\n\u001b[1;32m-> 2636\u001b[1;33m         \u001b[0mfetched\u001b[0m \u001b[1;33m=\u001b[0m \u001b[0mself\u001b[0m\u001b[1;33m.\u001b[0m\u001b[0m_callable_fn\u001b[0m\u001b[1;33m(\u001b[0m\u001b[1;33m*\u001b[0m\u001b[0marray_vals\u001b[0m\u001b[1;33m)\u001b[0m\u001b[1;33m\u001b[0m\u001b[0m\n\u001b[0m\u001b[0;32m   2637\u001b[0m         \u001b[1;32mreturn\u001b[0m \u001b[0mfetched\u001b[0m\u001b[1;33m[\u001b[0m\u001b[1;33m:\u001b[0m\u001b[0mlen\u001b[0m\u001b[1;33m(\u001b[0m\u001b[0mself\u001b[0m\u001b[1;33m.\u001b[0m\u001b[0moutputs\u001b[0m\u001b[1;33m)\u001b[0m\u001b[1;33m]\u001b[0m\u001b[1;33m\u001b[0m\u001b[0m\n\u001b[0;32m   2638\u001b[0m \u001b[1;33m\u001b[0m\u001b[0m\n",
      "\u001b[1;32m~\\Anaconda3\\envs\\audio\\lib\\site-packages\\tensorflow\\python\\client\\session.py\u001b[0m in \u001b[0;36m__call__\u001b[1;34m(self, *args, **kwargs)\u001b[0m\n\u001b[0;32m   1437\u001b[0m           ret = tf_session.TF_SessionRunCallable(\n\u001b[0;32m   1438\u001b[0m               \u001b[0mself\u001b[0m\u001b[1;33m.\u001b[0m\u001b[0m_session\u001b[0m\u001b[1;33m.\u001b[0m\u001b[0m_session\u001b[0m\u001b[1;33m,\u001b[0m \u001b[0mself\u001b[0m\u001b[1;33m.\u001b[0m\u001b[0m_handle\u001b[0m\u001b[1;33m,\u001b[0m \u001b[0margs\u001b[0m\u001b[1;33m,\u001b[0m \u001b[0mstatus\u001b[0m\u001b[1;33m,\u001b[0m\u001b[1;33m\u001b[0m\u001b[0m\n\u001b[1;32m-> 1439\u001b[1;33m               run_metadata_ptr)\n\u001b[0m\u001b[0;32m   1440\u001b[0m         \u001b[1;32mif\u001b[0m \u001b[0mrun_metadata\u001b[0m\u001b[1;33m:\u001b[0m\u001b[1;33m\u001b[0m\u001b[0m\n\u001b[0;32m   1441\u001b[0m           \u001b[0mproto_data\u001b[0m \u001b[1;33m=\u001b[0m \u001b[0mtf_session\u001b[0m\u001b[1;33m.\u001b[0m\u001b[0mTF_GetBuffer\u001b[0m\u001b[1;33m(\u001b[0m\u001b[0mrun_metadata_ptr\u001b[0m\u001b[1;33m)\u001b[0m\u001b[1;33m\u001b[0m\u001b[0m\n",
      "\u001b[1;31mKeyboardInterrupt\u001b[0m: "
     ]
    }
   ],
   "source": [
    "filter_size_df = pd.DataFrame(columns=[\"loss\", \"acc\"])\n",
    "\n",
    "for fs in [3,6,12,28]:\n",
    "    print(fs)\n",
    "    md = build_1D_model(11025, len(y.columns), filter_size=fs)\n",
    "    md.fit(X_train, y_train, epochs=1, validation_split = 0.1, verbose=0, callbacks=[keras.callbacks.EarlyStopping(monitor='val_loss',\n",
    "                              min_delta=0,\n",
    "                              patience=1,\n",
    "                              verbose=0, mode='auto')])\n",
    "    res = md.evaluate(X_test, y_test)\n",
    "    filter_size_df.loc[fs] = res\n",
    "    \n",
    "filter_size_df.to_parquet(\"filter_size_df.parquet\")    "
   ]
  },
  {
   "cell_type": "code",
   "execution_count": null,
   "metadata": {},
   "outputs": [],
   "source": []
  },
  {
   "cell_type": "code",
   "execution_count": null,
   "metadata": {},
   "outputs": [],
   "source": []
  },
  {
   "cell_type": "code",
   "execution_count": null,
   "metadata": {},
   "outputs": [],
   "source": []
  },
  {
   "cell_type": "markdown",
   "metadata": {},
   "source": [
    "# Features"
   ]
  },
  {
   "cell_type": "code",
   "execution_count": 8,
   "metadata": {},
   "outputs": [
    {
     "data": {
      "text/plain": [
       "1"
      ]
     },
     "execution_count": 8,
     "metadata": {},
     "output_type": "execute_result"
    }
   ],
   "source": [
    "len(librosa.feature.spectral_flatness(y))"
   ]
  },
  {
   "cell_type": "code",
   "execution_count": 83,
   "metadata": {},
   "outputs": [
    {
     "name": "stderr",
     "output_type": "stream",
     "text": [
      "Exception ignored in: <bound method Wave_write.__del__ of <wave.Wave_write object at 0x000002832272E358>>\n",
      "Traceback (most recent call last):\n",
      "  File \"C:\\Users\\chris\\Anaconda3\\envs\\audio\\lib\\wave.py\", line 316, in __del__\n",
      "    self.close()\n",
      "  File \"C:\\Users\\chris\\Anaconda3\\envs\\audio\\lib\\wave.py\", line 434, in close\n",
      "    self._ensure_header_written(0)\n",
      "  File \"C:\\Users\\chris\\Anaconda3\\envs\\audio\\lib\\wave.py\", line 454, in _ensure_header_written\n",
      "    raise Error('sample width not specified')\n",
      "wave.Error: sample width not specified\n"
     ]
    },
    {
     "data": {
      "text/plain": [
       "[<matplotlib.lines.Line2D at 0x28322baf278>]"
      ]
     },
     "execution_count": 83,
     "metadata": {},
     "output_type": "execute_result"
    },
    {
     "data": {
      "image/png": "[encoded data removed]",
      "text/plain": [
       "<Figure size 432x288 with 1 Axes>"
      ]
     },
     "metadata": {},
     "output_type": "display_data"
    },
    {
     "name": "stderr",
     "output_type": "stream",
     "text": [
      "Exception ignored in: <bound method Wave_write.__del__ of <wave.Wave_write object at 0x0000028322795F98>>\n",
      "Traceback (most recent call last):\n",
      "  File \"C:\\Users\\chris\\Anaconda3\\envs\\audio\\lib\\wave.py\", line 316, in __del__\n",
      "    self.close()\n",
      "  File \"C:\\Users\\chris\\Anaconda3\\envs\\audio\\lib\\wave.py\", line 434, in close\n",
      "    self._ensure_header_written(0)\n",
      "  File \"C:\\Users\\chris\\Anaconda3\\envs\\audio\\lib\\wave.py\", line 454, in _ensure_header_written\n",
      "    raise Error('sample width not specified')\n",
      "wave.Error: sample width not specified\n"
     ]
    }
   ],
   "source": [
    "# Spectral flatness\n",
    "plt.plot(librosa.feature.spectral_flatness(y)[0])"
   ]
  },
  {
   "cell_type": "markdown",
   "metadata": {},
   "source": [
    "# Spectral contrast"
   ]
  },
  {
   "cell_type": "code",
   "execution_count": 103,
   "metadata": {},
   "outputs": [
    {
     "data": {
      "text/plain": [
       "3"
      ]
     },
     "execution_count": 103,
     "metadata": {},
     "output_type": "execute_result"
    }
   ],
   "source": [
    "# each row of spectral contrast values corresponds to a given octave-based frequency\n",
    "\n",
    "n = 2\n",
    "len(librosa.feature.spectral_contrast(y, sr, n_bands=n))"
   ]
  },
  {
   "cell_type": "code",
   "execution_count": 108,
   "metadata": {},
   "outputs": [
    {
     "name": "stdout",
     "output_type": "stream",
     "text": [
      "10.9782071776509\n",
      "17.373504186903556\n",
      "75.97206430718389\n"
     ]
    },
    {
     "data": {
      "image/png": "[encoded data removed]",
      "text/plain": [
       "<Figure size 432x288 with 1 Axes>"
      ]
     },
     "metadata": {},
     "output_type": "display_data"
    }
   ],
   "source": []
  },
  {
   "cell_type": "code",
   "execution_count": 131,
   "metadata": {},
   "outputs": [],
   "source": [
    "def get_spec_contrast_features(y, sr):\n",
    "    n_bands = 3\n",
    "    vals = librosa.feature.spectral_contrast(y,n_bands=n_bands)\n",
    "    means = [np.mean(x) for x in vals]\n",
    "    stds = [np.std(x) for x in vals]\n",
    "\n",
    "    for i in range(n_bands+1):\n",
    "        plt.plot(vals[i])\n",
    "    return means, stds"
   ]
  },
  {
   "cell_type": "code",
   "execution_count": 136,
   "metadata": {},
   "outputs": [
    {
     "data": {
      "text/plain": [
       "([21.47553603420841,\n",
       "  14.347275182096322,\n",
       "  16.931722900956345,\n",
       "  29.545808050522744],\n",
       " [6.237174973671347, 6.024205104723439, 6.358211710516543, 5.283727548387719])"
      ]
     },
     "execution_count": 136,
     "metadata": {},
     "output_type": "execute_result"
    },
    {
     "data": {
      "image/png": "[encoded data removed]",
      "text/plain": [
       "<Figure size 432x288 with 1 Axes>"
      ]
     },
     "metadata": {},
     "output_type": "display_data"
    }
   ],
   "source": [
    "\n",
    "y, sr = librosa.load(filenames.iloc[3])\n",
    "get_spec_contrast_features(y, sr)"
   ]
  },
  {
   "cell_type": "markdown",
   "metadata": {},
   "source": [
    "# Spectral flatness - WILL ONLY WORK IF WE REMOVE NOISE FIRST\n",
    "Spectral flatness (or tonality coefficient) is a measure to quantify how much noise-like a sound is, as opposed to being tone-like [1]. A high spectral flatness (closer to 1.0) indicates the spectrum is similar to white noise. It is often converted to decibel."
   ]
  },
  {
   "cell_type": "code",
   "execution_count": 144,
   "metadata": {},
   "outputs": [
    {
     "data": {
      "text/plain": [
       "[<matplotlib.lines.Line2D at 0x28322a566a0>]"
      ]
     },
     "execution_count": 144,
     "metadata": {},
     "output_type": "execute_result"
    },
    {
     "data": {
      "image/png": "[encoded data removed]",
      "text/plain": [
       "<Figure size 432x288 with 1 Axes>"
      ]
     },
     "metadata": {},
     "output_type": "display_data"
    }
   ],
   "source": [
    "n = 2\n",
    "plt.plot(librosa.feature.spectral_flatness(y)[0])"
   ]
  },
  {
   "cell_type": "code",
   "execution_count": 149,
   "metadata": {},
   "outputs": [],
   "source": [
    "def get_spec_flatness_features(y):\n",
    "    vals = librosa.feature.spectral_flatness(y)\n",
    "    mean = [np.mean(x) for x in vals]\n",
    "    std = [np.std(x) for x in vals]\n",
    "    plt.plot(librosa.feature.spectral_flatness(y)[0])\n",
    "    return mean, std"
   ]
  },
  {
   "cell_type": "code",
   "execution_count": 153,
   "metadata": {},
   "outputs": [
    {
     "data": {
      "text/plain": [
       "[<matplotlib.lines.Line2D at 0x283240fcd30>]"
      ]
     },
     "execution_count": 153,
     "metadata": {},
     "output_type": "execute_result"
    },
    {
     "data": {
      "image/png": "[encoded data removed]",
      "text/plain": [
       "<Figure size 432x288 with 1 Axes>"
      ]
     },
     "metadata": {},
     "output_type": "display_data"
    }
   ],
   "source": [
    "plt.plot(y)"
   ]
  },
  {
   "cell_type": "code",
   "execution_count": 152,
   "metadata": {},
   "outputs": [
    {
     "data": {
      "text/plain": [
       "([0.2499737], [0.30661276])"
      ]
     },
     "execution_count": 152,
     "metadata": {},
     "output_type": "execute_result"
    },
    {
     "data": {
      "image/png": "[encoded data removed]",
      "text/plain": [
       "<Figure size 432x288 with 1 Axes>"
      ]
     },
     "metadata": {},
     "output_type": "display_data"
    }
   ],
   "source": [
    "y, sr = librosa.load(filenames.iloc[5])\n",
    "get_spec_flatness_features(y)"
   ]
  },
  {
   "cell_type": "markdown",
   "metadata": {},
   "source": [
    "# Spectral Rolloff"
   ]
  },
  {
   "cell_type": "code",
   "execution_count": 159,
   "metadata": {},
   "outputs": [
    {
     "name": "stdout",
     "output_type": "stream",
     "text": [
      "1\n"
     ]
    },
    {
     "data": {
      "text/plain": [
       "[<matplotlib.lines.Line2D at 0x28322a165c0>]"
      ]
     },
     "execution_count": 159,
     "metadata": {},
     "output_type": "execute_result"
    },
    {
     "data": {
      "image/png": "[encoded data removed]",
      "text/plain": [
       "<Figure size 432x288 with 1 Axes>"
      ]
     },
     "metadata": {},
     "output_type": "display_data"
    }
   ],
   "source": [
    "print(len(librosa.feature.spectral_rolloff(y,sr)))\n",
    "plt.plot(librosa.feature.spectral_rolloff(y,sr)[0])"
   ]
  },
  {
   "cell_type": "code",
   "execution_count": 234,
   "metadata": {
    "scrolled": true
   },
   "outputs": [],
   "source": [
    "def get_ts_features(y,sr):\n",
    "    n_cont_bands = 3\n",
    "    res = pd.DataFrame(columns=[f\"contrast_band_{x}\" for x in range(n_cont_bands+1)].extend([\"sroll\", \"sflat\"]))\n",
    "    \n",
    "    scont = librosa.feature.spectral_contrast(y,n_bands=n_cont_bands)\n",
    "    \n",
    "    for i in range(n_cont_bands + 1):\n",
    "        res[f\"contrast_band_{i}\"] = scont[i]\n",
    "        \n",
    "    sroll = librosa.feature.spectral_rolloff(y,sr)[0].T\n",
    "    res[\"sroll\"] = sroll\n",
    "    \n",
    "    sflat = librosa.feature.spectral_flatness(y)[0].T\n",
    "    res[\"sflat\"] = sflat\n",
    "    return res\n",
    "\n",
    "y, sr = librosa.load(filenames.iloc[0])\n",
    "res = get_ts_features(y, sr)\n"
   ]
  },
  {
   "cell_type": "code",
   "execution_count": 235,
   "metadata": {
    "scrolled": true
   },
   "outputs": [
    {
     "data": {
      "text/html": [
       "<div>\n",
       "<style scoped>\n",
       "    .dataframe tbody tr th:only-of-type {\n",
       "        vertical-align: middle;\n",
       "    }\n",
       "\n",
       "    .dataframe tbody tr th {\n",
       "        vertical-align: top;\n",
       "    }\n",
       "\n",
       "    .dataframe thead th {\n",
       "        text-align: right;\n",
       "    }\n",
       "</style>\n",
       "<table border=\"1\" class=\"dataframe\">\n",
       "  <thead>\n",
       "    <tr style=\"text-align: right;\">\n",
       "      <th></th>\n",
       "      <th>contrast_band_0</th>\n",
       "      <th>contrast_band_1</th>\n",
       "      <th>contrast_band_2</th>\n",
       "      <th>contrast_band_3</th>\n",
       "      <th>sroll</th>\n",
       "      <th>sflat</th>\n",
       "    </tr>\n",
       "  </thead>\n",
       "  <tbody>\n",
       "    <tr>\n",
       "      <th>0</th>\n",
       "      <td>15.005856</td>\n",
       "      <td>15.803830</td>\n",
       "      <td>14.688196</td>\n",
       "      <td>24.244166</td>\n",
       "      <td>1991.821289</td>\n",
       "      <td>0.001007</td>\n",
       "    </tr>\n",
       "    <tr>\n",
       "      <th>1</th>\n",
       "      <td>11.538092</td>\n",
       "      <td>17.175822</td>\n",
       "      <td>11.606954</td>\n",
       "      <td>15.240302</td>\n",
       "      <td>2519.384766</td>\n",
       "      <td>0.001404</td>\n",
       "    </tr>\n",
       "    <tr>\n",
       "      <th>2</th>\n",
       "      <td>10.788908</td>\n",
       "      <td>21.705265</td>\n",
       "      <td>13.804521</td>\n",
       "      <td>64.722306</td>\n",
       "      <td>2842.382812</td>\n",
       "      <td>0.000076</td>\n",
       "    </tr>\n",
       "    <tr>\n",
       "      <th>3</th>\n",
       "      <td>9.010519</td>\n",
       "      <td>26.769925</td>\n",
       "      <td>13.071949</td>\n",
       "      <td>64.811951</td>\n",
       "      <td>2702.416992</td>\n",
       "      <td>0.000063</td>\n",
       "    </tr>\n",
       "    <tr>\n",
       "      <th>4</th>\n",
       "      <td>9.092612</td>\n",
       "      <td>18.925542</td>\n",
       "      <td>14.976012</td>\n",
       "      <td>64.915765</td>\n",
       "      <td>2853.149414</td>\n",
       "      <td>0.000111</td>\n",
       "    </tr>\n",
       "    <tr>\n",
       "      <th>5</th>\n",
       "      <td>13.974140</td>\n",
       "      <td>19.454784</td>\n",
       "      <td>17.655904</td>\n",
       "      <td>64.387228</td>\n",
       "      <td>2896.215820</td>\n",
       "      <td>0.000134</td>\n",
       "    </tr>\n",
       "    <tr>\n",
       "      <th>6</th>\n",
       "      <td>5.434500</td>\n",
       "      <td>15.573780</td>\n",
       "      <td>13.425573</td>\n",
       "      <td>64.634906</td>\n",
       "      <td>3445.312500</td>\n",
       "      <td>0.000189</td>\n",
       "    </tr>\n",
       "    <tr>\n",
       "      <th>7</th>\n",
       "      <td>9.728713</td>\n",
       "      <td>17.847287</td>\n",
       "      <td>13.085870</td>\n",
       "      <td>71.397055</td>\n",
       "      <td>2960.815430</td>\n",
       "      <td>0.000205</td>\n",
       "    </tr>\n",
       "    <tr>\n",
       "      <th>8</th>\n",
       "      <td>10.586659</td>\n",
       "      <td>13.704537</td>\n",
       "      <td>9.909048</td>\n",
       "      <td>78.922899</td>\n",
       "      <td>3208.447266</td>\n",
       "      <td>0.000209</td>\n",
       "    </tr>\n",
       "    <tr>\n",
       "      <th>9</th>\n",
       "      <td>13.767206</td>\n",
       "      <td>16.530590</td>\n",
       "      <td>15.756991</td>\n",
       "      <td>80.626487</td>\n",
       "      <td>3197.680664</td>\n",
       "      <td>0.000118</td>\n",
       "    </tr>\n",
       "    <tr>\n",
       "      <th>10</th>\n",
       "      <td>8.004262</td>\n",
       "      <td>17.741834</td>\n",
       "      <td>20.007825</td>\n",
       "      <td>79.794577</td>\n",
       "      <td>3111.547852</td>\n",
       "      <td>0.000087</td>\n",
       "    </tr>\n",
       "    <tr>\n",
       "      <th>11</th>\n",
       "      <td>6.247385</td>\n",
       "      <td>16.569689</td>\n",
       "      <td>26.717362</td>\n",
       "      <td>78.760241</td>\n",
       "      <td>2950.048828</td>\n",
       "      <td>0.000044</td>\n",
       "    </tr>\n",
       "    <tr>\n",
       "      <th>12</th>\n",
       "      <td>7.904501</td>\n",
       "      <td>15.693448</td>\n",
       "      <td>23.103305</td>\n",
       "      <td>76.687084</td>\n",
       "      <td>2939.282227</td>\n",
       "      <td>0.000028</td>\n",
       "    </tr>\n",
       "    <tr>\n",
       "      <th>13</th>\n",
       "      <td>9.740647</td>\n",
       "      <td>18.524265</td>\n",
       "      <td>32.207201</td>\n",
       "      <td>76.731359</td>\n",
       "      <td>3122.314453</td>\n",
       "      <td>0.000053</td>\n",
       "    </tr>\n",
       "    <tr>\n",
       "      <th>14</th>\n",
       "      <td>13.966255</td>\n",
       "      <td>17.520859</td>\n",
       "      <td>23.976219</td>\n",
       "      <td>76.565402</td>\n",
       "      <td>3552.978516</td>\n",
       "      <td>0.000084</td>\n",
       "    </tr>\n",
       "    <tr>\n",
       "      <th>15</th>\n",
       "      <td>16.290045</td>\n",
       "      <td>21.874335</td>\n",
       "      <td>15.165472</td>\n",
       "      <td>74.461322</td>\n",
       "      <td>4425.073242</td>\n",
       "      <td>0.000073</td>\n",
       "    </tr>\n",
       "    <tr>\n",
       "      <th>16</th>\n",
       "      <td>7.452879</td>\n",
       "      <td>15.420916</td>\n",
       "      <td>16.949948</td>\n",
       "      <td>73.803770</td>\n",
       "      <td>5415.600586</td>\n",
       "      <td>0.000169</td>\n",
       "    </tr>\n",
       "    <tr>\n",
       "      <th>17</th>\n",
       "      <td>15.989833</td>\n",
       "      <td>17.457790</td>\n",
       "      <td>15.270719</td>\n",
       "      <td>73.397101</td>\n",
       "      <td>5835.498047</td>\n",
       "      <td>0.000505</td>\n",
       "    </tr>\n",
       "    <tr>\n",
       "      <th>18</th>\n",
       "      <td>12.990572</td>\n",
       "      <td>13.239690</td>\n",
       "      <td>18.406481</td>\n",
       "      <td>74.513252</td>\n",
       "      <td>5900.097656</td>\n",
       "      <td>0.000616</td>\n",
       "    </tr>\n",
       "    <tr>\n",
       "      <th>19</th>\n",
       "      <td>7.546676</td>\n",
       "      <td>14.257101</td>\n",
       "      <td>26.325926</td>\n",
       "      <td>74.501889</td>\n",
       "      <td>3994.409180</td>\n",
       "      <td>0.000092</td>\n",
       "    </tr>\n",
       "    <tr>\n",
       "      <th>20</th>\n",
       "      <td>6.213983</td>\n",
       "      <td>16.338157</td>\n",
       "      <td>25.405470</td>\n",
       "      <td>75.910893</td>\n",
       "      <td>3413.012695</td>\n",
       "      <td>0.000037</td>\n",
       "    </tr>\n",
       "    <tr>\n",
       "      <th>21</th>\n",
       "      <td>9.424046</td>\n",
       "      <td>15.505794</td>\n",
       "      <td>27.607631</td>\n",
       "      <td>76.333945</td>\n",
       "      <td>3746.777344</td>\n",
       "      <td>0.000034</td>\n",
       "    </tr>\n",
       "    <tr>\n",
       "      <th>22</th>\n",
       "      <td>11.660378</td>\n",
       "      <td>14.536853</td>\n",
       "      <td>23.210342</td>\n",
       "      <td>77.130839</td>\n",
       "      <td>3606.811523</td>\n",
       "      <td>0.000023</td>\n",
       "    </tr>\n",
       "    <tr>\n",
       "      <th>23</th>\n",
       "      <td>8.230356</td>\n",
       "      <td>16.278795</td>\n",
       "      <td>31.445607</td>\n",
       "      <td>76.574708</td>\n",
       "      <td>3326.879883</td>\n",
       "      <td>0.000011</td>\n",
       "    </tr>\n",
       "    <tr>\n",
       "      <th>24</th>\n",
       "      <td>13.068473</td>\n",
       "      <td>17.492971</td>\n",
       "      <td>35.024538</td>\n",
       "      <td>73.706695</td>\n",
       "      <td>2993.115234</td>\n",
       "      <td>0.000006</td>\n",
       "    </tr>\n",
       "    <tr>\n",
       "      <th>25</th>\n",
       "      <td>16.584965</td>\n",
       "      <td>12.136671</td>\n",
       "      <td>29.747059</td>\n",
       "      <td>70.192703</td>\n",
       "      <td>2853.149414</td>\n",
       "      <td>0.000003</td>\n",
       "    </tr>\n",
       "    <tr>\n",
       "      <th>26</th>\n",
       "      <td>13.712788</td>\n",
       "      <td>26.257477</td>\n",
       "      <td>31.059229</td>\n",
       "      <td>68.669246</td>\n",
       "      <td>1916.455078</td>\n",
       "      <td>0.000002</td>\n",
       "    </tr>\n",
       "    <tr>\n",
       "      <th>27</th>\n",
       "      <td>10.664689</td>\n",
       "      <td>14.620203</td>\n",
       "      <td>24.982830</td>\n",
       "      <td>70.794687</td>\n",
       "      <td>2756.250000</td>\n",
       "      <td>0.000015</td>\n",
       "    </tr>\n",
       "    <tr>\n",
       "      <th>28</th>\n",
       "      <td>11.615500</td>\n",
       "      <td>13.624883</td>\n",
       "      <td>19.228537</td>\n",
       "      <td>77.602396</td>\n",
       "      <td>3531.445312</td>\n",
       "      <td>0.000111</td>\n",
       "    </tr>\n",
       "    <tr>\n",
       "      <th>29</th>\n",
       "      <td>10.364935</td>\n",
       "      <td>12.665016</td>\n",
       "      <td>23.530700</td>\n",
       "      <td>80.308142</td>\n",
       "      <td>3283.813477</td>\n",
       "      <td>0.000084</td>\n",
       "    </tr>\n",
       "    <tr>\n",
       "      <th>...</th>\n",
       "      <td>...</td>\n",
       "      <td>...</td>\n",
       "      <td>...</td>\n",
       "      <td>...</td>\n",
       "      <td>...</td>\n",
       "      <td>...</td>\n",
       "    </tr>\n",
       "    <tr>\n",
       "      <th>93</th>\n",
       "      <td>18.000191</td>\n",
       "      <td>9.740217</td>\n",
       "      <td>12.859399</td>\n",
       "      <td>72.824178</td>\n",
       "      <td>6083.129883</td>\n",
       "      <td>0.001100</td>\n",
       "    </tr>\n",
       "    <tr>\n",
       "      <th>94</th>\n",
       "      <td>13.880750</td>\n",
       "      <td>12.308109</td>\n",
       "      <td>12.749573</td>\n",
       "      <td>72.439877</td>\n",
       "      <td>5620.166016</td>\n",
       "      <td>0.000756</td>\n",
       "    </tr>\n",
       "    <tr>\n",
       "      <th>95</th>\n",
       "      <td>25.905446</td>\n",
       "      <td>14.285252</td>\n",
       "      <td>11.710772</td>\n",
       "      <td>71.497135</td>\n",
       "      <td>5028.002930</td>\n",
       "      <td>0.000723</td>\n",
       "    </tr>\n",
       "    <tr>\n",
       "      <th>96</th>\n",
       "      <td>11.394685</td>\n",
       "      <td>20.661550</td>\n",
       "      <td>17.859826</td>\n",
       "      <td>70.279095</td>\n",
       "      <td>4242.041016</td>\n",
       "      <td>0.000354</td>\n",
       "    </tr>\n",
       "    <tr>\n",
       "      <th>97</th>\n",
       "      <td>6.411166</td>\n",
       "      <td>22.414771</td>\n",
       "      <td>17.885311</td>\n",
       "      <td>67.512889</td>\n",
       "      <td>3779.077148</td>\n",
       "      <td>0.000212</td>\n",
       "    </tr>\n",
       "    <tr>\n",
       "      <th>98</th>\n",
       "      <td>13.117338</td>\n",
       "      <td>23.248467</td>\n",
       "      <td>18.831620</td>\n",
       "      <td>65.592669</td>\n",
       "      <td>3865.209961</td>\n",
       "      <td>0.000204</td>\n",
       "    </tr>\n",
       "    <tr>\n",
       "      <th>99</th>\n",
       "      <td>9.270052</td>\n",
       "      <td>17.333326</td>\n",
       "      <td>12.816753</td>\n",
       "      <td>65.550033</td>\n",
       "      <td>3875.976562</td>\n",
       "      <td>0.000208</td>\n",
       "    </tr>\n",
       "    <tr>\n",
       "      <th>100</th>\n",
       "      <td>6.805418</td>\n",
       "      <td>18.942249</td>\n",
       "      <td>15.501869</td>\n",
       "      <td>65.353504</td>\n",
       "      <td>3294.580078</td>\n",
       "      <td>0.000147</td>\n",
       "    </tr>\n",
       "    <tr>\n",
       "      <th>101</th>\n",
       "      <td>12.223105</td>\n",
       "      <td>16.742027</td>\n",
       "      <td>15.479608</td>\n",
       "      <td>65.192458</td>\n",
       "      <td>2874.682617</td>\n",
       "      <td>0.000133</td>\n",
       "    </tr>\n",
       "    <tr>\n",
       "      <th>102</th>\n",
       "      <td>5.803920</td>\n",
       "      <td>18.728055</td>\n",
       "      <td>14.130099</td>\n",
       "      <td>64.767883</td>\n",
       "      <td>3003.881836</td>\n",
       "      <td>0.000151</td>\n",
       "    </tr>\n",
       "    <tr>\n",
       "      <th>103</th>\n",
       "      <td>15.053542</td>\n",
       "      <td>14.228939</td>\n",
       "      <td>9.780179</td>\n",
       "      <td>65.148287</td>\n",
       "      <td>3875.976562</td>\n",
       "      <td>0.000225</td>\n",
       "    </tr>\n",
       "    <tr>\n",
       "      <th>104</th>\n",
       "      <td>10.795462</td>\n",
       "      <td>16.176922</td>\n",
       "      <td>13.195307</td>\n",
       "      <td>65.431768</td>\n",
       "      <td>3940.576172</td>\n",
       "      <td>0.000225</td>\n",
       "    </tr>\n",
       "    <tr>\n",
       "      <th>105</th>\n",
       "      <td>8.826811</td>\n",
       "      <td>15.724695</td>\n",
       "      <td>15.001383</td>\n",
       "      <td>65.784720</td>\n",
       "      <td>3165.380859</td>\n",
       "      <td>0.000161</td>\n",
       "    </tr>\n",
       "    <tr>\n",
       "      <th>106</th>\n",
       "      <td>11.451416</td>\n",
       "      <td>14.355209</td>\n",
       "      <td>8.600756</td>\n",
       "      <td>65.901802</td>\n",
       "      <td>3520.678711</td>\n",
       "      <td>0.000202</td>\n",
       "    </tr>\n",
       "    <tr>\n",
       "      <th>107</th>\n",
       "      <td>15.011697</td>\n",
       "      <td>14.622141</td>\n",
       "      <td>10.308042</td>\n",
       "      <td>65.157992</td>\n",
       "      <td>3736.010742</td>\n",
       "      <td>0.000216</td>\n",
       "    </tr>\n",
       "    <tr>\n",
       "      <th>108</th>\n",
       "      <td>10.678417</td>\n",
       "      <td>18.901305</td>\n",
       "      <td>14.856006</td>\n",
       "      <td>64.849045</td>\n",
       "      <td>3456.079102</td>\n",
       "      <td>0.000129</td>\n",
       "    </tr>\n",
       "    <tr>\n",
       "      <th>109</th>\n",
       "      <td>12.022760</td>\n",
       "      <td>20.059791</td>\n",
       "      <td>17.474721</td>\n",
       "      <td>65.069142</td>\n",
       "      <td>3197.680664</td>\n",
       "      <td>0.000113</td>\n",
       "    </tr>\n",
       "    <tr>\n",
       "      <th>110</th>\n",
       "      <td>20.363944</td>\n",
       "      <td>12.519268</td>\n",
       "      <td>10.868871</td>\n",
       "      <td>64.952486</td>\n",
       "      <td>3337.646484</td>\n",
       "      <td>0.000127</td>\n",
       "    </tr>\n",
       "    <tr>\n",
       "      <th>111</th>\n",
       "      <td>9.012470</td>\n",
       "      <td>23.672751</td>\n",
       "      <td>10.478106</td>\n",
       "      <td>64.749524</td>\n",
       "      <td>2971.582031</td>\n",
       "      <td>0.000104</td>\n",
       "    </tr>\n",
       "    <tr>\n",
       "      <th>112</th>\n",
       "      <td>10.059075</td>\n",
       "      <td>17.734418</td>\n",
       "      <td>19.455805</td>\n",
       "      <td>64.989481</td>\n",
       "      <td>2928.515625</td>\n",
       "      <td>0.000111</td>\n",
       "    </tr>\n",
       "    <tr>\n",
       "      <th>113</th>\n",
       "      <td>9.070233</td>\n",
       "      <td>21.768315</td>\n",
       "      <td>16.982028</td>\n",
       "      <td>65.139017</td>\n",
       "      <td>3466.845703</td>\n",
       "      <td>0.000138</td>\n",
       "    </tr>\n",
       "    <tr>\n",
       "      <th>114</th>\n",
       "      <td>8.710306</td>\n",
       "      <td>21.566712</td>\n",
       "      <td>11.017379</td>\n",
       "      <td>65.430365</td>\n",
       "      <td>3423.779297</td>\n",
       "      <td>0.000120</td>\n",
       "    </tr>\n",
       "    <tr>\n",
       "      <th>115</th>\n",
       "      <td>6.535121</td>\n",
       "      <td>21.183595</td>\n",
       "      <td>19.008847</td>\n",
       "      <td>64.327429</td>\n",
       "      <td>2454.785156</td>\n",
       "      <td>0.000069</td>\n",
       "    </tr>\n",
       "    <tr>\n",
       "      <th>116</th>\n",
       "      <td>7.468951</td>\n",
       "      <td>25.632887</td>\n",
       "      <td>14.979948</td>\n",
       "      <td>65.101703</td>\n",
       "      <td>2756.250000</td>\n",
       "      <td>0.000067</td>\n",
       "    </tr>\n",
       "    <tr>\n",
       "      <th>117</th>\n",
       "      <td>8.362174</td>\n",
       "      <td>19.465900</td>\n",
       "      <td>14.069319</td>\n",
       "      <td>65.080219</td>\n",
       "      <td>3133.081055</td>\n",
       "      <td>0.000099</td>\n",
       "    </tr>\n",
       "    <tr>\n",
       "      <th>118</th>\n",
       "      <td>7.180074</td>\n",
       "      <td>20.317020</td>\n",
       "      <td>9.733057</td>\n",
       "      <td>64.943775</td>\n",
       "      <td>3014.648438</td>\n",
       "      <td>0.000112</td>\n",
       "    </tr>\n",
       "    <tr>\n",
       "      <th>119</th>\n",
       "      <td>11.677230</td>\n",
       "      <td>16.677887</td>\n",
       "      <td>10.966658</td>\n",
       "      <td>65.141453</td>\n",
       "      <td>2637.817383</td>\n",
       "      <td>0.000092</td>\n",
       "    </tr>\n",
       "    <tr>\n",
       "      <th>120</th>\n",
       "      <td>5.679796</td>\n",
       "      <td>20.006926</td>\n",
       "      <td>10.514296</td>\n",
       "      <td>64.608144</td>\n",
       "      <td>2336.352539</td>\n",
       "      <td>0.000093</td>\n",
       "    </tr>\n",
       "    <tr>\n",
       "      <th>121</th>\n",
       "      <td>18.450876</td>\n",
       "      <td>15.270881</td>\n",
       "      <td>18.276986</td>\n",
       "      <td>64.426738</td>\n",
       "      <td>2519.384766</td>\n",
       "      <td>0.000102</td>\n",
       "    </tr>\n",
       "    <tr>\n",
       "      <th>122</th>\n",
       "      <td>13.170343</td>\n",
       "      <td>24.125240</td>\n",
       "      <td>14.967432</td>\n",
       "      <td>64.241404</td>\n",
       "      <td>1388.891602</td>\n",
       "      <td>0.000060</td>\n",
       "    </tr>\n",
       "  </tbody>\n",
       "</table>\n",
       "<p>123 rows × 6 columns</p>\n",
       "</div>"
      ],
      "text/plain": [
       "     contrast_band_0  contrast_band_1  contrast_band_2  contrast_band_3  \\\n",
       "0          15.005856        15.803830        14.688196        24.244166   \n",
       "1          11.538092        17.175822        11.606954        15.240302   \n",
       "2          10.788908        21.705265        13.804521        64.722306   \n",
       "3           9.010519        26.769925        13.071949        64.811951   \n",
       "4           9.092612        18.925542        14.976012        64.915765   \n",
       "5          13.974140        19.454784        17.655904        64.387228   \n",
       "6           5.434500        15.573780        13.425573        64.634906   \n",
       "7           9.728713        17.847287        13.085870        71.397055   \n",
       "8          10.586659        13.704537         9.909048        78.922899   \n",
       "9          13.767206        16.530590        15.756991        80.626487   \n",
       "10          8.004262        17.741834        20.007825        79.794577   \n",
       "11          6.247385        16.569689        26.717362        78.760241   \n",
       "12          7.904501        15.693448        23.103305        76.687084   \n",
       "13          9.740647        18.524265        32.207201        76.731359   \n",
       "14         13.966255        17.520859        23.976219        76.565402   \n",
       "15         16.290045        21.874335        15.165472        74.461322   \n",
       "16          7.452879        15.420916        16.949948        73.803770   \n",
       "17         15.989833        17.457790        15.270719        73.397101   \n",
       "18         12.990572        13.239690        18.406481        74.513252   \n",
       "19          7.546676        14.257101        26.325926        74.501889   \n",
       "20          6.213983        16.338157        25.405470        75.910893   \n",
       "21          9.424046        15.505794        27.607631        76.333945   \n",
       "22         11.660378        14.536853        23.210342        77.130839   \n",
       "23          8.230356        16.278795        31.445607        76.574708   \n",
       "24         13.068473        17.492971        35.024538        73.706695   \n",
       "25         16.584965        12.136671        29.747059        70.192703   \n",
       "26         13.712788        26.257477        31.059229        68.669246   \n",
       "27         10.664689        14.620203        24.982830        70.794687   \n",
       "28         11.615500        13.624883        19.228537        77.602396   \n",
       "29         10.364935        12.665016        23.530700        80.308142   \n",
       "..               ...              ...              ...              ...   \n",
       "93         18.000191         9.740217        12.859399        72.824178   \n",
       "94         13.880750        12.308109        12.749573        72.439877   \n",
       "95         25.905446        14.285252        11.710772        71.497135   \n",
       "96         11.394685        20.661550        17.859826        70.279095   \n",
       "97          6.411166        22.414771        17.885311        67.512889   \n",
       "98         13.117338        23.248467        18.831620        65.592669   \n",
       "99          9.270052        17.333326        12.816753        65.550033   \n",
       "100         6.805418        18.942249        15.501869        65.353504   \n",
       "101        12.223105        16.742027        15.479608        65.192458   \n",
       "102         5.803920        18.728055        14.130099        64.767883   \n",
       "103        15.053542        14.228939         9.780179        65.148287   \n",
       "104        10.795462        16.176922        13.195307        65.431768   \n",
       "105         8.826811        15.724695        15.001383        65.784720   \n",
       "106        11.451416        14.355209         8.600756        65.901802   \n",
       "107        15.011697        14.622141        10.308042        65.157992   \n",
       "108        10.678417        18.901305        14.856006        64.849045   \n",
       "109        12.022760        20.059791        17.474721        65.069142   \n",
       "110        20.363944        12.519268        10.868871        64.952486   \n",
       "111         9.012470        23.672751        10.478106        64.749524   \n",
       "112        10.059075        17.734418        19.455805        64.989481   \n",
       "113         9.070233        21.768315        16.982028        65.139017   \n",
       "114         8.710306        21.566712        11.017379        65.430365   \n",
       "115         6.535121        21.183595        19.008847        64.327429   \n",
       "116         7.468951        25.632887        14.979948        65.101703   \n",
       "117         8.362174        19.465900        14.069319        65.080219   \n",
       "118         7.180074        20.317020         9.733057        64.943775   \n",
       "119        11.677230        16.677887        10.966658        65.141453   \n",
       "120         5.679796        20.006926        10.514296        64.608144   \n",
       "121        18.450876        15.270881        18.276986        64.426738   \n",
       "122        13.170343        24.125240        14.967432        64.241404   \n",
       "\n",
       "           sroll     sflat  \n",
       "0    1991.821289  0.001007  \n",
       "1    2519.384766  0.001404  \n",
       "2    2842.382812  0.000076  \n",
       "3    2702.416992  0.000063  \n",
       "4    2853.149414  0.000111  \n",
       "5    2896.215820  0.000134  \n",
       "6    3445.312500  0.000189  \n",
       "7    2960.815430  0.000205  \n",
       "8    3208.447266  0.000209  \n",
       "9    3197.680664  0.000118  \n",
       "10   3111.547852  0.000087  \n",
       "11   2950.048828  0.000044  \n",
       "12   2939.282227  0.000028  \n",
       "13   3122.314453  0.000053  \n",
       "14   3552.978516  0.000084  \n",
       "15   4425.073242  0.000073  \n",
       "16   5415.600586  0.000169  \n",
       "17   5835.498047  0.000505  \n",
       "18   5900.097656  0.000616  \n",
       "19   3994.409180  0.000092  \n",
       "20   3413.012695  0.000037  \n",
       "21   3746.777344  0.000034  \n",
       "22   3606.811523  0.000023  \n",
       "23   3326.879883  0.000011  \n",
       "24   2993.115234  0.000006  \n",
       "25   2853.149414  0.000003  \n",
       "26   1916.455078  0.000002  \n",
       "27   2756.250000  0.000015  \n",
       "28   3531.445312  0.000111  \n",
       "29   3283.813477  0.000084  \n",
       "..           ...       ...  \n",
       "93   6083.129883  0.001100  \n",
       "94   5620.166016  0.000756  \n",
       "95   5028.002930  0.000723  \n",
       "96   4242.041016  0.000354  \n",
       "97   3779.077148  0.000212  \n",
       "98   3865.209961  0.000204  \n",
       "99   3875.976562  0.000208  \n",
       "100  3294.580078  0.000147  \n",
       "101  2874.682617  0.000133  \n",
       "102  3003.881836  0.000151  \n",
       "103  3875.976562  0.000225  \n",
       "104  3940.576172  0.000225  \n",
       "105  3165.380859  0.000161  \n",
       "106  3520.678711  0.000202  \n",
       "107  3736.010742  0.000216  \n",
       "108  3456.079102  0.000129  \n",
       "109  3197.680664  0.000113  \n",
       "110  3337.646484  0.000127  \n",
       "111  2971.582031  0.000104  \n",
       "112  2928.515625  0.000111  \n",
       "113  3466.845703  0.000138  \n",
       "114  3423.779297  0.000120  \n",
       "115  2454.785156  0.000069  \n",
       "116  2756.250000  0.000067  \n",
       "117  3133.081055  0.000099  \n",
       "118  3014.648438  0.000112  \n",
       "119  2637.817383  0.000092  \n",
       "120  2336.352539  0.000093  \n",
       "121  2519.384766  0.000102  \n",
       "122  1388.891602  0.000060  \n",
       "\n",
       "[123 rows x 6 columns]"
      ]
     },
     "execution_count": 235,
     "metadata": {},
     "output_type": "execute_result"
    }
   ],
   "source": [
    "res"
   ]
  },
  {
   "cell_type": "code",
   "execution_count": null,
   "metadata": {},
   "outputs": [],
   "source": []
  },
  {
   "cell_type": "code",
   "execution_count": null,
   "metadata": {},
   "outputs": [],
   "source": [
    "def build_2D_model(n_rows, n_cols, n_classes):\n",
    "    model = Sequential()\n",
    "    model.add(Convolution2D(128, (3, 3),\n",
    "                            padding='same',\n",
    "                            input_shape=(n_rows, n_cols, 1),\n",
    "                            activation=\"relu\"))\n",
    "    model.add(MaxPooling2D(padding=\"same\", pool_size=(2,2)))\n",
    "    model.add(Dropout(0.2))\n",
    "    \n",
    "    model.add(Convolution2D(32, (3, 3),\n",
    "                            padding=\"same\",\n",
    "                            activation=\"relu\"))\n",
    "    model.add(MaxPooling2D(padding=\"same\"))\n",
    "    model.add(Dropout(0.2))\n",
    "    \n",
    "    model.add(Flatten())\n",
    "    model.add(Dense(128, activation=\"relu\"))\n",
    "    model.add(Dropout(0.1))    \n",
    "    model.add(Dense(64, activation=\"relu\"))\n",
    "    model.add(Dropout(0.1))\n",
    "    model.add(Dense(32, activation=\"relu\"))\n",
    "    model.add(Dense(n_classes, activation=\"softmax\"))\n",
    "    \n",
    "    model.compile(optimizer=\"adam\", loss=\"categorical_crossentropy\", metrics=['acc'])\n",
    "    return model"
   ]
  },
  {
   "cell_type": "code",
   "execution_count": null,
   "metadata": {},
   "outputs": [],
   "source": []
  },
  {
   "cell_type": "code",
   "execution_count": null,
   "metadata": {},
   "outputs": [],
   "source": []
  },
  {
   "cell_type": "code",
   "execution_count": 210,
   "metadata": {},
   "outputs": [],
   "source": [
    "df = pd.DataFrame()"
   ]
  },
  {
   "cell_type": "code",
   "execution_count": 212,
   "metadata": {},
   "outputs": [
    {
     "ename": "ValueError",
     "evalue": "Length mismatch: Expected axis has 0 elements, new values have 1 elements",
     "output_type": "error",
     "traceback": [
      "\u001b[1;31m---------------------------------------------------------------------------\u001b[0m",
      "\u001b[1;31mValueError\u001b[0m                                Traceback (most recent call last)",
      "\u001b[1;32m<ipython-input-212-d17cdfcf3fc2>\u001b[0m in \u001b[0;36m<module>\u001b[1;34m()\u001b[0m\n\u001b[1;32m----> 1\u001b[1;33m \u001b[0mdf\u001b[0m\u001b[1;33m.\u001b[0m\u001b[0mcolumns\u001b[0m \u001b[1;33m=\u001b[0m \u001b[1;33m[\u001b[0m\u001b[1;34m\"a\"\u001b[0m\u001b[1;33m]\u001b[0m\u001b[1;33m\u001b[0m\u001b[0m\n\u001b[0m",
      "\u001b[1;32m~\\Anaconda3\\envs\\audio\\lib\\site-packages\\pandas\\core\\generic.py\u001b[0m in \u001b[0;36m__setattr__\u001b[1;34m(self, name, value)\u001b[0m\n\u001b[0;32m   4387\u001b[0m         \u001b[1;32mtry\u001b[0m\u001b[1;33m:\u001b[0m\u001b[1;33m\u001b[0m\u001b[0m\n\u001b[0;32m   4388\u001b[0m             \u001b[0mobject\u001b[0m\u001b[1;33m.\u001b[0m\u001b[0m__getattribute__\u001b[0m\u001b[1;33m(\u001b[0m\u001b[0mself\u001b[0m\u001b[1;33m,\u001b[0m \u001b[0mname\u001b[0m\u001b[1;33m)\u001b[0m\u001b[1;33m\u001b[0m\u001b[0m\n\u001b[1;32m-> 4389\u001b[1;33m             \u001b[1;32mreturn\u001b[0m \u001b[0mobject\u001b[0m\u001b[1;33m.\u001b[0m\u001b[0m__setattr__\u001b[0m\u001b[1;33m(\u001b[0m\u001b[0mself\u001b[0m\u001b[1;33m,\u001b[0m \u001b[0mname\u001b[0m\u001b[1;33m,\u001b[0m \u001b[0mvalue\u001b[0m\u001b[1;33m)\u001b[0m\u001b[1;33m\u001b[0m\u001b[0m\n\u001b[0m\u001b[0;32m   4390\u001b[0m         \u001b[1;32mexcept\u001b[0m \u001b[0mAttributeError\u001b[0m\u001b[1;33m:\u001b[0m\u001b[1;33m\u001b[0m\u001b[0m\n\u001b[0;32m   4391\u001b[0m             \u001b[1;32mpass\u001b[0m\u001b[1;33m\u001b[0m\u001b[0m\n",
      "\u001b[1;32mpandas/_libs/properties.pyx\u001b[0m in \u001b[0;36mpandas._libs.properties.AxisProperty.__set__\u001b[1;34m()\u001b[0m\n",
      "\u001b[1;32m~\\Anaconda3\\envs\\audio\\lib\\site-packages\\pandas\\core\\generic.py\u001b[0m in \u001b[0;36m_set_axis\u001b[1;34m(self, axis, labels)\u001b[0m\n\u001b[0;32m    644\u001b[0m \u001b[1;33m\u001b[0m\u001b[0m\n\u001b[0;32m    645\u001b[0m     \u001b[1;32mdef\u001b[0m \u001b[0m_set_axis\u001b[0m\u001b[1;33m(\u001b[0m\u001b[0mself\u001b[0m\u001b[1;33m,\u001b[0m \u001b[0maxis\u001b[0m\u001b[1;33m,\u001b[0m \u001b[0mlabels\u001b[0m\u001b[1;33m)\u001b[0m\u001b[1;33m:\u001b[0m\u001b[1;33m\u001b[0m\u001b[0m\n\u001b[1;32m--> 646\u001b[1;33m         \u001b[0mself\u001b[0m\u001b[1;33m.\u001b[0m\u001b[0m_data\u001b[0m\u001b[1;33m.\u001b[0m\u001b[0mset_axis\u001b[0m\u001b[1;33m(\u001b[0m\u001b[0maxis\u001b[0m\u001b[1;33m,\u001b[0m \u001b[0mlabels\u001b[0m\u001b[1;33m)\u001b[0m\u001b[1;33m\u001b[0m\u001b[0m\n\u001b[0m\u001b[0;32m    647\u001b[0m         \u001b[0mself\u001b[0m\u001b[1;33m.\u001b[0m\u001b[0m_clear_item_cache\u001b[0m\u001b[1;33m(\u001b[0m\u001b[1;33m)\u001b[0m\u001b[1;33m\u001b[0m\u001b[0m\n\u001b[0;32m    648\u001b[0m \u001b[1;33m\u001b[0m\u001b[0m\n",
      "\u001b[1;32m~\\Anaconda3\\envs\\audio\\lib\\site-packages\\pandas\\core\\internals.py\u001b[0m in \u001b[0;36mset_axis\u001b[1;34m(self, axis, new_labels)\u001b[0m\n\u001b[0;32m   3321\u001b[0m             raise ValueError(\n\u001b[0;32m   3322\u001b[0m                 \u001b[1;34m'Length mismatch: Expected axis has {old} elements, new '\u001b[0m\u001b[1;33m\u001b[0m\u001b[0m\n\u001b[1;32m-> 3323\u001b[1;33m                 'values have {new} elements'.format(old=old_len, new=new_len))\n\u001b[0m\u001b[0;32m   3324\u001b[0m \u001b[1;33m\u001b[0m\u001b[0m\n\u001b[0;32m   3325\u001b[0m         \u001b[0mself\u001b[0m\u001b[1;33m.\u001b[0m\u001b[0maxes\u001b[0m\u001b[1;33m[\u001b[0m\u001b[0maxis\u001b[0m\u001b[1;33m]\u001b[0m \u001b[1;33m=\u001b[0m \u001b[0mnew_labels\u001b[0m\u001b[1;33m\u001b[0m\u001b[0m\n",
      "\u001b[1;31mValueError\u001b[0m: Length mismatch: Expected axis has 0 elements, new values have 1 elements"
     ]
    }
   ],
   "source": [
    "df.columns = [\"a\"]"
   ]
  },
  {
   "cell_type": "code",
   "execution_count": 201,
   "metadata": {},
   "outputs": [
    {
     "data": {
      "text/html": [
       "<div>\n",
       "<style scoped>\n",
       "    .dataframe tbody tr th:only-of-type {\n",
       "        vertical-align: middle;\n",
       "    }\n",
       "\n",
       "    .dataframe tbody tr th {\n",
       "        vertical-align: top;\n",
       "    }\n",
       "\n",
       "    .dataframe thead th {\n",
       "        text-align: right;\n",
       "    }\n",
       "</style>\n",
       "<table border=\"1\" class=\"dataframe\">\n",
       "  <thead>\n",
       "    <tr style=\"text-align: right;\">\n",
       "      <th></th>\n",
       "      <th>0</th>\n",
       "      <th>1</th>\n",
       "      <th>2</th>\n",
       "      <th>3</th>\n",
       "    </tr>\n",
       "  </thead>\n",
       "  <tbody>\n",
       "    <tr>\n",
       "      <th>0</th>\n",
       "      <td>15.005856</td>\n",
       "      <td>15.803830</td>\n",
       "      <td>14.688196</td>\n",
       "      <td>24.244166</td>\n",
       "    </tr>\n",
       "    <tr>\n",
       "      <th>1</th>\n",
       "      <td>11.538092</td>\n",
       "      <td>17.175822</td>\n",
       "      <td>11.606954</td>\n",
       "      <td>15.240302</td>\n",
       "    </tr>\n",
       "    <tr>\n",
       "      <th>2</th>\n",
       "      <td>10.788908</td>\n",
       "      <td>21.705265</td>\n",
       "      <td>13.804521</td>\n",
       "      <td>64.722306</td>\n",
       "    </tr>\n",
       "    <tr>\n",
       "      <th>3</th>\n",
       "      <td>9.010519</td>\n",
       "      <td>26.769925</td>\n",
       "      <td>13.071949</td>\n",
       "      <td>64.811951</td>\n",
       "    </tr>\n",
       "    <tr>\n",
       "      <th>4</th>\n",
       "      <td>9.092612</td>\n",
       "      <td>18.925542</td>\n",
       "      <td>14.976012</td>\n",
       "      <td>64.915765</td>\n",
       "    </tr>\n",
       "    <tr>\n",
       "      <th>5</th>\n",
       "      <td>13.974140</td>\n",
       "      <td>19.454784</td>\n",
       "      <td>17.655904</td>\n",
       "      <td>64.387228</td>\n",
       "    </tr>\n",
       "    <tr>\n",
       "      <th>6</th>\n",
       "      <td>5.434500</td>\n",
       "      <td>15.573780</td>\n",
       "      <td>13.425573</td>\n",
       "      <td>64.634906</td>\n",
       "    </tr>\n",
       "    <tr>\n",
       "      <th>7</th>\n",
       "      <td>9.728713</td>\n",
       "      <td>17.847287</td>\n",
       "      <td>13.085870</td>\n",
       "      <td>71.397055</td>\n",
       "    </tr>\n",
       "    <tr>\n",
       "      <th>8</th>\n",
       "      <td>10.586659</td>\n",
       "      <td>13.704537</td>\n",
       "      <td>9.909048</td>\n",
       "      <td>78.922899</td>\n",
       "    </tr>\n",
       "    <tr>\n",
       "      <th>9</th>\n",
       "      <td>13.767206</td>\n",
       "      <td>16.530590</td>\n",
       "      <td>15.756991</td>\n",
       "      <td>80.626487</td>\n",
       "    </tr>\n",
       "    <tr>\n",
       "      <th>10</th>\n",
       "      <td>8.004262</td>\n",
       "      <td>17.741834</td>\n",
       "      <td>20.007825</td>\n",
       "      <td>79.794577</td>\n",
       "    </tr>\n",
       "    <tr>\n",
       "      <th>11</th>\n",
       "      <td>6.247385</td>\n",
       "      <td>16.569689</td>\n",
       "      <td>26.717362</td>\n",
       "      <td>78.760241</td>\n",
       "    </tr>\n",
       "    <tr>\n",
       "      <th>12</th>\n",
       "      <td>7.904501</td>\n",
       "      <td>15.693448</td>\n",
       "      <td>23.103305</td>\n",
       "      <td>76.687084</td>\n",
       "    </tr>\n",
       "    <tr>\n",
       "      <th>13</th>\n",
       "      <td>9.740647</td>\n",
       "      <td>18.524265</td>\n",
       "      <td>32.207201</td>\n",
       "      <td>76.731359</td>\n",
       "    </tr>\n",
       "    <tr>\n",
       "      <th>14</th>\n",
       "      <td>13.966255</td>\n",
       "      <td>17.520859</td>\n",
       "      <td>23.976219</td>\n",
       "      <td>76.565402</td>\n",
       "    </tr>\n",
       "    <tr>\n",
       "      <th>15</th>\n",
       "      <td>16.290045</td>\n",
       "      <td>21.874335</td>\n",
       "      <td>15.165472</td>\n",
       "      <td>74.461322</td>\n",
       "    </tr>\n",
       "    <tr>\n",
       "      <th>16</th>\n",
       "      <td>7.452879</td>\n",
       "      <td>15.420916</td>\n",
       "      <td>16.949948</td>\n",
       "      <td>73.803770</td>\n",
       "    </tr>\n",
       "    <tr>\n",
       "      <th>17</th>\n",
       "      <td>15.989833</td>\n",
       "      <td>17.457790</td>\n",
       "      <td>15.270719</td>\n",
       "      <td>73.397101</td>\n",
       "    </tr>\n",
       "    <tr>\n",
       "      <th>18</th>\n",
       "      <td>12.990572</td>\n",
       "      <td>13.239690</td>\n",
       "      <td>18.406481</td>\n",
       "      <td>74.513252</td>\n",
       "    </tr>\n",
       "    <tr>\n",
       "      <th>19</th>\n",
       "      <td>7.546676</td>\n",
       "      <td>14.257101</td>\n",
       "      <td>26.325926</td>\n",
       "      <td>74.501889</td>\n",
       "    </tr>\n",
       "    <tr>\n",
       "      <th>20</th>\n",
       "      <td>6.213983</td>\n",
       "      <td>16.338157</td>\n",
       "      <td>25.405470</td>\n",
       "      <td>75.910893</td>\n",
       "    </tr>\n",
       "    <tr>\n",
       "      <th>21</th>\n",
       "      <td>9.424046</td>\n",
       "      <td>15.505794</td>\n",
       "      <td>27.607631</td>\n",
       "      <td>76.333945</td>\n",
       "    </tr>\n",
       "    <tr>\n",
       "      <th>22</th>\n",
       "      <td>11.660378</td>\n",
       "      <td>14.536853</td>\n",
       "      <td>23.210342</td>\n",
       "      <td>77.130839</td>\n",
       "    </tr>\n",
       "    <tr>\n",
       "      <th>23</th>\n",
       "      <td>8.230356</td>\n",
       "      <td>16.278795</td>\n",
       "      <td>31.445607</td>\n",
       "      <td>76.574708</td>\n",
       "    </tr>\n",
       "    <tr>\n",
       "      <th>24</th>\n",
       "      <td>13.068473</td>\n",
       "      <td>17.492971</td>\n",
       "      <td>35.024538</td>\n",
       "      <td>73.706695</td>\n",
       "    </tr>\n",
       "    <tr>\n",
       "      <th>25</th>\n",
       "      <td>16.584965</td>\n",
       "      <td>12.136671</td>\n",
       "      <td>29.747059</td>\n",
       "      <td>70.192703</td>\n",
       "    </tr>\n",
       "    <tr>\n",
       "      <th>26</th>\n",
       "      <td>13.712788</td>\n",
       "      <td>26.257477</td>\n",
       "      <td>31.059229</td>\n",
       "      <td>68.669246</td>\n",
       "    </tr>\n",
       "    <tr>\n",
       "      <th>27</th>\n",
       "      <td>10.664689</td>\n",
       "      <td>14.620203</td>\n",
       "      <td>24.982830</td>\n",
       "      <td>70.794687</td>\n",
       "    </tr>\n",
       "    <tr>\n",
       "      <th>28</th>\n",
       "      <td>11.615500</td>\n",
       "      <td>13.624883</td>\n",
       "      <td>19.228537</td>\n",
       "      <td>77.602396</td>\n",
       "    </tr>\n",
       "    <tr>\n",
       "      <th>29</th>\n",
       "      <td>10.364935</td>\n",
       "      <td>12.665016</td>\n",
       "      <td>23.530700</td>\n",
       "      <td>80.308142</td>\n",
       "    </tr>\n",
       "    <tr>\n",
       "      <th>...</th>\n",
       "      <td>...</td>\n",
       "      <td>...</td>\n",
       "      <td>...</td>\n",
       "      <td>...</td>\n",
       "    </tr>\n",
       "    <tr>\n",
       "      <th>93</th>\n",
       "      <td>18.000191</td>\n",
       "      <td>9.740217</td>\n",
       "      <td>12.859399</td>\n",
       "      <td>72.824178</td>\n",
       "    </tr>\n",
       "    <tr>\n",
       "      <th>94</th>\n",
       "      <td>13.880750</td>\n",
       "      <td>12.308109</td>\n",
       "      <td>12.749573</td>\n",
       "      <td>72.439877</td>\n",
       "    </tr>\n",
       "    <tr>\n",
       "      <th>95</th>\n",
       "      <td>25.905446</td>\n",
       "      <td>14.285252</td>\n",
       "      <td>11.710772</td>\n",
       "      <td>71.497135</td>\n",
       "    </tr>\n",
       "    <tr>\n",
       "      <th>96</th>\n",
       "      <td>11.394685</td>\n",
       "      <td>20.661550</td>\n",
       "      <td>17.859826</td>\n",
       "      <td>70.279095</td>\n",
       "    </tr>\n",
       "    <tr>\n",
       "      <th>97</th>\n",
       "      <td>6.411166</td>\n",
       "      <td>22.414771</td>\n",
       "      <td>17.885311</td>\n",
       "      <td>67.512889</td>\n",
       "    </tr>\n",
       "    <tr>\n",
       "      <th>98</th>\n",
       "      <td>13.117338</td>\n",
       "      <td>23.248467</td>\n",
       "      <td>18.831620</td>\n",
       "      <td>65.592669</td>\n",
       "    </tr>\n",
       "    <tr>\n",
       "      <th>99</th>\n",
       "      <td>9.270052</td>\n",
       "      <td>17.333326</td>\n",
       "      <td>12.816753</td>\n",
       "      <td>65.550033</td>\n",
       "    </tr>\n",
       "    <tr>\n",
       "      <th>100</th>\n",
       "      <td>6.805418</td>\n",
       "      <td>18.942249</td>\n",
       "      <td>15.501869</td>\n",
       "      <td>65.353504</td>\n",
       "    </tr>\n",
       "    <tr>\n",
       "      <th>101</th>\n",
       "      <td>12.223105</td>\n",
       "      <td>16.742027</td>\n",
       "      <td>15.479608</td>\n",
       "      <td>65.192458</td>\n",
       "    </tr>\n",
       "    <tr>\n",
       "      <th>102</th>\n",
       "      <td>5.803920</td>\n",
       "      <td>18.728055</td>\n",
       "      <td>14.130099</td>\n",
       "      <td>64.767883</td>\n",
       "    </tr>\n",
       "    <tr>\n",
       "      <th>103</th>\n",
       "      <td>15.053542</td>\n",
       "      <td>14.228939</td>\n",
       "      <td>9.780179</td>\n",
       "      <td>65.148287</td>\n",
       "    </tr>\n",
       "    <tr>\n",
       "      <th>104</th>\n",
       "      <td>10.795462</td>\n",
       "      <td>16.176922</td>\n",
       "      <td>13.195307</td>\n",
       "      <td>65.431768</td>\n",
       "    </tr>\n",
       "    <tr>\n",
       "      <th>105</th>\n",
       "      <td>8.826811</td>\n",
       "      <td>15.724695</td>\n",
       "      <td>15.001383</td>\n",
       "      <td>65.784720</td>\n",
       "    </tr>\n",
       "    <tr>\n",
       "      <th>106</th>\n",
       "      <td>11.451416</td>\n",
       "      <td>14.355209</td>\n",
       "      <td>8.600756</td>\n",
       "      <td>65.901802</td>\n",
       "    </tr>\n",
       "    <tr>\n",
       "      <th>107</th>\n",
       "      <td>15.011697</td>\n",
       "      <td>14.622141</td>\n",
       "      <td>10.308042</td>\n",
       "      <td>65.157992</td>\n",
       "    </tr>\n",
       "    <tr>\n",
       "      <th>108</th>\n",
       "      <td>10.678417</td>\n",
       "      <td>18.901305</td>\n",
       "      <td>14.856006</td>\n",
       "      <td>64.849045</td>\n",
       "    </tr>\n",
       "    <tr>\n",
       "      <th>109</th>\n",
       "      <td>12.022760</td>\n",
       "      <td>20.059791</td>\n",
       "      <td>17.474721</td>\n",
       "      <td>65.069142</td>\n",
       "    </tr>\n",
       "    <tr>\n",
       "      <th>110</th>\n",
       "      <td>20.363944</td>\n",
       "      <td>12.519268</td>\n",
       "      <td>10.868871</td>\n",
       "      <td>64.952486</td>\n",
       "    </tr>\n",
       "    <tr>\n",
       "      <th>111</th>\n",
       "      <td>9.012470</td>\n",
       "      <td>23.672751</td>\n",
       "      <td>10.478106</td>\n",
       "      <td>64.749524</td>\n",
       "    </tr>\n",
       "    <tr>\n",
       "      <th>112</th>\n",
       "      <td>10.059075</td>\n",
       "      <td>17.734418</td>\n",
       "      <td>19.455805</td>\n",
       "      <td>64.989481</td>\n",
       "    </tr>\n",
       "    <tr>\n",
       "      <th>113</th>\n",
       "      <td>9.070233</td>\n",
       "      <td>21.768315</td>\n",
       "      <td>16.982028</td>\n",
       "      <td>65.139017</td>\n",
       "    </tr>\n",
       "    <tr>\n",
       "      <th>114</th>\n",
       "      <td>8.710306</td>\n",
       "      <td>21.566712</td>\n",
       "      <td>11.017379</td>\n",
       "      <td>65.430365</td>\n",
       "    </tr>\n",
       "    <tr>\n",
       "      <th>115</th>\n",
       "      <td>6.535121</td>\n",
       "      <td>21.183595</td>\n",
       "      <td>19.008847</td>\n",
       "      <td>64.327429</td>\n",
       "    </tr>\n",
       "    <tr>\n",
       "      <th>116</th>\n",
       "      <td>7.468951</td>\n",
       "      <td>25.632887</td>\n",
       "      <td>14.979948</td>\n",
       "      <td>65.101703</td>\n",
       "    </tr>\n",
       "    <tr>\n",
       "      <th>117</th>\n",
       "      <td>8.362174</td>\n",
       "      <td>19.465900</td>\n",
       "      <td>14.069319</td>\n",
       "      <td>65.080219</td>\n",
       "    </tr>\n",
       "    <tr>\n",
       "      <th>118</th>\n",
       "      <td>7.180074</td>\n",
       "      <td>20.317020</td>\n",
       "      <td>9.733057</td>\n",
       "      <td>64.943775</td>\n",
       "    </tr>\n",
       "    <tr>\n",
       "      <th>119</th>\n",
       "      <td>11.677230</td>\n",
       "      <td>16.677887</td>\n",
       "      <td>10.966658</td>\n",
       "      <td>65.141453</td>\n",
       "    </tr>\n",
       "    <tr>\n",
       "      <th>120</th>\n",
       "      <td>5.679796</td>\n",
       "      <td>20.006926</td>\n",
       "      <td>10.514296</td>\n",
       "      <td>64.608144</td>\n",
       "    </tr>\n",
       "    <tr>\n",
       "      <th>121</th>\n",
       "      <td>18.450876</td>\n",
       "      <td>15.270881</td>\n",
       "      <td>18.276986</td>\n",
       "      <td>64.426738</td>\n",
       "    </tr>\n",
       "    <tr>\n",
       "      <th>122</th>\n",
       "      <td>13.170343</td>\n",
       "      <td>24.125240</td>\n",
       "      <td>14.967432</td>\n",
       "      <td>64.241404</td>\n",
       "    </tr>\n",
       "  </tbody>\n",
       "</table>\n",
       "<p>123 rows × 4 columns</p>\n",
       "</div>"
      ],
      "text/plain": [
       "             0          1          2          3\n",
       "0    15.005856  15.803830  14.688196  24.244166\n",
       "1    11.538092  17.175822  11.606954  15.240302\n",
       "2    10.788908  21.705265  13.804521  64.722306\n",
       "3     9.010519  26.769925  13.071949  64.811951\n",
       "4     9.092612  18.925542  14.976012  64.915765\n",
       "5    13.974140  19.454784  17.655904  64.387228\n",
       "6     5.434500  15.573780  13.425573  64.634906\n",
       "7     9.728713  17.847287  13.085870  71.397055\n",
       "8    10.586659  13.704537   9.909048  78.922899\n",
       "9    13.767206  16.530590  15.756991  80.626487\n",
       "10    8.004262  17.741834  20.007825  79.794577\n",
       "11    6.247385  16.569689  26.717362  78.760241\n",
       "12    7.904501  15.693448  23.103305  76.687084\n",
       "13    9.740647  18.524265  32.207201  76.731359\n",
       "14   13.966255  17.520859  23.976219  76.565402\n",
       "15   16.290045  21.874335  15.165472  74.461322\n",
       "16    7.452879  15.420916  16.949948  73.803770\n",
       "17   15.989833  17.457790  15.270719  73.397101\n",
       "18   12.990572  13.239690  18.406481  74.513252\n",
       "19    7.546676  14.257101  26.325926  74.501889\n",
       "20    6.213983  16.338157  25.405470  75.910893\n",
       "21    9.424046  15.505794  27.607631  76.333945\n",
       "22   11.660378  14.536853  23.210342  77.130839\n",
       "23    8.230356  16.278795  31.445607  76.574708\n",
       "24   13.068473  17.492971  35.024538  73.706695\n",
       "25   16.584965  12.136671  29.747059  70.192703\n",
       "26   13.712788  26.257477  31.059229  68.669246\n",
       "27   10.664689  14.620203  24.982830  70.794687\n",
       "28   11.615500  13.624883  19.228537  77.602396\n",
       "29   10.364935  12.665016  23.530700  80.308142\n",
       "..         ...        ...        ...        ...\n",
       "93   18.000191   9.740217  12.859399  72.824178\n",
       "94   13.880750  12.308109  12.749573  72.439877\n",
       "95   25.905446  14.285252  11.710772  71.497135\n",
       "96   11.394685  20.661550  17.859826  70.279095\n",
       "97    6.411166  22.414771  17.885311  67.512889\n",
       "98   13.117338  23.248467  18.831620  65.592669\n",
       "99    9.270052  17.333326  12.816753  65.550033\n",
       "100   6.805418  18.942249  15.501869  65.353504\n",
       "101  12.223105  16.742027  15.479608  65.192458\n",
       "102   5.803920  18.728055  14.130099  64.767883\n",
       "103  15.053542  14.228939   9.780179  65.148287\n",
       "104  10.795462  16.176922  13.195307  65.431768\n",
       "105   8.826811  15.724695  15.001383  65.784720\n",
       "106  11.451416  14.355209   8.600756  65.901802\n",
       "107  15.011697  14.622141  10.308042  65.157992\n",
       "108  10.678417  18.901305  14.856006  64.849045\n",
       "109  12.022760  20.059791  17.474721  65.069142\n",
       "110  20.363944  12.519268  10.868871  64.952486\n",
       "111   9.012470  23.672751  10.478106  64.749524\n",
       "112  10.059075  17.734418  19.455805  64.989481\n",
       "113   9.070233  21.768315  16.982028  65.139017\n",
       "114   8.710306  21.566712  11.017379  65.430365\n",
       "115   6.535121  21.183595  19.008847  64.327429\n",
       "116   7.468951  25.632887  14.979948  65.101703\n",
       "117   8.362174  19.465900  14.069319  65.080219\n",
       "118   7.180074  20.317020   9.733057  64.943775\n",
       "119  11.677230  16.677887  10.966658  65.141453\n",
       "120   5.679796  20.006926  10.514296  64.608144\n",
       "121  18.450876  15.270881  18.276986  64.426738\n",
       "122  13.170343  24.125240  14.967432  64.241404\n",
       "\n",
       "[123 rows x 4 columns]"
      ]
     },
     "execution_count": 201,
     "metadata": {},
     "output_type": "execute_result"
    }
   ],
   "source": [
    "pd.DataFrame(scont)"
   ]
  },
  {
   "cell_type": "code",
   "execution_count": 191,
   "metadata": {},
   "outputs": [
    {
     "data": {
      "text/plain": [
       "['contrast_band_0', 'contrast_band_1', 'contrast_band_2', 'contrast_band_3']"
      ]
     },
     "execution_count": 191,
     "metadata": {},
     "output_type": "execute_result"
    }
   ],
   "source": [
    "n_cont_bands=4\n"
   ]
  },
  {
   "cell_type": "markdown",
   "metadata": {},
   "source": [
    "# MFCC"
   ]
  },
  {
   "cell_type": "code",
   "execution_count": 69,
   "metadata": {},
   "outputs": [
    {
     "data": {
      "text/plain": [
       "20"
      ]
     },
     "execution_count": 69,
     "metadata": {},
     "output_type": "execute_result"
    }
   ],
   "source": [
    "len(librosa.feature.mfcc(y, sr))"
   ]
  },
  {
   "cell_type": "code",
   "execution_count": 154,
   "metadata": {
    "scrolled": true
   },
   "outputs": [
    {
     "data": {
      "text/plain": [
       "array([[-786.69784723, -786.69784723, -786.69784723, -786.69784723,\n",
       "        -786.69784723, -786.69784723, -786.69784723, -786.69784723,\n",
       "        -786.69784723, -786.69784723, -786.69784723, -786.69784723,\n",
       "        -786.69784723, -786.69784723, -786.69784723, -786.69784723,\n",
       "        -786.69784723, -786.69784723, -786.69784723, -786.69784723,\n",
       "        -786.69784723, -786.69784723, -786.69784723, -786.69784723,\n",
       "        -786.69784723, -786.69784723, -786.69784723, -786.69784723,\n",
       "        -786.69784723, -786.69784723, -786.69784723, -786.69784723,\n",
       "        -786.69784723, -786.69784723, -786.69784723, -786.69784723,\n",
       "        -786.69784723, -786.69784723, -786.69784723, -786.69784723,\n",
       "        -784.68735312, -772.52395727, -469.2811249 , -337.20794353,\n",
       "        -308.07972227, -331.69814203, -338.89687997, -346.29402857,\n",
       "        -335.48737472, -316.96268137, -296.43265057, -308.98232219,\n",
       "        -360.85500401, -433.57715223, -428.56397162, -387.38936253,\n",
       "        -388.19376744, -361.92137722, -337.51273316, -357.04655361,\n",
       "        -383.62185786, -374.6522123 , -354.68288146, -358.85464955,\n",
       "        -372.98047044, -397.81824403, -412.69915198, -426.33362898,\n",
       "        -371.19755765, -354.72899922, -346.00337149, -336.37988985,\n",
       "        -345.10118515, -371.38549608, -410.4653255 , -449.03056602,\n",
       "        -469.76944913, -477.32531886, -462.33730141, -361.34247827,\n",
       "        -303.62868559, -297.2557376 , -299.63352771, -316.64123362,\n",
       "        -379.23547607, -358.08014776, -342.62817352, -381.20186319,\n",
       "        -475.74314755, -420.01896489, -351.68075147, -350.88780264,\n",
       "        -390.65514112, -409.37280242, -428.30487009, -449.88513784,\n",
       "        -433.10988504, -398.64991858, -385.41042243, -387.22730792,\n",
       "        -414.07289485, -395.15287011, -386.43043323, -417.20432368,\n",
       "        -494.54099085, -567.2069277 , -623.63395673, -665.07251835,\n",
       "        -694.73325108, -738.9169135 , -757.55881635, -763.14100259,\n",
       "        -765.24552767, -769.32582887, -776.43394771, -769.74514813,\n",
       "        -766.74729595, -771.57036396, -778.65868417, -783.68835858,\n",
       "        -779.64005327, -777.2298595 , -779.77102231, -783.524051  ,\n",
       "        -776.45640086, -773.59603921, -780.79829943, -781.50514481,\n",
       "        -781.18077111, -783.17646289, -782.34979125, -780.0487278 ,\n",
       "        -779.94830428, -782.72940945, -783.82247383, -781.56147843,\n",
       "        -776.9703309 , -774.25979296, -779.00296282, -783.88571138,\n",
       "        -784.51344673, -782.50869613, -780.63236647, -779.64941853,\n",
       "        -781.97301922, -782.80349356, -785.75234123, -782.93422693,\n",
       "        -782.67583976],\n",
       "       [   0.        ,    0.        ,    0.        ,    0.        ,\n",
       "           0.        ,    0.        ,    0.        ,    0.        ,\n",
       "           0.        ,    0.        ,    0.        ,    0.        ,\n",
       "           0.        ,    0.        ,    0.        ,    0.        ,\n",
       "           0.        ,    0.        ,    0.        ,    0.        ,\n",
       "           0.        ,    0.        ,    0.        ,    0.        ,\n",
       "           0.        ,    0.        ,    0.        ,    0.        ,\n",
       "           0.        ,    0.        ,    0.        ,    0.        ,\n",
       "           0.        ,    0.        ,    0.        ,    0.        ,\n",
       "           0.        ,    0.        ,    0.        ,    0.        ,\n",
       "           2.83500003,   19.10944461,   56.73502774,   81.45602787,\n",
       "         100.21432271,  106.13419472,  100.2865321 ,   99.15772285,\n",
       "          95.48389729,   98.79835258,  113.20353222,  116.97136909,\n",
       "         119.12619221,  138.53175576,  110.00918994,   69.00522515,\n",
       "          41.6242792 ,    6.46867961,   10.26144116,   42.76331452,\n",
       "          66.10938001,   89.66831555,   30.54487243,  -20.22815389,\n",
       "         -35.31179407,  -39.611673  ,  -42.60654532,  -36.44226782,\n",
       "           1.90633739,   19.68273897,   28.48896157,   55.65647809,\n",
       "          56.85775678,   45.01765821,   40.75542445,   56.45353395,\n",
       "          79.38813372,  109.25787034,  138.91860728,  132.68300539,\n",
       "         118.25996389,   97.29436727,   90.77365402,  103.22713151,\n",
       "         118.43314647,   93.15833436,   95.23615114,  117.97968716,\n",
       "         131.73586862,   52.19025757,   49.20287304,   78.25533538,\n",
       "         123.92211095,  124.94030918,  127.51629533,  155.09454156,\n",
       "         166.45241785,  177.8011625 ,  196.88478427,  192.4847541 ,\n",
       "         189.18421219,  182.47620321,  177.34364595,  169.55542931,\n",
       "         155.46619386,  138.15764526,  124.08615016,   94.74612078,\n",
       "          65.14731168,   50.05313245,   36.34746262,   30.84038342,\n",
       "          27.98159084,   22.63822735,   13.76959934,   20.66057239,\n",
       "          23.14331759,   18.10522716,   11.1203686 ,    4.2192955 ,\n",
       "           9.8470878 ,   12.94209031,    9.61599052,    4.19071675,\n",
       "          13.46564834,   17.13723129,    7.87018229,    6.8981028 ,\n",
       "           7.45174489,    4.80029866,    6.02963087,    9.26435098,\n",
       "           9.13174695,    5.16572096,    3.93225676,    7.0075419 ,\n",
       "          13.21813496,   16.95989452,   10.41982095,    3.85477647,\n",
       "           3.02930889,    5.72549544,    8.0108676 ,    9.47047131,\n",
       "           6.43235159,    5.2640059 ,    1.31030319,    5.18109328,\n",
       "           5.54760157]])"
      ]
     },
     "execution_count": 154,
     "metadata": {},
     "output_type": "execute_result"
    }
   ],
   "source": [
    "librosa.feature.mfcc(y, sr, n_mfcc=2)"
   ]
  },
  {
   "cell_type": "code",
   "execution_count": 155,
   "metadata": {},
   "outputs": [
    {
     "data": {
      "text/plain": [
       "<matplotlib.axes._subplots.AxesSubplot at 0x28324137f60>"
      ]
     },
     "execution_count": 155,
     "metadata": {},
     "output_type": "execute_result"
    },
    {
     "data": {
      "image/png": "[encoded data removed]",
      "text/plain": [
       "<Figure size 432x288 with 1 Axes>"
      ]
     },
     "metadata": {},
     "output_type": "display_data"
    }
   ],
   "source": [
    "librosa.display.specshow(librosa.feature.mfcc(y, sr, n_mfcc=2))"
   ]
  },
  {
   "cell_type": "code",
   "execution_count": null,
   "metadata": {},
   "outputs": [],
   "source": []
  },
  {
   "cell_type": "code",
   "execution_count": null,
   "metadata": {},
   "outputs": [],
   "source": []
  },
  {
   "cell_type": "code",
   "execution_count": null,
   "metadata": {},
   "outputs": [],
   "source": []
  },
  {
   "cell_type": "code",
   "execution_count": 39,
   "metadata": {},
   "outputs": [],
   "source": [
    "f = librosa.stft(y)"
   ]
  },
  {
   "cell_type": "code",
   "execution_count": 41,
   "metadata": {},
   "outputs": [
    {
     "data": {
      "text/plain": [
       "array([-0.01458162, -0.01551788, -0.01243198, ...,  0.        ,\n",
       "        0.        ,  0.        ], dtype=float32)"
      ]
     },
     "execution_count": 41,
     "metadata": {},
     "output_type": "execute_result"
    }
   ],
   "source": [
    "y"
   ]
  },
  {
   "cell_type": "code",
   "execution_count": 48,
   "metadata": {},
   "outputs": [
    {
     "name": "stderr",
     "output_type": "stream",
     "text": [
      "C:\\Users\\chris\\Anaconda3\\envs\\audio\\lib\\site-packages\\librosa\\util\\utils.py:826: FutureWarning: Using a non-tuple sequence for multidimensional indexing is deprecated; use `arr[tuple(seq)]` instead of `arr[seq]`. In the future this will be interpreted as an array index, `arr[np.array(seq)]`, which will result either in an error or a different result.\n",
      "  return (x > x_pad[inds1]) & (x >= x_pad[inds2])\n"
     ]
    }
   ],
   "source": [
    "cst = librosa.feature.chroma_stft(y, sr)"
   ]
  },
  {
   "cell_type": "code",
   "execution_count": 47,
   "metadata": {},
   "outputs": [
    {
     "data": {
      "text/plain": [
       "12"
      ]
     },
     "execution_count": 47,
     "metadata": {},
     "output_type": "execute_result"
    }
   ],
   "source": [
    "len(cst)"
   ]
  },
  {
   "cell_type": "code",
   "execution_count": null,
   "metadata": {},
   "outputs": [],
   "source": []
  },
  {
   "cell_type": "code",
   "execution_count": null,
   "metadata": {},
   "outputs": [],
   "source": []
  },
  {
   "cell_type": "code",
   "execution_count": null,
   "metadata": {},
   "outputs": [],
   "source": []
  },
  {
   "cell_type": "code",
   "execution_count": 36,
   "metadata": {},
   "outputs": [
    {
     "name": "stderr",
     "output_type": "stream",
     "text": [
      "C:\\Users\\chris\\Anaconda3\\envs\\audio\\lib\\site-packages\\numpy\\core\\numeric.py:501: ComplexWarning: Casting complex values to real discards the imaginary part\n",
      "  return array(a, dtype, copy=False, order=order)\n"
     ]
    },
    {
     "data": {
      "text/plain": [
       "[<matplotlib.lines.Line2D at 0x2831f7b3c88>]"
      ]
     },
     "execution_count": 36,
     "metadata": {},
     "output_type": "execute_result"
    },
    {
     "data": {
      "image/png": "[encoded data removed]",
      "text/plain": [
       "<Figure size 432x288 with 1 Axes>"
      ]
     },
     "metadata": {},
     "output_type": "display_data"
    }
   ],
   "source": [
    "plt.plot(f[600])"
   ]
  },
  {
   "cell_type": "code",
   "execution_count": 213,
   "metadata": {},
   "outputs": [
    {
     "name": "stdout",
     "output_type": "stream",
     "text": [
      "ARGH\n",
      "ARGH\n",
      "ARGH\n",
      "ARGH\n",
      "ARGH\n",
      "ARGH\n",
      "ARGH\n",
      "ARGH\n",
      "ARGH\n",
      "ARGH\n",
      "ARGH\n",
      "ARGH\n",
      "ARGH\n",
      "ARGH\n",
      "ARGH\n",
      "ARGH\n",
      "ARGH\n",
      "1000\n",
      "ARGH\n",
      "ARGH\n",
      "ARGH\n",
      "ARGH\n",
      "ARGH\n",
      "ARGH\n",
      "ARGH\n",
      "FILE ARGH - 1009_TAI_ANG_XX.wav\n",
      "ARGH\n",
      "ARGH\n",
      "ARGH\n",
      "ARGH\n",
      "Wall time: 7min 21s\n"
     ]
    },
    {
     "data": {
      "image/png": "[encoded data removed]",
      "text/plain": [
       "<Figure size 1440x720 with 1 Axes>"
      ]
     },
     "metadata": {},
     "output_type": "display_data"
    }
   ],
   "source": [
    "%%time\n",
    "fig, ax = plt.subplots()\n",
    "fig.set_figwidth(20)\n",
    "fig.set_figheight(10)\n",
    "\n",
    "lo_cut = 0.05\n",
    "window_size = 10000\n",
    "mfccs = []\n",
    "ys = []\n",
    "bad_filepaths = []\n",
    "\n",
    "iterator = 0\n",
    "for path in filenames:\n",
    "    iterator += 1\n",
    "    if iterator % 1000 == 0:\n",
    "        print(iterator)\n",
    "    \n",
    "    fn = os.path.basename(path)\n",
    "    try:\n",
    "        y, sr = librosa.load(path)\n",
    "    except:\n",
    "        bad_filepaths.append(path)\n",
    "        print(\"FILE ARGH - {}\".format(fn))\n",
    "        continue\n",
    "    #print(sr)\n",
    "    \n",
    "    # Scale between -1 and 1\n",
    "    yAbs = np.abs(y)\n",
    "    \n",
    "    yAbs = pd.Series(yAbs)\n",
    "    # WE CHOP OFF THE SILENCE AT THE END AND THE START\n",
    "    # This is achieved by establishing a baseline level for \"silence\" which is a actually relative\n",
    "    \n",
    "    yRoll = yAbs.rolling(window_size).mean().values[window_size:-window_size]\n",
    "    yBaseline = yRoll[0]\n",
    "    \n",
    "    # Finds the first yRoll index that goes above the baseline\n",
    "    try:\n",
    "        sound_barrier_breaks = list(yRoll > yBaseline + 0.002)\n",
    "        first_baseline_break = sound_barrier_breaks.index(True)\n",
    "        sound_barrier_breaks.reverse()\n",
    "        last_baseline_break = -sound_barrier_breaks.index(True)        \n",
    "    except:\n",
    "        bad_filepaths.append(path)\n",
    "        print(\"ARGH\")\n",
    "        continue\n",
    "        \n",
    "    # The indices are offset because of the rolling window, this corrects for them\n",
    "    true_first_index = first_baseline_break + int(window_size * 0.5) # We don't know where within the window the sound started\n",
    "    true_final_index = last_baseline_break - int(window_size * 0.5) # We don't know where within the window the sound started\n",
    "\n",
    "    \n",
    "    #yRoll = yRoll[first_baseline_break:last_baseline_break]\n",
    "    y = y[true_first_index:true_final_index]\n",
    "    \n",
    "    # Scale to -1, 1 min and max\n",
    "    y_scale_factor = np.max(np.abs(y))\n",
    "    y = y * (1/y_scale_factor)\n",
    "    \n",
    "    mfcc = librosa.feature.mfcc(y, sr=sr)\n",
    "    mfccs.append(mfcc)\n",
    "    ys.append(y)\n",
    "    #ax.plot(y, alpha=0.2)\n"
   ]
  },
  {
   "cell_type": "code",
   "execution_count": 216,
   "metadata": {},
   "outputs": [],
   "source": [
    "bad_filenames = [os.path.basename(x) for x in bad_filepaths]"
   ]
  },
  {
   "cell_type": "code",
   "execution_count": 220,
   "metadata": {},
   "outputs": [],
   "source": [
    "pd.DataFrame([bad_filenames, bad_filepaths]).to_csv(\"bad_files.csv\")"
   ]
  },
  {
   "cell_type": "code",
   "execution_count": 228,
   "metadata": {},
   "outputs": [],
   "source": [
    "with open(\"mfccs.p\", \"wb\") as fp:\n",
    "    pickle.dump(mfccs, fp)"
   ]
  },
  {
   "cell_type": "code",
   "execution_count": 231,
   "metadata": {},
   "outputs": [],
   "source": [
    "with open(\"ys.p\", \"wb\") as fp:\n",
    "    pickle.dump(ys, fp)"
   ]
  },
  {
   "cell_type": "code",
   "execution_count": 214,
   "metadata": {},
   "outputs": [
    {
     "data": {
      "text/plain": [
       "1729"
      ]
     },
     "execution_count": 214,
     "metadata": {},
     "output_type": "execute_result"
    }
   ],
   "source": [
    "len(mfccs)"
   ]
  },
  {
   "cell_type": "code",
   "execution_count": null,
   "metadata": {},
   "outputs": [],
   "source": []
  },
  {
   "cell_type": "code",
   "execution_count": null,
   "metadata": {},
   "outputs": [],
   "source": []
  },
  {
   "cell_type": "code",
   "execution_count": null,
   "metadata": {},
   "outputs": [],
   "source": []
  },
  {
   "cell_type": "code",
   "execution_count": null,
   "metadata": {},
   "outputs": [],
   "source": []
  },
  {
   "cell_type": "code",
   "execution_count": null,
   "metadata": {},
   "outputs": [],
   "source": []
  },
  {
   "cell_type": "code",
   "execution_count": null,
   "metadata": {},
   "outputs": [],
   "source": []
  },
  {
   "cell_type": "code",
   "execution_count": null,
   "metadata": {},
   "outputs": [],
   "source": []
  },
  {
   "cell_type": "code",
   "execution_count": null,
   "metadata": {},
   "outputs": [],
   "source": []
  },
  {
   "cell_type": "code",
   "execution_count": null,
   "metadata": {},
   "outputs": [],
   "source": []
  },
  {
   "cell_type": "code",
   "execution_count": null,
   "metadata": {},
   "outputs": [],
   "source": []
  },
  {
   "cell_type": "markdown",
   "metadata": {
    "_cell_guid": "a715d812-98fc-459a-8695-13940b2ca1de",
    "_uuid": "d0ed18e06d39f962d1a2a58f4743171c9c4970e9"
   },
   "source": [
    "### Reading Audio Files\n",
    "\n",
    "The audios are [Pulse-code modulated](https://en.wikipedia.org/wiki/Audio_bit_depth) with a [bit depth](https://en.wikipedia.org/wiki/Audio_bit_depth) of 16 and a [sampling rate](https://en.wikipedia.org/wiki/Sampling_%28signal_processing%29) of 44.1 kHz\n",
    "\n",
    "![16-bit PCM](https://upload.wikimedia.org/wikipedia/commons/thumb/b/bf/Pcm.svg/500px-Pcm.svg.png)\n",
    "\n",
    "* **Bit-depth = 16**: The amplitude of each sample in the audio is one of 2^16 (=65536) possible values. \n",
    "* **Samplig rate = 44.1 kHz**: Each second in the audio consists of 44100 samples. So, if the duration of the audio file is 3.2 seconds, the audio will consist of 44100\\*3.2 = 141120 values.\n",
    "\n",
    "Let's listen to an audio file in our dataset and load it to a numpy array"
   ]
  },
  {
   "cell_type": "markdown",
   "metadata": {},
   "source": [
    "## MFCC Transformations"
   ]
  },
  {
   "cell_type": "code",
   "execution_count": 71,
   "metadata": {
    "scrolled": false
   },
   "outputs": [
    {
     "data": {
      "text/plain": [
       "[<matplotlib.lines.Line2D at 0x1a6a9467588>]"
      ]
     },
     "execution_count": 71,
     "metadata": {},
     "output_type": "execute_result"
    },
    {
     "data": {
      "image/png": "[encoded data removed]",
      "text/plain": [
       "<Figure size 432x288 with 1 Axes>"
      ]
     },
     "metadata": {},
     "output_type": "display_data"
    }
   ],
   "source": [
    "def mel(x):\n",
    "    return 1127 * (np.log(1+(x/700)))\n",
    "\n",
    "def melInverse(x):\n",
    "    return 700 * ((np.e ** (x/1127)) - 1)\n",
    "\n",
    "x = np.linspace(start=0,stop=10000, num=100)\n",
    "y = [mel(a) for a in x]\n",
    "plt.plot(y)"
   ]
  },
  {
   "cell_type": "markdown",
   "metadata": {},
   "source": [
    "# Librosa bizz"
   ]
  },
  {
   "cell_type": "code",
   "execution_count": 6,
   "metadata": {},
   "outputs": [],
   "source": [
    "# SR = sampling rate\n",
    "#frame = short audio cliep == spectrogram column\n",
    "# n_fft = samples per frame\n",
    "# hop_length = num samples between frames"
   ]
  },
  {
   "cell_type": "code",
   "execution_count": 9,
   "metadata": {
    "scrolled": true
   },
   "outputs": [
    {
     "name": "stdout",
     "output_type": "stream",
     "text": [
      "22050\n"
     ]
    },
    {
     "data": {
      "text/plain": [
       "[<matplotlib.lines.Line2D at 0x1eb8853e0b8>]"
      ]
     },
     "execution_count": 9,
     "metadata": {},
     "output_type": "execute_result"
    },
    {
     "data": {
      "image/png": "[encoded data removed]",
      "text/plain": [
       "<Figure size 432x288 with 1 Axes>"
      ]
     },
     "metadata": {},
     "output_type": "display_data"
    }
   ],
   "source": [
    "# Numpy array, sampling rate\n",
    "y, sr = librosa.load(filenames[10])\n",
    "print(sr)\n",
    "plt.plot(y)"
   ]
  },
  {
   "cell_type": "code",
   "execution_count": 10,
   "metadata": {},
   "outputs": [],
   "source": [
    "shortTimeFourierTransform = librosa.stft(y[200:300])\n",
    "mfcc = librosa.feature.mfcc(y, sr=sr)"
   ]
  },
  {
   "cell_type": "markdown",
   "metadata": {},
   "source": [
    "https://musicinformationretrieval.com/mfcc.html"
   ]
  },
  {
   "cell_type": "code",
   "execution_count": 11,
   "metadata": {},
   "outputs": [
    {
     "name": "stdout",
     "output_type": "stream",
     "text": [
      "20 features over 170 'frames' (where a frame is an overlapping chunk of time)\n"
     ]
    }
   ],
   "source": [
    "shape = mfcc.shape\n",
    "\n",
    "print(\"{} features over {} 'frames' (where a frame is an overlapping chunk of time)\".format(shape[0], shape[1]))"
   ]
  },
  {
   "cell_type": "code",
   "execution_count": 12,
   "metadata": {
    "scrolled": false
   },
   "outputs": [
    {
     "data": {
      "text/plain": [
       "<matplotlib.axes._subplots.AxesSubplot at 0x1eb8869e1d0>"
      ]
     },
     "execution_count": 12,
     "metadata": {},
     "output_type": "execute_result"
    },
    {
     "data": {
      "image/png": "[encoded data removed]",
      "text/plain": [
       "<Figure size 1080x576 with 1 Axes>"
      ]
     },
     "metadata": {},
     "output_type": "display_data"
    }
   ],
   "source": [
    "fig, ax = plt.subplots()\n",
    "fig.set_figwidth(15)\n",
    "fig.set_figheight(8)\n",
    "librosa.display.specshow(mfcc)\n",
    "librosa.display.specshow(mfcc)"
   ]
  },
  {
   "cell_type": "code",
   "execution_count": 13,
   "metadata": {},
   "outputs": [],
   "source": [
    "# Scale the MFCCs ot unit mean and variance\n",
    "mfcc = sklearn.preprocessing.scale(mfcc, axis=1)"
   ]
  },
  {
   "cell_type": "code",
   "execution_count": 14,
   "metadata": {},
   "outputs": [
    {
     "data": {
      "text/plain": [
       "<matplotlib.axes._subplots.AxesSubplot at 0x1eb889b0048>"
      ]
     },
     "execution_count": 14,
     "metadata": {},
     "output_type": "execute_result"
    },
    {
     "data": {
      "image/png": "[encoded data removed]",
      "text/plain": [
       "<Figure size 1080x576 with 1 Axes>"
      ]
     },
     "metadata": {},
     "output_type": "display_data"
    }
   ],
   "source": [
    "fig, ax = plt.subplots()\n",
    "fig.set_figwidth(15)\n",
    "fig.set_figheight(8)\n",
    "librosa.display.specshow(mfcc)\n"
   ]
  },
  {
   "cell_type": "code",
   "execution_count": null,
   "metadata": {
    "collapsed": true
   },
   "outputs": [],
   "source": []
  },
  {
   "cell_type": "code",
   "execution_count": null,
   "metadata": {
    "collapsed": true
   },
   "outputs": [],
   "source": []
  },
  {
   "cell_type": "code",
   "execution_count": 85,
   "metadata": {},
   "outputs": [
    {
     "name": "stderr",
     "output_type": "stream",
     "text": [
      "C:\\Users\\chris\\Anaconda3\\envs\\audio\\lib\\site-packages\\numpy\\core\\numeric.py:501: ComplexWarning: Casting complex values to real discards the imaginary part\n",
      "  return array(a, dtype, copy=False, order=order)\n"
     ]
    },
    {
     "data": {
      "text/plain": [
       "[<matplotlib.lines.Line2D at 0x1a6aab65e10>]"
      ]
     },
     "execution_count": 85,
     "metadata": {},
     "output_type": "execute_result"
    },
    {
     "data": {
      "image/png": "[encoded data removed]",
      "text/plain": [
       "<Figure size 1080x576 with 1 Axes>"
      ]
     },
     "metadata": {},
     "output_type": "display_data"
    }
   ],
   "source": [
    "fig, ax = plt.subplots()\n",
    "fig.set_figwidth(15)\n",
    "fig.set_figheight(8)\n",
    "ax.set_ylim([-50, 50])\n",
    "ax.plot(shortTimeFourierTransform)"
   ]
  },
  {
   "cell_type": "code",
   "execution_count": 86,
   "metadata": {},
   "outputs": [
    {
     "data": {
      "text/plain": [
       "<matplotlib.axes._subplots.AxesSubplot at 0x1a6aab6ee80>"
      ]
     },
     "execution_count": 86,
     "metadata": {},
     "output_type": "execute_result"
    },
    {
     "data": {
      "image/png": "[encoded data removed]",
      "text/plain": [
       "<Figure size 432x288 with 1 Axes>"
      ]
     },
     "metadata": {},
     "output_type": "display_data"
    }
   ],
   "source": [
    "melspectrogram = librosa.feature.melspectrogram(y)\n",
    "librosa.display.specshow(melspectrogram)"
   ]
  },
  {
   "cell_type": "code",
   "execution_count": 99,
   "metadata": {
    "collapsed": true
   },
   "outputs": [],
   "source": [
    "y, sr = librosa.load(sampleAudioFiles[50])"
   ]
  },
  {
   "cell_type": "code",
   "execution_count": 100,
   "metadata": {
    "collapsed": true
   },
   "outputs": [],
   "source": [
    "mfccass = librosa.feature.mfcc(y)"
   ]
  },
  {
   "cell_type": "code",
   "execution_count": 101,
   "metadata": {},
   "outputs": [
    {
     "data": {
      "text/plain": [
       "<matplotlib.axes._subplots.AxesSubplot at 0x1a6ae5a88d0>"
      ]
     },
     "execution_count": 101,
     "metadata": {},
     "output_type": "execute_result"
    },
    {
     "data": {
      "image/png": "[encoded data removed]",
      "text/plain": [
       "<Figure size 432x288 with 1 Axes>"
      ]
     },
     "metadata": {},
     "output_type": "display_data"
    }
   ],
   "source": [
    "librosa.display.specshow(mfccass)"
   ]
  },
  {
   "cell_type": "code",
   "execution_count": 102,
   "metadata": {},
   "outputs": [
    {
     "data": {
      "text/plain": [
       "<matplotlib.axes._subplots.AxesSubplot at 0x1a6ae5d5f98>"
      ]
     },
     "execution_count": 102,
     "metadata": {},
     "output_type": "execute_result"
    },
    {
     "data": {
      "image/png": "[encoded data removed]",
      "text/plain": [
       "<Figure size 432x288 with 1 Axes>"
      ]
     },
     "metadata": {},
     "output_type": "display_data"
    }
   ],
   "source": [
    "melspectrogram = librosa.feature.melspectrogram(y)\n",
    "librosa.display.specshow(melspectrogram)"
   ]
  },
  {
   "cell_type": "code",
   "execution_count": 111,
   "metadata": {},
   "outputs": [
    {
     "data": {
      "text/plain": [
       "array([[1.02978216e+02, 1.14474680e+02, 7.26462365e+01, ...,\n",
       "        1.03840651e+02, 3.53573414e+02, 1.03370101e+03],\n",
       "       [1.78534317e+02, 3.77467461e+02, 3.08798511e+02, ...,\n",
       "        4.64592409e+02, 3.25459583e+02, 2.37369859e+02],\n",
       "       [1.16672408e+02, 1.55782814e+02, 9.97496182e+02, ...,\n",
       "        7.40739541e+02, 7.46794523e+02, 1.69696206e+02],\n",
       "       ...,\n",
       "       [5.98703173e-03, 1.49675297e-03, 5.40594840e-12, ...,\n",
       "        4.14494436e-12, 1.55190317e-03, 6.16968651e-03],\n",
       "       [5.86097716e-03, 1.46523979e-03, 4.05582458e-12, ...,\n",
       "        6.48429364e-12, 1.52222115e-03, 6.05168417e-03],\n",
       "       [5.78130367e-03, 1.44532145e-03, 1.05538923e-11, ...,\n",
       "        1.22945254e-11, 1.50331810e-03, 5.97653651e-03]])"
      ]
     },
     "execution_count": 111,
     "metadata": {},
     "output_type": "execute_result"
    }
   ],
   "source": [
    "librosa.feature.melspectrogram(y)"
   ]
  },
  {
   "cell_type": "code",
   "execution_count": null,
   "metadata": {
    "collapsed": true
   },
   "outputs": [],
   "source": []
  },
  {
   "cell_type": "code",
   "execution_count": null,
   "metadata": {
    "collapsed": true
   },
   "outputs": [],
   "source": []
  },
  {
   "cell_type": "markdown",
   "metadata": {
    "_cell_guid": "146baca0-66cc-4ce1-8d16-16ae5764a354",
    "_uuid": "64462b38a986a2f40deeb6a053b9d99d8f6993b5"
   },
   "source": [
    "<a id=\"1d_model_building\"></a>\n",
    "## <center>2. Building a Model using Raw Wave</center>\n",
    "We will build two models:\n",
    "1. The first model will take the raw audio (1D array) as input and the primary operation will be Conv1D\n",
    "2. The second model will take the MFCCs as input. (We will explain MFCC later)\n",
    "\n",
    "<a id=\"1d_discription\"></a>\n",
    "### Keras Model using raw wave\n",
    "\n",
    "Our model has the architecture as follows:\n",
    "![raw](https://raw.githubusercontent.com/zaffnet/images/master/images/raw_model.jpg)\n",
    "\n",
    "**Important:**\n",
    "Due to the time limit on Kaggle Kernels, it is not possible to perform 10-fold training of a large model. I have trained the model locally and uploaded its output files as a dataset. If you wish to train the bigger model, change `COMPLETE_RUN = True` at the beginning of the kernel."
   ]
  },
  {
   "cell_type": "code",
   "execution_count": null,
   "metadata": {
    "collapsed": true
   },
   "outputs": [],
   "source": []
  },
  {
   "cell_type": "code",
   "execution_count": null,
   "metadata": {
    "collapsed": true
   },
   "outputs": [],
   "source": []
  },
  {
   "cell_type": "code",
   "execution_count": null,
   "metadata": {
    "collapsed": true
   },
   "outputs": [],
   "source": []
  },
  {
   "cell_type": "code",
   "execution_count": null,
   "metadata": {
    "collapsed": true
   },
   "outputs": [],
   "source": []
  },
  {
   "cell_type": "code",
   "execution_count": null,
   "metadata": {
    "collapsed": true
   },
   "outputs": [],
   "source": []
  },
  {
   "cell_type": "code",
   "execution_count": null,
   "metadata": {
    "collapsed": true
   },
   "outputs": [],
   "source": []
  },
  {
   "cell_type": "code",
   "execution_count": null,
   "metadata": {
    "collapsed": true
   },
   "outputs": [],
   "source": []
  },
  {
   "cell_type": "markdown",
   "metadata": {
    "_cell_guid": "0ef1062c-be8a-4021-a50a-3df9bacd30fc",
    "_uuid": "2df0e6e509896eaefd30f6b4c15b55736760aafa",
    "collapsed": true
   },
   "source": [
    "#### Some sssential imports"
   ]
  },
  {
   "cell_type": "code",
   "execution_count": null,
   "metadata": {
    "_cell_guid": "58fbb75c-1ef8-478f-a5fd-3fe6cfda32af",
    "_kg_hide-output": true,
    "_uuid": "36454f818dcbe02852e7a639d428a004a387ce9f",
    "collapsed": true
   },
   "outputs": [],
   "source": [
    "import librosa\n",
    "import numpy as np\n",
    "import scipy\n",
    "from keras import losses, models, optimizers\n",
    "from keras.activations import relu, softmax\n",
    "from keras.callbacks import (EarlyStopping, LearningRateScheduler,\n",
    "                             ModelCheckpoint, TensorBoard, ReduceLROnPlateau)\n",
    "from keras.layers import (Convolution1D, Dense, Dropout, GlobalAveragePooling1D, \n",
    "                          GlobalMaxPool1D, Input, MaxPool1D, concatenate)\n",
    "from keras.utils import Sequence, to_categorical"
   ]
  },
  {
   "cell_type": "markdown",
   "metadata": {
    "_cell_guid": "64df4fea-4917-4762-b9be-68163f590c13",
    "_uuid": "927b4d615e24291f3c9510b653e723dc031fd042"
   },
   "source": [
    "<a id=\"configuration\"></a>\n",
    "#### Configuration"
   ]
  },
  {
   "cell_type": "markdown",
   "metadata": {
    "_cell_guid": "1dda9e10-5b51-430a-b20d-a319695df25d",
    "_uuid": "a9dc3968c8915e1d96f0bc011e67db26932ab0a3"
   },
   "source": [
    "The Configuration object stores those learning parameters that are shared between data generators, models, and training functions. Anything that is `global` as far as the training is concerned can become the part of Configuration object."
   ]
  },
  {
   "cell_type": "code",
   "execution_count": null,
   "metadata": {
    "_cell_guid": "e0836104-1a4d-485d-9cc1-3e5b82f449de",
    "_uuid": "66640745984135b853d36eac127fb2da302319ad",
    "collapsed": true
   },
   "outputs": [],
   "source": [
    "class Config(object):\n",
    "    def __init__(self,\n",
    "                 sampling_rate=16000, audio_duration=2, n_classes=41,\n",
    "                 use_mfcc=False, n_folds=10, learning_rate=0.0001, \n",
    "                 max_epochs=50, n_mfcc=20):\n",
    "        self.sampling_rate = sampling_rate\n",
    "        self.audio_duration = audio_duration\n",
    "        self.n_classes = n_classes\n",
    "        self.use_mfcc = use_mfcc\n",
    "        self.n_mfcc = n_mfcc\n",
    "        self.n_folds = n_folds\n",
    "        self.learning_rate = learning_rate\n",
    "        self.max_epochs = max_epochs\n",
    "\n",
    "        self.audio_length = self.sampling_rate * self.audio_duration\n",
    "        if self.use_mfcc:\n",
    "            self.dim = (self.n_mfcc, 1 + int(np.floor(self.audio_length/512)), 1)\n",
    "        else:\n",
    "            self.dim = (self.audio_length, 1)"
   ]
  },
  {
   "cell_type": "markdown",
   "metadata": {
    "_cell_guid": "dbdcf3fb-f915-482c-ad8f-d8578de8f080",
    "_uuid": "b1a794352ac7505abcf212d1b1c6deef32178ab3",
    "collapsed": true
   },
   "source": [
    "<a id=\"data_generator\"></a>\n",
    "#### DataGenerator Class"
   ]
  },
  {
   "cell_type": "markdown",
   "metadata": {
    "_cell_guid": "059d4658-f1a4-4d6a-ae67-05140fc9bac6",
    "_uuid": "f1a0716a545ade83970005951719e71cebe35ab2"
   },
   "source": [
    "The DataGenerator class inherits from **`keras.utils.Sequence`** . It is useful for preprocessing and feeding the data to a Keras model. \n",
    "* Once initialized with a batch_size, it computes the number of batches in an epoch. The **`__len__`** method tells Keras how many batches to draw in each epoch. \n",
    "* The **`__getitem__`** method takes an index (which is the batch number) and returns a batch of the data (both X and y) after calculating the offset. During test time, only `X` is returned.\n",
    "* If we want to perform some action after each epoch (like shuffle the data, or increase the proportion of augmented data), we can use the **`on_epoch_end`** method.\n",
    "\n",
    "Note:\n",
    "**`Sequence`** are a safer way to do multiprocessing. This structure guarantees that the network will only train once on each sample per epoch which is not the case with generators."
   ]
  },
  {
   "cell_type": "code",
   "execution_count": null,
   "metadata": {
    "_cell_guid": "f9d14e7d-89d8-42f0-9eb3-f895645b2de2",
    "_uuid": "aca30bc0f6fccf71e4b9a68e5c04c1aaf950b169",
    "collapsed": true
   },
   "outputs": [],
   "source": [
    "class DataGenerator(Sequence):\n",
    "    def __init__(self, config, data_dir, list_IDs, labels=None, \n",
    "                 batch_size=64, preprocessing_fn=lambda x: x):\n",
    "        self.config = config\n",
    "        self.data_dir = data_dir\n",
    "        self.list_IDs = list_IDs\n",
    "        self.labels = labels\n",
    "        self.batch_size = batch_size\n",
    "        self.preprocessing_fn = preprocessing_fn\n",
    "        self.on_epoch_end()\n",
    "        self.dim = self.config.dim\n",
    "\n",
    "    def __len__(self):\n",
    "        return int(np.ceil(len(self.list_IDs) / self.batch_size))\n",
    "\n",
    "    def __getitem__(self, index):\n",
    "        indexes = self.indexes[index*self.batch_size:(index+1)*self.batch_size]\n",
    "        list_IDs_temp = [self.list_IDs[k] for k in indexes]\n",
    "        return self.__data_generation(list_IDs_temp)\n",
    "\n",
    "    def on_epoch_end(self):\n",
    "        self.indexes = np.arange(len(self.list_IDs))\n",
    "\n",
    "    def __data_generation(self, list_IDs_temp):\n",
    "        cur_batch_size = len(list_IDs_temp)\n",
    "        X = np.empty((cur_batch_size, *self.dim))\n",
    "\n",
    "        input_length = self.config.audio_length\n",
    "        for i, ID in enumerate(list_IDs_temp):\n",
    "            file_path = self.data_dir + ID\n",
    "            \n",
    "            # Read and Resample the audio\n",
    "            data, _ = librosa.core.load(file_path, sr=self.config.sampling_rate,\n",
    "                                        res_type='kaiser_fast')\n",
    "\n",
    "            # Random offset / Padding\n",
    "            if len(data) > input_length:\n",
    "                max_offset = len(data) - input_length\n",
    "                offset = np.random.randint(max_offset)\n",
    "                data = data[offset:(input_length+offset)]\n",
    "            else:\n",
    "                if input_length > len(data):\n",
    "                    max_offset = input_length - len(data)\n",
    "                    offset = np.random.randint(max_offset)\n",
    "                else:\n",
    "                    offset = 0\n",
    "                data = np.pad(data, (offset, input_length - len(data) - offset), \"constant\")\n",
    "                \n",
    "            # Normalization + Other Preprocessing\n",
    "            if self.config.use_mfcc:\n",
    "                data = librosa.feature.mfcc(data, sr=self.config.sampling_rate,\n",
    "                                                   n_mfcc=self.config.n_mfcc)\n",
    "                data = np.expand_dims(data, axis=-1)\n",
    "            else:\n",
    "                data = self.preprocessing_fn(data)[:, np.newaxis]\n",
    "            X[i,] = data\n",
    "\n",
    "        if self.labels is not None:\n",
    "            y = np.empty(cur_batch_size, dtype=int)\n",
    "            for i, ID in enumerate(list_IDs_temp):\n",
    "                y[i] = self.labels[ID]\n",
    "            return X, to_categorical(y, num_classes=self.config.n_classes)\n",
    "        else:\n",
    "            return X"
   ]
  },
  {
   "cell_type": "markdown",
   "metadata": {
    "_cell_guid": "49a23330-291d-4eb7-aeb9-4abcfd648277",
    "_uuid": "6b69d10980c7aad004c6a7fa860c649d0b875a0f"
   },
   "source": [
    "<a id=\"1d_normalization\"></a>\n",
    "#### Normalization\n",
    "\n",
    "Normalization is a crucial preprocessing step. The simplest method is rescaling the range of features to scale the range in [0, 1]. "
   ]
  },
  {
   "cell_type": "code",
   "execution_count": null,
   "metadata": {
    "_cell_guid": "bb5936dd-5fb1-4894-8165-6daf372a6832",
    "_uuid": "c9db10ad526815730a6e5a1f057de8c9bff12615",
    "collapsed": true
   },
   "outputs": [],
   "source": [
    "def audio_norm(data):\n",
    "    max_data = np.max(data)\n",
    "    min_data = np.min(data)\n",
    "    data = (data-min_data)/(max_data-min_data+1e-6)\n",
    "    return data-0.5"
   ]
  },
  {
   "cell_type": "markdown",
   "metadata": {
    "_cell_guid": "3b9656b0-31d3-47ea-9bb3-789a40026793",
    "_uuid": "c2f0bbd810926b309d3b02473e937a2a86bc9005"
   },
   "source": [
    "* The dummy model is just for debugging purpose.\n",
    "* Our 1D Conv model is fairly deep and is trained using Adam Optimizer with a learning rate of 0.0001"
   ]
  },
  {
   "cell_type": "code",
   "execution_count": null,
   "metadata": {
    "_cell_guid": "245887b3-a0dc-498d-900c-dd1c2898d955",
    "_uuid": "40771630994b93eee040c239f1c0e3bf88f13ced",
    "collapsed": true
   },
   "outputs": [],
   "source": [
    "def get_1d_dummy_model(config):\n",
    "    \n",
    "    nclass = config.n_classes\n",
    "    input_length = config.audio_length\n",
    "    \n",
    "    inp = Input(shape=(input_length,1))\n",
    "    x = GlobalMaxPool1D()(inp)\n",
    "    out = Dense(nclass, activation=softmax)(x)\n",
    "\n",
    "    model = models.Model(inputs=inp, outputs=out)\n",
    "    opt = optimizers.Adam(config.learning_rate)\n",
    "\n",
    "    model.compile(optimizer=opt, loss=losses.categorical_crossentropy, metrics=['acc'])\n",
    "    return model\n",
    "\n",
    "def get_1d_conv_model(config):\n",
    "    \n",
    "    nclass = config.n_classes\n",
    "    input_length = config.audio_length\n",
    "    \n",
    "    inp = Input(shape=(input_length,1))\n",
    "    x = Convolution1D(16, 9, activation=relu, padding=\"valid\")(inp)\n",
    "    x = Convolution1D(16, 9, activation=relu, padding=\"valid\")(x)\n",
    "    x = MaxPool1D(16)(x)\n",
    "    x = Dropout(rate=0.1)(x)\n",
    "    \n",
    "    x = Convolution1D(32, 3, activation=relu, padding=\"valid\")(x)\n",
    "    x = Convolution1D(32, 3, activation=relu, padding=\"valid\")(x)\n",
    "    x = MaxPool1D(4)(x)\n",
    "    x = Dropout(rate=0.1)(x)\n",
    "    \n",
    "    x = Convolution1D(32, 3, activation=relu, padding=\"valid\")(x)\n",
    "    x = Convolution1D(32, 3, activation=relu, padding=\"valid\")(x)\n",
    "    x = MaxPool1D(4)(x)\n",
    "    x = Dropout(rate=0.1)(x)\n",
    "    \n",
    "    x = Convolution1D(256, 3, activation=relu, padding=\"valid\")(x)\n",
    "    x = Convolution1D(256, 3, activation=relu, padding=\"valid\")(x)\n",
    "    x = GlobalMaxPool1D()(x)\n",
    "    x = Dropout(rate=0.2)(x)\n",
    "\n",
    "    x = Dense(64, activation=relu)(x)\n",
    "    x = Dense(1028, activation=relu)(x)\n",
    "    out = Dense(nclass, activation=softmax)(x)\n",
    "\n",
    "    model = models.Model(inputs=inp, outputs=out)\n",
    "    opt = optimizers.Adam(config.learning_rate)\n",
    "\n",
    "    model.compile(optimizer=opt, loss=losses.categorical_crossentropy, metrics=['acc'])\n",
    "    return model"
   ]
  },
  {
   "cell_type": "markdown",
   "metadata": {
    "_cell_guid": "2e67aa4a-f2d0-4889-a1da-b6d3217edb5e",
    "_uuid": "32afe89ebdee366de311a6fffb5c49a0e568aaa8"
   },
   "source": [
    "<a id=\"1d_training\"></a>\n",
    "#### Training 1D Conv"
   ]
  },
  {
   "cell_type": "markdown",
   "metadata": {
    "_cell_guid": "a93de421-33be-4104-bcfa-b581cbde3d75",
    "_uuid": "ddbcf58975c5cd7436314a77e5b8f938640bcf34"
   },
   "source": [
    "It is important to convert raw labels to integer indices"
   ]
  },
  {
   "cell_type": "code",
   "execution_count": null,
   "metadata": {
    "_cell_guid": "e9027035-0e77-47dd-8616-113c1cfb37e0",
    "_uuid": "53aca10261dea0b8357e39adb513c7689b7c07ff",
    "collapsed": true
   },
   "outputs": [],
   "source": [
    "LABELS = list(train.label.unique())\n",
    "label_idx = {label: i for i, label in enumerate(LABELS)}\n",
    "train.set_index(\"fname\", inplace=True)\n",
    "test.set_index(\"fname\", inplace=True)\n",
    "train[\"label_idx\"] = train.label.apply(lambda x: label_idx[x])\n",
    "if not COMPLETE_RUN:\n",
    "    train = train[:2000]\n",
    "    test = test[:2000]"
   ]
  },
  {
   "cell_type": "code",
   "execution_count": null,
   "metadata": {
    "_cell_guid": "f2f2dc50-77d3-43ba-bf7f-3c6b39beb67b",
    "_uuid": "604a3c7971599898b5614a67da12da84ab651a55",
    "collapsed": true
   },
   "outputs": [],
   "source": [
    "config = Config(sampling_rate=16000, audio_duration=2, n_folds=10, learning_rate=0.001)\n",
    "if not COMPLETE_RUN:\n",
    "    config = Config(sampling_rate=100, audio_duration=1, n_folds=2, max_epochs=1)"
   ]
  },
  {
   "cell_type": "markdown",
   "metadata": {
    "_cell_guid": "e31b98ec-cecb-4584-9bbc-bc2748476b49",
    "_uuid": "7a2a5e44d82a2b9e04117b76464225278ec4a1d8"
   },
   "source": [
    "Here is the code for 10-fold training:\n",
    "* We use **`from sklearn.cross_validation.StratifiedKFold`** for splitting the trainig data into 10 folds.\n",
    "* We use some Keras callbacks to monitor the training.\n",
    "    * **`ModelCheckpoint`** saves the best weight of our model (using validation data). We use this weight to make test predictions.\n",
    "    * **`EarlyStopping`** stops the training once validation loss ceases to decrease\n",
    "    * **`TensorBoard`** helps us visualize training and validation loss and accuracy.\n",
    "* We fit the model using **`DataGenerator`** for training and validation splits. \n",
    "* We get both training and test predictions and save them as .npy format. We also generate a submission file. For 10-fold CV, the number of prediction files should be 10. We will ensemble these predictions later."
   ]
  },
  {
   "cell_type": "markdown",
   "metadata": {
    "_cell_guid": "e81537d9-d886-4bd5-a923-7efe1aa1812d",
    "_kg_hide-output": true,
    "_uuid": "1e68d5ae8e431445151c8c7744fadb65fbf692c8",
    "collapsed": true
   },
   "source": [
    "```python\n",
    "PREDICTION_FOLDER = \"predictions_1d_conv\"\n",
    "if not os.path.exists(PREDICTION_FOLDER):\n",
    "    os.mkdir(PREDICTION_FOLDER)\n",
    "if os.path.exists('logs/' + PREDICTION_FOLDER):\n",
    "    shutil.rmtree('logs/' + PREDICTION_FOLDER)\n",
    "\n",
    "skf = StratifiedKFold(train.label_idx, n_folds=config.n_folds)\n",
    "\n",
    "for i, (train_split, val_split) in enumerate(skf):\n",
    "    train_set = train.iloc[train_split]\n",
    "    val_set = train.iloc[val_split]\n",
    "    checkpoint = ModelCheckpoint('best_%d.h5'%i, monitor='val_loss', verbose=1, save_best_only=True)\n",
    "    early = EarlyStopping(monitor=\"val_loss\", mode=\"min\", patience=5)\n",
    "    tb = TensorBoard(log_dir='./logs/' + PREDICTION_FOLDER + '/fold_%d'%i, write_graph=True)\n",
    "\n",
    "    callbacks_list = [checkpoint, early, tb]\n",
    "    print(\"Fold: \", i)\n",
    "    print(\"#\"*50)\n",
    "    if COMPLETE_RUN:\n",
    "        model = get_1d_conv_model(config)\n",
    "    else:\n",
    "        model = get_1d_dummy_model(config)\n",
    "\n",
    "    train_generator = DataGenerator(config, '../input/freesound-audio-tagging/audio_train/', train_set.index, \n",
    "                                    train_set.label_idx, batch_size=64,\n",
    "                                    preprocessing_fn=audio_norm)\n",
    "    val_generator = DataGenerator(config, '../input/freesound-audio-tagging/audio_train/', val_set.index, \n",
    "                                  val_set.label_idx, batch_size=64,\n",
    "                                  preprocessing_fn=audio_norm)\n",
    "    \n",
    "    history = model.fit_generator(train_generator, callbacks=callbacks_list, validation_data=val_generator,\n",
    "                                  epochs=config.max_epochs, use_multiprocessing=True, workers=6, max_queue_size=20)\n",
    "    \n",
    "    model.load_weights('best_%d.h5'%i)\n",
    "    \n",
    "    # Save train predictions\n",
    "    train_generator = DataGenerator(config, '../input/freesound-audio-tagging/audio_train/', train.index, batch_size=128,\n",
    "                                    preprocessing_fn=audio_norm)\n",
    "    predictions = model.predict_generator(train_generator, use_multiprocessing=True, \n",
    "                                          workers=6, max_queue_size=20, verbose=1)\n",
    "    np.save(PREDICTION_FOLDER + \"/train_predictions_%d.npy\"%i, predictions)\n",
    "    \n",
    "    # Save test predictions\n",
    "    test_generator = DataGenerator(config, '../input/freesound-audio-tagging/audio_test/', test.index, batch_size=128,\n",
    "                                    preprocessing_fn=audio_norm)\n",
    "    predictions = model.predict_generator(test_generator, use_multiprocessing=True, \n",
    "                                          workers=6, max_queue_size=20, verbose=1)\n",
    "    np.save(PREDICTION_FOLDER + \"/test_predictions_%d.npy\"%i, predictions)\n",
    "    \n",
    "    # Make a submission file\n",
    "    top_3 = np.array(LABELS)[np.argsort(-predictions, axis=1)[:, :3]]\n",
    "    predicted_labels = [' '.join(list(x)) for x in top_3]\n",
    "    test['label'] = predicted_labels\n",
    "    test[['label']].to_csv(PREDICTION_FOLDER + \"/predictions_%d.csv\"%i)\n",
    "    ```"
   ]
  },
  {
   "cell_type": "markdown",
   "metadata": {
    "_cell_guid": "488df4a9-b090-4397-a649-2e94f9ee82ad",
    "_uuid": "2afcdcf0f77f8685f57e2d119ec0cc650b7255d7"
   },
   "source": [
    "<a id=\"1d_ensembling\"></a>\n",
    "#### Ensembling 1D Conv Predictions\n",
    "Now that we have trained our model, it is time average the predictions of 10-folds. We will try Geometric Mean averaging and see what will be our Public LB score."
   ]
  },
  {
   "cell_type": "code",
   "execution_count": null,
   "metadata": {
    "_cell_guid": "4050aede-678b-4f9e-bb95-e70f79e4f6bd",
    "_kg_hide-output": true,
    "_uuid": "bfdddecb92be07d06e71d25b1812d064a0cee66d",
    "collapsed": true
   },
   "outputs": [],
   "source": [
    "pred_list = []\n",
    "for i in range(10):\n",
    "    pred_list.append(np.load(\"../input/freesound-prediction-file/test_predictions_%d.npy\"%i))\n",
    "prediction = np.ones_like(pred_list[0])\n",
    "for pred in pred_list:\n",
    "    prediction = prediction*pred\n",
    "prediction = prediction**(1./len(pred_list))\n",
    "# Make a submission file\n",
    "top_3 = np.array(LABELS)[np.argsort(-prediction, axis=1)[:, :3]]\n",
    "predicted_labels = [' '.join(list(x)) for x in top_3]\n",
    "test = pd.read_csv('../input/freesound-audio-tagging/sample_submission.csv')\n",
    "test['label'] = predicted_labels\n",
    "test[['fname', 'label']].to_csv(\"1d_conv_ensembled_submission.csv\", index=False)"
   ]
  },
  {
   "cell_type": "markdown",
   "metadata": {
    "_cell_guid": "8c437de1-ecc0-4c72-9595-c689c101a72c",
    "_uuid": "40ef0374888d1453eed07c8daa18f231c12ef36d"
   },
   "source": [
    "<a id=\"intro_mfcc\"></a>\n",
    "## <center> 3. Introuction to MFCC\n",
    "\n",
    "As we have seen in the previous section, our Deep Learning models are powerful enough to classify sounds from the raw audio. We do not require any complex feature engineering. But before the Deep Learning era, people developed techniques to extract features from audio signals. It turns out that these techniques are still useful. One such technique is computing the MFCC (Mel Frquency Cepstral Coefficients) from the raw audio. Before we jump to MFCC, let's talk about extracting features from the sound.\n",
    "\n",
    "If we just want to classify some sound, we should build features that are **speaker independent**. Any feature that only gives information about the speaker (like the pitch of their voice) will not be helpful for classification. In other words, we should extract features that depend on the \"content\" of the audio rather than the nature of the speaker. Also, a good feature extraction technique should mimic the human speech perception. We don't hear loudness on a linear scale. If we want to double the perceived loudness of a sound, we have to put 8 times as much energy into it. Instead of a linear scale, our perception system uses a log scale. \n",
    "\n",
    "Taking these things into account, Davis and Mermelstein came up with MFCC in the 1980's. MFCC mimics the logarithmic perception of loudness and pitch of human auditory system and tries to eliminate speaker dependent characteristics by excluding the fundamental frequency and their harmonics. The underlying mathematics is quite complicated and we will skip that. For those interested, here is the [detailed explanation](http://practicalcryptography.com/miscellaneous/machine-learning/guide-mel-frequency-cepstral-coefficients-mfccs/).\n",
    "\n",
    "![http://recognize-speech.com/images/FeatureExtraction/MFCC/MFCC_Flowchart.png](http://recognize-speech.com/images/FeatureExtraction/MFCC/MFCC_Flowchart.png)\n",
    "\n",
    "<a id=\"librosa_mfcc\"></a>\n",
    "#### Generating MFCC using Librosa\n",
    "The library librosa has a function to calculate MFCC. Let's compute the MFCC of an audio file and visualize it."
   ]
  },
  {
   "cell_type": "code",
   "execution_count": null,
   "metadata": {
    "_cell_guid": "dcb2a6e7-b086-4d1a-94a4-215f2cb101d0",
    "_uuid": "2f8dfd08f109ababeaca9ce900b68b8a716d28b7",
    "collapsed": true
   },
   "outputs": [],
   "source": [
    "import librosa\n",
    "SAMPLE_RATE = 44100\n",
    "fname = '../input/freesound-audio-tagging/audio_train/' + '00044347.wav'   # Hi-hat\n",
    "wav, _ = librosa.core.load(fname, sr=SAMPLE_RATE)\n",
    "wav = wav[:2*44100]"
   ]
  },
  {
   "cell_type": "code",
   "execution_count": null,
   "metadata": {
    "_cell_guid": "6250242e-e3c5-4cb9-8405-43d3279dada1",
    "_kg_hide-output": true,
    "_uuid": "7498089442d866816aabc85234a8a5546c5e58da",
    "collapsed": true
   },
   "outputs": [],
   "source": [
    "mfcc = librosa.feature.mfcc(wav, sr = SAMPLE_RATE, n_mfcc=40)\n",
    "mfcc.shape"
   ]
  },
  {
   "cell_type": "code",
   "execution_count": null,
   "metadata": {
    "_cell_guid": "d02be92a-f208-42c2-ac4a-e0b2b22ba195",
    "_uuid": "f4054a6856eaa16cf82cacb5bd08ea53cdab386b",
    "collapsed": true
   },
   "outputs": [],
   "source": [
    "plt.imshow(mfcc, cmap='hot', interpolation='nearest');"
   ]
  },
  {
   "cell_type": "markdown",
   "metadata": {
    "_cell_guid": "5015b22f-5de8-4a86-aef4-074bf90023aa",
    "_uuid": "59502f44b22674250a047e89b610867d6c6306c3"
   },
   "source": [
    "<a id=\"2d_model_building\"></a>\n",
    "## <center>4. Building a Model using MFCC\n",
    "\n",
    "We will build now build a 2D Convolutional model using MFCC. "
   ]
  },
  {
   "cell_type": "code",
   "execution_count": null,
   "metadata": {
    "_cell_guid": "384fe65d-fe10-4eee-826c-75c4dffcfa2d",
    "_kg_hide-output": true,
    "_uuid": "ed54039a4e0b91d10f603799feb8166404bbceec",
    "collapsed": true
   },
   "outputs": [],
   "source": [
    "from keras.layers import (Convolution2D, GlobalAveragePooling2D, BatchNormalization, Flatten,\n",
    "                          GlobalMaxPool2D, MaxPool2D, concatenate, Activation)\n",
    "from keras.utils import Sequence, to_categorical\n",
    "from keras import backend as K"
   ]
  },
  {
   "cell_type": "code",
   "execution_count": null,
   "metadata": {
    "_cell_guid": "97d07753-d78d-465d-936d-7f03eaf1def1",
    "_uuid": "0b2ac601f52ae4ed9dc849fcd095ab94cfe878fe",
    "collapsed": true
   },
   "outputs": [],
   "source": [
    "def get_2d_dummy_model(config):\n",
    "    \n",
    "    nclass = config.n_classes\n",
    "    \n",
    "    inp = Input(shape=(config.dim[0],config.dim[1],1))\n",
    "    x = GlobalMaxPool2D()(inp)\n",
    "    out = Dense(nclass, activation=softmax)(x)\n",
    "\n",
    "    model = models.Model(inputs=inp, outputs=out)\n",
    "    opt = optimizers.Adam(config.learning_rate)\n",
    "\n",
    "    model.compile(optimizer=opt, loss=losses.categorical_crossentropy, metrics=['acc'])\n",
    "    return model\n",
    "\n",
    "\n",
    "def get_2d_conv_model(config):\n",
    "    \n",
    "    nclass = config.n_classes\n",
    "    \n",
    "    inp = Input(shape=(config.dim[0],config.dim[1],1))\n",
    "    x = Convolution2D(32, (4,10), padding=\"same\")(inp)\n",
    "    x = BatchNormalization()(x)\n",
    "    x = Activation(\"relu\")(x)\n",
    "    x = MaxPool2D()(x)\n",
    "    \n",
    "    x = Convolution2D(32, (4,10), padding=\"same\")(x)\n",
    "    x = BatchNormalization()(x)\n",
    "    x = Activation(\"relu\")(x)\n",
    "    x = MaxPool2D()(x)\n",
    "    \n",
    "    x = Convolution2D(32, (4,10), padding=\"same\")(x)\n",
    "    x = BatchNormalization()(x)\n",
    "    x = Activation(\"relu\")(x)\n",
    "    x = MaxPool2D()(x)\n",
    "    \n",
    "    x = Convolution2D(32, (4,10), padding=\"same\")(x)\n",
    "    x = BatchNormalization()(x)\n",
    "    x = Activation(\"relu\")(x)\n",
    "    x = MaxPool2D()(x)\n",
    "\n",
    "    x = Flatten()(x)\n",
    "    x = Dense(64)(x)\n",
    "    x = BatchNormalization()(x)\n",
    "    x = Activation(\"relu\")(x)\n",
    "    out = Dense(nclass, activation=softmax)(x)\n",
    "\n",
    "    model = models.Model(inputs=inp, outputs=out)\n",
    "    opt = optimizers.Adam(config.learning_rate)\n",
    "\n",
    "    model.compile(optimizer=opt, loss=losses.categorical_crossentropy, metrics=['acc'])\n",
    "    return model"
   ]
  },
  {
   "cell_type": "markdown",
   "metadata": {
    "_cell_guid": "c0c823de-9971-4247-9501-dc74d2f95d8e",
    "_uuid": "d88e90fdc36c77c10ecc8f674d6fd39c8e4d78fb"
   },
   "source": [
    "<a id=\"2d_data\"></a>\n",
    "### Preparing data"
   ]
  },
  {
   "cell_type": "code",
   "execution_count": null,
   "metadata": {
    "_cell_guid": "eb5aef7d-669b-4cde-9e09-a2bfaa379cc9",
    "_uuid": "70b8cd145ae3838c7974fe257403c8c7fbc8552a",
    "collapsed": true
   },
   "outputs": [],
   "source": [
    "config = Config(sampling_rate=44100, audio_duration=2, n_folds=10, \n",
    "                learning_rate=0.001, use_mfcc=True, n_mfcc=40)\n",
    "if not COMPLETE_RUN:\n",
    "    config = Config(sampling_rate=44100, audio_duration=2, n_folds=2, \n",
    "                    max_epochs=1, use_mfcc=True, n_mfcc=40)"
   ]
  },
  {
   "cell_type": "code",
   "execution_count": null,
   "metadata": {
    "_cell_guid": "5b9b1c9b-7e02-46f3-96f6-67ebc9bf9132",
    "_uuid": "5242e943f1bc1154d19c03c361a826553c811cfe",
    "collapsed": true
   },
   "outputs": [],
   "source": [
    "def prepare_data(df, config, data_dir):\n",
    "    X = np.empty(shape=(df.shape[0], config.dim[0], config.dim[1], 1))\n",
    "    input_length = config.audio_length\n",
    "    for i, fname in enumerate(df.index):\n",
    "        print(fname)\n",
    "        file_path = data_dir + fname\n",
    "        data, _ = librosa.core.load(file_path, sr=config.sampling_rate, res_type=\"kaiser_fast\")\n",
    "\n",
    "        # Random offset / Padding\n",
    "        if len(data) > input_length:\n",
    "            max_offset = len(data) - input_length\n",
    "            offset = np.random.randint(max_offset)\n",
    "            data = data[offset:(input_length+offset)]\n",
    "        else:\n",
    "            if input_length > len(data):\n",
    "                max_offset = input_length - len(data)\n",
    "                offset = np.random.randint(max_offset)\n",
    "            else:\n",
    "                offset = 0\n",
    "            data = np.pad(data, (offset, input_length - len(data) - offset), \"constant\")\n",
    "\n",
    "        data = librosa.feature.mfcc(data, sr=config.sampling_rate, n_mfcc=config.n_mfcc)\n",
    "        data = np.expand_dims(data, axis=-1)\n",
    "        X[i,] = data\n",
    "    return X"
   ]
  },
  {
   "cell_type": "markdown",
   "metadata": {
    "_cell_guid": "c9910de1-388b-470e-8908-6df548f1b866",
    "_uuid": "bb3bc487b52a549a856807dd838a4f6cd209917d"
   },
   "source": [
    "```python\n",
    "X_train = prepare_data(train, config, '../input/freesound-audio-tagging/audio_train/')\n",
    "X_test = prepare_data(test, config, '../input/freesound-audio-tagging/audio_test/')\n",
    "y_train = to_categorical(train.label_idx, num_classes=config.n_classes)\n",
    "```"
   ]
  },
  {
   "cell_type": "markdown",
   "metadata": {
    "_cell_guid": "a0e0b17b-d2f8-47f8-9b4d-fff3b2761dde",
    "_uuid": "89e8bd3dc6d1f432309e668685fb98d1ce866e95"
   },
   "source": [
    "<a id=\"2d_normalization\"></a>\n",
    "#### Normalization\n"
   ]
  },
  {
   "cell_type": "markdown",
   "metadata": {
    "_cell_guid": "928b0993-7799-4b75-bef8-c1df3755632e",
    "_uuid": "60b6d9dfcb25eb9b3cef7e05675d67b104e24b31"
   },
   "source": [
    "```python\n",
    "mean = np.mean(X_train, axis=0)\n",
    "std = np.std(X_train, axis=0)\n",
    "\n",
    "X_train = (X_train - mean)/std\n",
    "X_test = (X_test - mean)/std\n",
    "```"
   ]
  },
  {
   "cell_type": "markdown",
   "metadata": {
    "_cell_guid": "af8afd09-66bf-4618-ad95-d70db35b90ec",
    "_uuid": "b70fea949114595111c39f9f64fb1752603e3fdf"
   },
   "source": [
    "<a id=\"2d_training\"></a>\n",
    "#### Training 2D Conv on MFCC"
   ]
  },
  {
   "cell_type": "markdown",
   "metadata": {
    "_cell_guid": "10fb7477-8122-49fb-be81-1adb7aa45c7f",
    "_uuid": "ab0f2bc7e7bbaced3eb2e4c3acb7c7c63aa73681"
   },
   "source": [
    "```python\n",
    "PREDICTION_FOLDER = \"predictions_2d_conv\"\n",
    "if not os.path.exists(PREDICTION_FOLDER):\n",
    "    os.mkdir(PREDICTION_FOLDER)\n",
    "if os.path.exists('logs/' + PREDICTION_FOLDER):\n",
    "    shutil.rmtree('logs/' + PREDICTION_FOLDER)\n",
    "\n",
    "skf = StratifiedKFold(train.label_idx, n_folds=config.n_folds)\n",
    "for i, (train_split, val_split) in enumerate(skf):\n",
    "    K.clear_session()\n",
    "    X, y, X_val, y_val = X_train[train_split], y_train[train_split], X_train[val_split], y_train[val_split]\n",
    "    checkpoint = ModelCheckpoint('best_%d.h5'%i, monitor='val_loss', verbose=1, save_best_only=True)\n",
    "    early = EarlyStopping(monitor=\"val_loss\", mode=\"min\", patience=5)\n",
    "    tb = TensorBoard(log_dir='./logs/' + PREDICTION_FOLDER + '/fold_%i'%i, write_graph=True)\n",
    "    callbacks_list = [checkpoint, early, tb]\n",
    "    print(\"#\"*50)\n",
    "    print(\"Fold: \", i)\n",
    "    model = get_2d_conv_model(config)\n",
    "    history = model.fit(X, y, validation_data=(X_val, y_val), callbacks=callbacks_list, \n",
    "                        batch_size=64, epochs=config.max_epochs)\n",
    "    model.load_weights('best_%d.h5'%i)\n",
    "\n",
    "    # Save train predictions\n",
    "    predictions = model.predict(X_train, batch_size=64, verbose=1)\n",
    "    np.save(PREDICTION_FOLDER + \"/train_predictions_%d.npy\"%i, predictions)\n",
    "\n",
    "    # Save test predictions\n",
    "    predictions = model.predict(X_test, batch_size=64, verbose=1)\n",
    "    np.save(PREDICTION_FOLDER + \"/test_predictions_%d.npy\"%i, predictions)\n",
    "\n",
    "    # Make a submission file\n",
    "    top_3 = np.array(LABELS)[np.argsort(-predictions, axis=1)[:, :3]]\n",
    "    predicted_labels = [' '.join(list(x)) for x in top_3]\n",
    "    test['label'] = predicted_labels\n",
    "    test[['label']].to_csv(PREDICTION_FOLDER + \"/predictions_%d.csv\"%i)\n",
    "```"
   ]
  },
  {
   "cell_type": "markdown",
   "metadata": {
    "_cell_guid": "4bd794b7-c09e-42d6-8f8a-158758921273",
    "_uuid": "b4421687f65fd8068c04fcdfdb419bf4f08c5f2c"
   },
   "source": [
    "<a id=\"2d_ensembling\"></a>\n",
    "#### Ensembling 2D Conv Predictions"
   ]
  },
  {
   "cell_type": "code",
   "execution_count": null,
   "metadata": {
    "_cell_guid": "8c253178-6cde-4bad-835d-d09484f381ed",
    "_uuid": "e6868eb538b9fed874fcb02183d2edd348d38b5f",
    "collapsed": true
   },
   "outputs": [],
   "source": [
    "pred_list = []\n",
    "for i in range(10):\n",
    "    pred_list.append(np.load(\"../input/freesound-prediction-data-2d-conv-reduced-lr/test_predictions_%d.npy\"%i))\n",
    "prediction = np.ones_like(pred_list[0])\n",
    "for pred in pred_list:\n",
    "    prediction = prediction*pred\n",
    "prediction = prediction**(1./len(pred_list))\n",
    "# Make a submission file\n",
    "top_3 = np.array(LABELS)[np.argsort(-prediction, axis=1)[:, :3]]\n",
    "predicted_labels = [' '.join(list(x)) for x in top_3]\n",
    "test = pd.read_csv('../input/freesound-audio-tagging/sample_submission.csv')\n",
    "test['label'] = predicted_labels\n",
    "test[['fname', 'label']].to_csv(\"2d_conv_ensembled_submission.csv\", index=False)"
   ]
  },
  {
   "cell_type": "markdown",
   "metadata": {
    "_cell_guid": "b67760f2-f8cd-498a-b340-4910d8c443d3",
    "_uuid": "38feef2350dfa3c099bd6fb2e1a0b921716606a8"
   },
   "source": [
    "<a id=\"1d_2d_ensembling\"></a>\n",
    "## <center>5. Ensembling 1D Conv and 2D Conv Predictions</center>"
   ]
  },
  {
   "cell_type": "code",
   "execution_count": null,
   "metadata": {
    "_cell_guid": "12566257-72a5-4aa3-9e11-763c98489810",
    "_uuid": "448e8f9034d9d43a4642b1f441965b272425ba63",
    "collapsed": true
   },
   "outputs": [],
   "source": [
    "pred_list = []\n",
    "for i in range(10):\n",
    "    pred_list.append(np.load(\"../input/freesound-prediction-data-2d-conv-reduced-lr/test_predictions_%d.npy\"%i))\n",
    "for i in range(10):\n",
    "    pred_list.append(np.load(\"../input/freesound-prediction-file/test_predictions_%d.npy\"%i))\n",
    "prediction = np.ones_like(pred_list[0])\n",
    "for pred in pred_list:\n",
    "    prediction = prediction*pred\n",
    "prediction = prediction**(1./len(pred_list))\n",
    "# Make a submission file\n",
    "top_3 = np.array(LABELS)[np.argsort(-prediction, axis=1)[:, :3]]\n",
    "predicted_labels = [' '.join(list(x)) for x in top_3]\n",
    "test = pd.read_csv('../input/freesound-audio-tagging/sample_submission.csv')\n",
    "test['label'] = predicted_labels\n",
    "test[['fname', 'label']].to_csv(\"1d_2d_ensembled_submission.csv\", index=False)"
   ]
  },
  {
   "cell_type": "markdown",
   "metadata": {
    "_cell_guid": "34e4b1a5-49ac-49ff-a9cd-9b341d784e9b",
    "_uuid": "836b4a9008b4a239f3c41d8f3997bd49fa3c2280"
   },
   "source": [
    "<a id=\"conclusion\"></a>\n",
    "## <center>Results and Conclusion</center>"
   ]
  },
  {
   "cell_type": "markdown",
   "metadata": {
    "_cell_guid": "1f6bb71f-f461-414c-90d1-725c03f368ff",
    "_uuid": "01cfbfa163adb3da8b7b7da3310fb9e38ce0d478",
    "collapsed": true
   },
   "source": [
    "So far, we have trained two models. Let's analyze their relative complexity and strength.\n",
    "\n",
    "\n",
    "\n",
    "| Model        | Number of Trainable parameters           | Public LB score  |\n",
    "| ------------- |:-------------:| -----:|\n",
    "| 1D Conv on Raw wave      | 360,513 | 0.809 |\n",
    "| 2D Conv on MFCC (verified labels only)    | 168,361  |   0.785 |\n",
    "| 2D Conv on MFCC     | 168,361  |   0.844 |\n",
    "| 1D Conv + 2D Conv Ensemble     | N/A  |   0.895 |\n",
    "\n",
    "**As we can see, 2D Convolution on MFCC performs better than 1D Convolution on Raw waves.**"
   ]
  },
  {
   "cell_type": "markdown",
   "metadata": {
    "_cell_guid": "78397951-3d15-45c1-bc29-17c853d7adf5",
    "_uuid": "b8db90dc506d23d6241c606ca03fd1762f38f36f"
   },
   "source": [
    "## Coming Soon\n",
    "\n",
    "1. Data Augmentation\n",
    "2. Training on Manually Verified Labels"
   ]
  }
 ],
 "metadata": {
  "kernelspec": {
   "display_name": "Python 3",
   "language": "python",
   "name": "python3"
  },
  "language_info": {
   "codemirror_mode": {
    "name": "ipython",
    "version": 3
   },
   "file_extension": ".py",
   "mimetype": "text/x-python",
   "name": "python",
   "nbconvert_exporter": "python",
   "pygments_lexer": "ipython3",
   "version": "3.6.6"
  }
 },
 "nbformat": 4,
 "nbformat_minor": 1
}
