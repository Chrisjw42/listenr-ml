{
 "cells": [
  {
   "cell_type": "code",
   "execution_count": 54,
   "metadata": {},
   "outputs": [],
   "source": [
    "import pandas as pd\n",
    "import dask\n",
    "from dask import dataframe as dd\n",
    "from dask.distributed import Client\n",
    "import keras\n",
    "from keras.models import load_model\n",
    "import librosa\n",
    "import numpy as np\n",
    "np.random.seed(1001)\n",
    "\n",
    "import pickle\n",
    "import os\n",
    "import shutil\n",
    "\n",
    "import IPython\n",
    "import matplotlib\n",
    "import matplotlib.pyplot as plt\n",
    "import pandas as pd\n",
    "import seaborn as sns\n",
    "from tqdm import tqdm_notebook\n",
    "from sklearn.model_selection import StratifiedKFold, train_test_split\n",
    "import sklearn\n",
    "import dask.dataframe as dd\n",
    "from dask import array\n",
    "\n",
    "import librosa\n",
    "import IPython.display as ipd  # To play sound in the notebook\n",
    "import librosa.display\n",
    "\n",
    "import keras\n",
    "from keras.layers import Conv1D, Dropout, Dense, MaxPooling1D, Flatten, Conv2D, MaxPooling2D\n",
    "from keras import Sequential\n",
    "\n",
    "%matplotlib inline\n",
    "matplotlib.style.use('ggplot')\n",
    "\n",
    "import dask\n",
    "from dask.distributed import Client, wait, progress\n",
    "from sklearn.preprocessing import StandardScaler"
   ]
  },
  {
   "cell_type": "code",
   "execution_count": 55,
   "metadata": {},
   "outputs": [],
   "source": [
    "res = dd.read_parquet(\"res/*.parquet\").compute()"
   ]
  },
  {
   "cell_type": "code",
   "execution_count": 56,
   "metadata": {},
   "outputs": [
    {
     "data": {
      "text/html": [
       "<div>\n",
       "<style scoped>\n",
       "    .dataframe tbody tr th:only-of-type {\n",
       "        vertical-align: middle;\n",
       "    }\n",
       "\n",
       "    .dataframe tbody tr th {\n",
       "        vertical-align: top;\n",
       "    }\n",
       "\n",
       "    .dataframe thead th {\n",
       "        text-align: right;\n",
       "    }\n",
       "</style>\n",
       "<table border=\"1\" class=\"dataframe\">\n",
       "  <thead>\n",
       "    <tr style=\"text-align: right;\">\n",
       "      <th></th>\n",
       "      <th>dropout</th>\n",
       "      <th>n_conv</th>\n",
       "      <th>base_dense</th>\n",
       "      <th>n_filters</th>\n",
       "      <th>loss</th>\n",
       "      <th>acc</th>\n",
       "    </tr>\n",
       "  </thead>\n",
       "  <tbody>\n",
       "    <tr>\n",
       "      <th>10</th>\n",
       "      <td>0.3</td>\n",
       "      <td>2.0</td>\n",
       "      <td>64.0</td>\n",
       "      <td>16.0</td>\n",
       "      <td>1.573454</td>\n",
       "      <td>0.348993</td>\n",
       "    </tr>\n",
       "    <tr>\n",
       "      <th>12</th>\n",
       "      <td>0.3</td>\n",
       "      <td>2.0</td>\n",
       "      <td>32.0</td>\n",
       "      <td>16.0</td>\n",
       "      <td>1.634949</td>\n",
       "      <td>0.296552</td>\n",
       "    </tr>\n",
       "    <tr>\n",
       "      <th>3</th>\n",
       "      <td>0.5</td>\n",
       "      <td>2.0</td>\n",
       "      <td>32.0</td>\n",
       "      <td>32.0</td>\n",
       "      <td>1.700319</td>\n",
       "      <td>0.376712</td>\n",
       "    </tr>\n",
       "    <tr>\n",
       "      <th>6</th>\n",
       "      <td>0.5</td>\n",
       "      <td>3.0</td>\n",
       "      <td>32.0</td>\n",
       "      <td>32.0</td>\n",
       "      <td>1.724222</td>\n",
       "      <td>0.236934</td>\n",
       "    </tr>\n",
       "    <tr>\n",
       "      <th>2</th>\n",
       "      <td>0.5</td>\n",
       "      <td>4.0</td>\n",
       "      <td>32.0</td>\n",
       "      <td>8.0</td>\n",
       "      <td>1.740797</td>\n",
       "      <td>0.258567</td>\n",
       "    </tr>\n",
       "  </tbody>\n",
       "</table>\n",
       "</div>"
      ],
      "text/plain": [
       "    dropout  n_conv  base_dense  n_filters      loss       acc\n",
       "10      0.3     2.0        64.0       16.0  1.573454  0.348993\n",
       "12      0.3     2.0        32.0       16.0  1.634949  0.296552\n",
       "3       0.5     2.0        32.0       32.0  1.700319  0.376712\n",
       "6       0.5     3.0        32.0       32.0  1.724222  0.236934\n",
       "2       0.5     4.0        32.0        8.0  1.740797  0.258567"
      ]
     },
     "execution_count": 56,
     "metadata": {},
     "output_type": "execute_result"
    }
   ],
   "source": [
    "res.sort_values(\"loss\").head()"
   ]
  },
  {
   "cell_type": "markdown",
   "metadata": {},
   "source": [
    "# Utilise dask to read all parquet files across multiple cores"
   ]
  },
  {
   "cell_type": "code",
   "execution_count": 57,
   "metadata": {},
   "outputs": [],
   "source": [
    "res_1D = dd.read_parquet(\"res_1D/*\").compute()"
   ]
  },
  {
   "cell_type": "code",
   "execution_count": 58,
   "metadata": {},
   "outputs": [
    {
     "data": {
      "text/html": [
       "<div>\n",
       "<style scoped>\n",
       "    .dataframe tbody tr th:only-of-type {\n",
       "        vertical-align: middle;\n",
       "    }\n",
       "\n",
       "    .dataframe tbody tr th {\n",
       "        vertical-align: top;\n",
       "    }\n",
       "\n",
       "    .dataframe thead th {\n",
       "        text-align: right;\n",
       "    }\n",
       "</style>\n",
       "<table border=\"1\" class=\"dataframe\">\n",
       "  <thead>\n",
       "    <tr style=\"text-align: right;\">\n",
       "      <th></th>\n",
       "      <th>fiter_size</th>\n",
       "      <th>pool_size</th>\n",
       "      <th>base_dense</th>\n",
       "      <th>dropout</th>\n",
       "      <th>reg_amt</th>\n",
       "      <th>n_filt</th>\n",
       "      <th>extra_dense</th>\n",
       "      <th>loss</th>\n",
       "      <th>acc</th>\n",
       "    </tr>\n",
       "  </thead>\n",
       "  <tbody>\n",
       "    <tr>\n",
       "      <th>3-5-128-0.5-0.0-128-True</th>\n",
       "      <td>3</td>\n",
       "      <td>5</td>\n",
       "      <td>128</td>\n",
       "      <td>0.5</td>\n",
       "      <td>0.0</td>\n",
       "      <td>128</td>\n",
       "      <td>True</td>\n",
       "      <td>1.514246</td>\n",
       "      <td>0.371681</td>\n",
       "    </tr>\n",
       "    <tr>\n",
       "      <th>6-5-256-0.5-0.0-128-True</th>\n",
       "      <td>6</td>\n",
       "      <td>5</td>\n",
       "      <td>256</td>\n",
       "      <td>0.5</td>\n",
       "      <td>0.0</td>\n",
       "      <td>128</td>\n",
       "      <td>True</td>\n",
       "      <td>1.519843</td>\n",
       "      <td>0.371681</td>\n",
       "    </tr>\n",
       "    <tr>\n",
       "      <th>6-4-128-0.5-0.0-128-True</th>\n",
       "      <td>6</td>\n",
       "      <td>4</td>\n",
       "      <td>128</td>\n",
       "      <td>0.5</td>\n",
       "      <td>0.0</td>\n",
       "      <td>128</td>\n",
       "      <td>True</td>\n",
       "      <td>1.522450</td>\n",
       "      <td>0.336283</td>\n",
       "    </tr>\n",
       "    <tr>\n",
       "      <th>3-4-256-0.3-0.0-64-True</th>\n",
       "      <td>3</td>\n",
       "      <td>4</td>\n",
       "      <td>256</td>\n",
       "      <td>0.3</td>\n",
       "      <td>0.0</td>\n",
       "      <td>64</td>\n",
       "      <td>True</td>\n",
       "      <td>1.524509</td>\n",
       "      <td>0.336283</td>\n",
       "    </tr>\n",
       "    <tr>\n",
       "      <th>3-4-256-0.3-0.0-32-True</th>\n",
       "      <td>3</td>\n",
       "      <td>4</td>\n",
       "      <td>256</td>\n",
       "      <td>0.3</td>\n",
       "      <td>0.0</td>\n",
       "      <td>32</td>\n",
       "      <td>True</td>\n",
       "      <td>1.528267</td>\n",
       "      <td>0.309735</td>\n",
       "    </tr>\n",
       "  </tbody>\n",
       "</table>\n",
       "</div>"
      ],
      "text/plain": [
       "                          fiter_size  pool_size  base_dense  dropout  reg_amt  \\\n",
       "3-5-128-0.5-0.0-128-True           3          5         128      0.5      0.0   \n",
       "6-5-256-0.5-0.0-128-True           6          5         256      0.5      0.0   \n",
       "6-4-128-0.5-0.0-128-True           6          4         128      0.5      0.0   \n",
       "3-4-256-0.3-0.0-64-True            3          4         256      0.3      0.0   \n",
       "3-4-256-0.3-0.0-32-True            3          4         256      0.3      0.0   \n",
       "\n",
       "                          n_filt  extra_dense      loss       acc  \n",
       "3-5-128-0.5-0.0-128-True     128         True  1.514246  0.371681  \n",
       "6-5-256-0.5-0.0-128-True     128         True  1.519843  0.371681  \n",
       "6-4-128-0.5-0.0-128-True     128         True  1.522450  0.336283  \n",
       "3-4-256-0.3-0.0-64-True       64         True  1.524509  0.336283  \n",
       "3-4-256-0.3-0.0-32-True       32         True  1.528267  0.309735  "
      ]
     },
     "execution_count": 58,
     "metadata": {},
     "output_type": "execute_result"
    }
   ],
   "source": [
    "res_1D.sort_values(\"loss\").head()"
   ]
  },
  {
   "cell_type": "code",
   "execution_count": 59,
   "metadata": {},
   "outputs": [],
   "source": [
    "train_meta = pd.read_parquet(\"train_meta\")\n",
    "val_meta = pd.read_parquet(\"val_meta\")\n",
    "test_meta = pd.read_parquet(\"test_meta\")"
   ]
  },
  {
   "cell_type": "markdown",
   "metadata": {},
   "source": [
    "# Preprocessing"
   ]
  },
  {
   "cell_type": "code",
   "execution_count": 60,
   "metadata": {},
   "outputs": [],
   "source": [
    "def get_stft_2d(y, sr = 22050, hop_length=32):\n",
    "    D = librosa.stft(y, hop_length=hop_length, n_fft=1024)\n",
    "    spec = librosa.amplitude_to_db(D,ref=np.max)\n",
    "    df = pd.DataFrame(spec / 80)\n",
    "    return spec"
   ]
  },
  {
   "cell_type": "code",
   "execution_count": 61,
   "metadata": {},
   "outputs": [],
   "source": [
    "def get_length_in_seconds(y,sr):\n",
    "    return len(y)/sr\n",
    "\n",
    "def create_samples_from_fn(fn, desired_sr = 22050):\n",
    "    \"\"\"\n",
    "    Also trims silence from a file\n",
    "    \"\"\"    \n",
    "    try:\n",
    "        # Load, resample if needed\n",
    "        y, sr = librosa.load(fn)\n",
    "    except:\n",
    "        return None\n",
    "    if sr != desired_sr:\n",
    "        y = librosa.core.resample(y, sr, desired_sr)\n",
    "        sr = desired_sr\n",
    "\n",
    "    # Standard scaling\n",
    "    standardScaler = StandardScaler()    \n",
    "    y = standardScaler.fit_transform(y.reshape(-1, 1)).reshape(1, -1)[0]\n",
    "\n",
    "    length = get_length_in_seconds(y, sr)\n",
    "\n",
    "    # Trim silence\n",
    "    y_trimmed = librosa.effects.trim(y, top_db=12.5)[0]\n",
    "    length_trimmed = get_length_in_seconds(y_trimmed, sr)\n",
    "\n",
    "    # Split into chunks\n",
    "    chunk_len = int(sr / 2) # .5 seconds\n",
    "    end = len(y_trimmed) - (len(y_trimmed) % chunk_len)\n",
    "    n_chunks = int(end / chunk_len)\n",
    "    if n_chunks == 0:\n",
    "        return None\n",
    "    y_trimmed_chunks = np.split(y_trimmed[:end], n_chunks)\n",
    "    y_trimmed_chunks = [x for x in y_trimmed_chunks]\n",
    "    \n",
    "    return y_trimmed_chunks"
   ]
  },
  {
   "cell_type": "code",
   "execution_count": 62,
   "metadata": {},
   "outputs": [],
   "source": [
    "def get_ts_features(y,sr = 22050, hop_length=32):\n",
    "    n_cont_bands = 2\n",
    "    res = pd.DataFrame(columns=[\"contrast_band_{}\".format(x) for x in range(n_cont_bands+1)].extend([\"sroll\", \"sflat\"]))\n",
    "    \n",
    "    scont = librosa.feature.spectral_contrast(y,n_bands=n_cont_bands, hop_length=hop_length)\n",
    "    \n",
    "    for i in range(n_cont_bands + 1):\n",
    "        res[\"contrast_band_{}\".format(i)] = scont[i]\n",
    "        \n",
    "    sroll = librosa.feature.spectral_rolloff(y,sr, hop_length=hop_length)[0].T\n",
    "    res[\"sroll\"] = sroll\n",
    "    \n",
    "    sflat = librosa.feature.spectral_flatness(y, hop_length=hop_length)[0].T\n",
    "    res[\"sflat\"] = sflat\n",
    "    \n",
    "    y_df = pd.DataFrame(y)\n",
    "    res[\"downsampled\"] = y_df.groupby(y_df.index//hop_length).mean().rolling(2).mean()\n",
    "    res[\"downsampled_smooth_abs\"] = y_df.abs().groupby(y_df.index//hop_length).mean().rolling(6).mean()\n",
    "\n",
    "    return res.fillna(method=\"backfill\").fillna(method=\"ffill\")"
   ]
  },
  {
   "cell_type": "code",
   "execution_count": 63,
   "metadata": {
    "scrolled": true
   },
   "outputs": [],
   "source": [
    "def preprocess_sample(fn):\n",
    "    # Load\n",
    "    chunks = create_samples_from_fn(fn)\n",
    "    \n",
    "    # 2D transformation\n",
    "    chunks_2d = [get_stft_2d(ch) for ch in chunks]\n",
    "    \n",
    "    # 1D transformation\n",
    "    chunks_1d = [get_ts_features(ch).values for ch in chunks] \n",
    "    return np.array(chunks_1d).reshape(-1, 345, 7), np.array(chunks_2d).reshape(-1, 513, 345, 1)    "
   ]
  },
  {
   "cell_type": "markdown",
   "metadata": {},
   "source": [
    "# Load the two sub-models "
   ]
  },
  {
   "cell_type": "code",
   "execution_count": 64,
   "metadata": {},
   "outputs": [],
   "source": [
    "md_2d = load_model(\"md/0.3-1-32-16-False.md\")\n",
    "md_1d = load_model(\"md_1D/3-5-128-0.5-0.0-128-True\")"
   ]
  },
  {
   "cell_type": "code",
   "execution_count": 65,
   "metadata": {},
   "outputs": [
    {
     "name": "stdout",
     "output_type": "stream",
     "text": [
      "_________________________________________________________________\n",
      "Layer (type)                 Output Shape              Param #   \n",
      "=================================================================\n",
      "conv2d_1 (Conv2D)            (None, 504, 336, 16)      1616      \n",
      "_________________________________________________________________\n",
      "max_pooling2d_1 (MaxPooling2 (None, 51, 34, 16)        0         \n",
      "_________________________________________________________________\n",
      "dropout_1 (Dropout)          (None, 51, 34, 16)        0         \n",
      "_________________________________________________________________\n",
      "flatten_1 (Flatten)          (None, 27744)             0         \n",
      "_________________________________________________________________\n",
      "dense_1 (Dense)              (None, 32)                887840    \n",
      "_________________________________________________________________\n",
      "dropout_2 (Dropout)          (None, 32)                0         \n",
      "_________________________________________________________________\n",
      "dense_2 (Dense)              (None, 6)                 198       \n",
      "=================================================================\n",
      "Total params: 889,654\n",
      "Trainable params: 889,654\n",
      "Non-trainable params: 0\n",
      "_________________________________________________________________\n"
     ]
    }
   ],
   "source": [
    "md_2d.summary()"
   ]
  },
  {
   "cell_type": "code",
   "execution_count": 66,
   "metadata": {},
   "outputs": [
    {
     "name": "stdout",
     "output_type": "stream",
     "text": [
      "_________________________________________________________________\n",
      "Layer (type)                 Output Shape              Param #   \n",
      "=================================================================\n",
      "conv1d_1 (Conv1D)            (None, 343, 128)          2816      \n",
      "_________________________________________________________________\n",
      "dropout_1 (Dropout)          (None, 343, 128)          0         \n",
      "_________________________________________________________________\n",
      "conv1d_2 (Conv1D)            (None, 343, 128)          49280     \n",
      "_________________________________________________________________\n",
      "max_pooling1d_1 (MaxPooling1 (None, 69, 128)           0         \n",
      "_________________________________________________________________\n",
      "dropout_2 (Dropout)          (None, 69, 128)           0         \n",
      "_________________________________________________________________\n",
      "flatten_1 (Flatten)          (None, 8832)              0         \n",
      "_________________________________________________________________\n",
      "dense_1 (Dense)              (None, 128)               1130624   \n",
      "_________________________________________________________________\n",
      "dropout_3 (Dropout)          (None, 128)               0         \n",
      "_________________________________________________________________\n",
      "dense_2 (Dense)              (None, 64)                8256      \n",
      "_________________________________________________________________\n",
      "dense_3 (Dense)              (None, 6)                 390       \n",
      "=================================================================\n",
      "Total params: 1,191,366\n",
      "Trainable params: 1,191,366\n",
      "Non-trainable params: 0\n",
      "_________________________________________________________________\n"
     ]
    }
   ],
   "source": [
    "md_1d.summary()"
   ]
  },
  {
   "cell_type": "code",
   "execution_count": 67,
   "metadata": {
    "scrolled": true
   },
   "outputs": [
    {
     "name": "stderr",
     "output_type": "stream",
     "text": [
      "C:\\ProgramData\\Anaconda3\\envs\\gpu\\lib\\site-packages\\librosa\\core\\spectrum.py:960: UserWarning: amplitude_to_db was called on complex input so phase information will be discarded. To suppress this warning, call amplitude_to_db(np.abs(S)) instead.\n",
      "  warnings.warn('amplitude_to_db was called on complex input so phase '\n",
      "C:\\ProgramData\\Anaconda3\\envs\\gpu\\lib\\site-packages\\librosa\\core\\spectrum.py:960: UserWarning: amplitude_to_db was called on complex input so phase information will be discarded. To suppress this warning, call amplitude_to_db(np.abs(S)) instead.\n",
      "  warnings.warn('amplitude_to_db was called on complex input so phase '\n"
     ]
    }
   ],
   "source": [
    "one, two = preprocess_sample(\"../data/listenr-ml/crema-wav/AudioWAV/1001_MTI_NEU_XX.wav\")"
   ]
  },
  {
   "cell_type": "code",
   "execution_count": 68,
   "metadata": {
    "scrolled": true
   },
   "outputs": [
    {
     "data": {
      "text/plain": [
       "1624    ../data/listenr-ml/crema-wav/AudioWAV/1007_WSI...\n",
       "1345    ../data/listenr-ml/crema-wav/AudioWAV/1004_IWL...\n",
       "104     ../data/listenr-ml/RAVDESS-Audio_Speech_Actors...\n",
       "1166    ../data/listenr-ml/crema-wav/AudioWAV/1002_ITH...\n",
       "957     ../data/listenr-ml/RAVDESS-Audio_Speech_Actors...\n",
       "1019    ../data/listenr-ml/RAVDESS-Audio_Speech_Actors...\n",
       "471     ../data/listenr-ml/RAVDESS-Audio_Speech_Actors...\n",
       "1490    ../data/listenr-ml/crema-wav/AudioWAV/1006_IOM...\n",
       "796     ../data/listenr-ml/RAVDESS-Audio_Speech_Actors...\n",
       "366     ../data/listenr-ml/RAVDESS-Audio_Speech_Actors...\n",
       "1406    ../data/listenr-ml/crema-wav/AudioWAV/1005_IOM...\n",
       "829     ../data/listenr-ml/RAVDESS-Audio_Speech_Actors...\n",
       "1182    ../data/listenr-ml/crema-wav/AudioWAV/1002_IWL...\n",
       "1718    ../data/listenr-ml/crema-wav/AudioWAV/1009_IEO...\n",
       "1252    ../data/listenr-ml/crema-wav/AudioWAV/1003_ITH...\n",
       "110     ../data/listenr-ml/RAVDESS-Audio_Speech_Actors...\n",
       "1178    ../data/listenr-ml/crema-wav/AudioWAV/1002_IWL...\n",
       "1323    ../data/listenr-ml/crema-wav/AudioWAV/1004_IOM...\n",
       "1396    ../data/listenr-ml/crema-wav/AudioWAV/1005_IEO...\n",
       "448     ../data/listenr-ml/RAVDESS-Audio_Speech_Actors...\n",
       "1610    ../data/listenr-ml/crema-wav/AudioWAV/1007_TAI...\n",
       "58      ../data/listenr-ml/RAVDESS-Audio_Speech_Actors...\n",
       "1211    ../data/listenr-ml/crema-wav/AudioWAV/1002_TSI...\n",
       "290     ../data/listenr-ml/RAVDESS-Audio_Speech_Actors...\n",
       "613     ../data/listenr-ml/RAVDESS-Audio_Speech_Actors...\n",
       "687     ../data/listenr-ml/RAVDESS-Audio_Speech_Actors...\n",
       "810     ../data/listenr-ml/RAVDESS-Audio_Speech_Actors...\n",
       "338     ../data/listenr-ml/RAVDESS-Audio_Speech_Actors...\n",
       "32      ../data/listenr-ml/RAVDESS-Audio_Speech_Actors...\n",
       "1112    ../data/listenr-ml/crema-wav/AudioWAV/1001_MTI...\n",
       "                              ...                        \n",
       "1479    ../data/listenr-ml/crema-wav/AudioWAV/1006_IEO...\n",
       "1456    ../data/listenr-ml/crema-wav/AudioWAV/1005_TSI...\n",
       "1614    ../data/listenr-ml/crema-wav/AudioWAV/1007_TIE...\n",
       "173     ../data/listenr-ml/RAVDESS-Audio_Speech_Actors...\n",
       "1715    ../data/listenr-ml/crema-wav/AudioWAV/1009_IEO...\n",
       "196     ../data/listenr-ml/RAVDESS-Audio_Speech_Actors...\n",
       "109     ../data/listenr-ml/RAVDESS-Audio_Speech_Actors...\n",
       "1150    ../data/listenr-ml/crema-wav/AudioWAV/1002_IEO...\n",
       "1247    ../data/listenr-ml/crema-wav/AudioWAV/1003_ITH...\n",
       "538     ../data/listenr-ml/RAVDESS-Audio_Speech_Actors...\n",
       "1286    ../data/listenr-ml/crema-wav/AudioWAV/1003_TIE...\n",
       "1085    ../data/listenr-ml/crema-wav/AudioWAV/1001_ITH...\n",
       "1452    ../data/listenr-ml/crema-wav/AudioWAV/1005_TIE...\n",
       "937     ../data/listenr-ml/RAVDESS-Audio_Speech_Actors...\n",
       "1367    ../data/listenr-ml/crema-wav/AudioWAV/1004_TIE...\n",
       "1333    ../data/listenr-ml/crema-wav/AudioWAV/1004_ITH...\n",
       "273     ../data/listenr-ml/RAVDESS-Audio_Speech_Actors...\n",
       "522     ../data/listenr-ml/RAVDESS-Audio_Speech_Actors...\n",
       "551     ../data/listenr-ml/RAVDESS-Audio_Speech_Actors...\n",
       "963     ../data/listenr-ml/RAVDESS-Audio_Speech_Actors...\n",
       "403     ../data/listenr-ml/RAVDESS-Audio_Speech_Actors...\n",
       "611     ../data/listenr-ml/RAVDESS-Audio_Speech_Actors...\n",
       "546     ../data/listenr-ml/RAVDESS-Audio_Speech_Actors...\n",
       "1472    ../data/listenr-ml/crema-wav/AudioWAV/1006_IEO...\n",
       "1650    ../data/listenr-ml/crema-wav/AudioWAV/1008_IEO...\n",
       "425     ../data/listenr-ml/RAVDESS-Audio_Speech_Actors...\n",
       "1499    ../data/listenr-ml/crema-wav/AudioWAV/1006_ITS...\n",
       "570     ../data/listenr-ml/RAVDESS-Audio_Speech_Actors...\n",
       "855     ../data/listenr-ml/RAVDESS-Audio_Speech_Actors...\n",
       "361     ../data/listenr-ml/RAVDESS-Audio_Speech_Actors...\n",
       "Name: filepath, Length: 88, dtype: object"
      ]
     },
     "execution_count": 68,
     "metadata": {},
     "output_type": "execute_result"
    }
   ],
   "source": [
    "test_meta[\"filepath\"]"
   ]
  },
  {
   "cell_type": "code",
   "execution_count": 69,
   "metadata": {
    "scrolled": true
   },
   "outputs": [
    {
     "name": "stdout",
     "output_type": "stream",
     "text": [
      "../data/listenr-ml/RAVDESS-Audio_Speech_Actors_01-24/Actor_04/03-01-07-02-01-02-04.wav\n"
     ]
    },
    {
     "name": "stderr",
     "output_type": "stream",
     "text": [
      "C:\\ProgramData\\Anaconda3\\envs\\gpu\\lib\\site-packages\\librosa\\core\\spectrum.py:960: UserWarning: amplitude_to_db was called on complex input so phase information will be discarded. To suppress this warning, call amplitude_to_db(np.abs(S)) instead.\n",
      "  warnings.warn('amplitude_to_db was called on complex input so phase '\n",
      "C:\\ProgramData\\Anaconda3\\envs\\gpu\\lib\\site-packages\\librosa\\core\\spectrum.py:960: UserWarning: amplitude_to_db was called on complex input so phase information will be discarded. To suppress this warning, call amplitude_to_db(np.abs(S)) instead.\n",
      "  warnings.warn('amplitude_to_db was called on complex input so phase '\n",
      "C:\\ProgramData\\Anaconda3\\envs\\gpu\\lib\\site-packages\\librosa\\core\\spectrum.py:960: UserWarning: amplitude_to_db was called on complex input so phase information will be discarded. To suppress this warning, call amplitude_to_db(np.abs(S)) instead.\n",
      "  warnings.warn('amplitude_to_db was called on complex input so phase '\n"
     ]
    },
    {
     "name": "stdout",
     "output_type": "stream",
     "text": [
      "../data/listenr-ml/RAVDESS-Audio_Speech_Actors_01-24/Actor_09/03-01-03-02-01-02-09.wav\n"
     ]
    },
    {
     "name": "stderr",
     "output_type": "stream",
     "text": [
      "C:\\ProgramData\\Anaconda3\\envs\\gpu\\lib\\site-packages\\librosa\\core\\spectrum.py:960: UserWarning: amplitude_to_db was called on complex input so phase information will be discarded. To suppress this warning, call amplitude_to_db(np.abs(S)) instead.\n",
      "  warnings.warn('amplitude_to_db was called on complex input so phase '\n",
      "C:\\ProgramData\\Anaconda3\\envs\\gpu\\lib\\site-packages\\librosa\\core\\spectrum.py:960: UserWarning: amplitude_to_db was called on complex input so phase information will be discarded. To suppress this warning, call amplitude_to_db(np.abs(S)) instead.\n",
      "  warnings.warn('amplitude_to_db was called on complex input so phase '\n",
      "C:\\ProgramData\\Anaconda3\\envs\\gpu\\lib\\site-packages\\librosa\\core\\spectrum.py:960: UserWarning: amplitude_to_db was called on complex input so phase information will be discarded. To suppress this warning, call amplitude_to_db(np.abs(S)) instead.\n",
      "  warnings.warn('amplitude_to_db was called on complex input so phase '\n",
      "C:\\ProgramData\\Anaconda3\\envs\\gpu\\lib\\site-packages\\librosa\\core\\spectrum.py:960: UserWarning: amplitude_to_db was called on complex input so phase information will be discarded. To suppress this warning, call amplitude_to_db(np.abs(S)) instead.\n",
      "  warnings.warn('amplitude_to_db was called on complex input so phase '\n"
     ]
    },
    {
     "name": "stdout",
     "output_type": "stream",
     "text": [
      "../data/listenr-ml/crema-wav/AudioWAV/1001_MTI_NEU_XX.wav\n"
     ]
    },
    {
     "name": "stderr",
     "output_type": "stream",
     "text": [
      "C:\\ProgramData\\Anaconda3\\envs\\gpu\\lib\\site-packages\\librosa\\core\\spectrum.py:960: UserWarning: amplitude_to_db was called on complex input so phase information will be discarded. To suppress this warning, call amplitude_to_db(np.abs(S)) instead.\n",
      "  warnings.warn('amplitude_to_db was called on complex input so phase '\n",
      "C:\\ProgramData\\Anaconda3\\envs\\gpu\\lib\\site-packages\\librosa\\core\\spectrum.py:960: UserWarning: amplitude_to_db was called on complex input so phase information will be discarded. To suppress this warning, call amplitude_to_db(np.abs(S)) instead.\n",
      "  warnings.warn('amplitude_to_db was called on complex input so phase '\n"
     ]
    },
    {
     "name": "stdout",
     "output_type": "stream",
     "text": [
      "../data/listenr-ml/crema-wav/AudioWAV/1002_IWL_NEU_XX.wav\n"
     ]
    },
    {
     "name": "stderr",
     "output_type": "stream",
     "text": [
      "C:\\ProgramData\\Anaconda3\\envs\\gpu\\lib\\site-packages\\librosa\\core\\spectrum.py:960: UserWarning: amplitude_to_db was called on complex input so phase information will be discarded. To suppress this warning, call amplitude_to_db(np.abs(S)) instead.\n",
      "  warnings.warn('amplitude_to_db was called on complex input so phase '\n",
      "C:\\ProgramData\\Anaconda3\\envs\\gpu\\lib\\site-packages\\librosa\\core\\spectrum.py:960: UserWarning: amplitude_to_db was called on complex input so phase information will be discarded. To suppress this warning, call amplitude_to_db(np.abs(S)) instead.\n",
      "  warnings.warn('amplitude_to_db was called on complex input so phase '\n"
     ]
    },
    {
     "name": "stdout",
     "output_type": "stream",
     "text": [
      "../data/listenr-ml/RAVDESS-Audio_Speech_Actors_01-24/Actor_13/03-01-07-02-02-01-13.wav\n"
     ]
    },
    {
     "name": "stderr",
     "output_type": "stream",
     "text": [
      "C:\\ProgramData\\Anaconda3\\envs\\gpu\\lib\\site-packages\\librosa\\core\\spectrum.py:960: UserWarning: amplitude_to_db was called on complex input so phase information will be discarded. To suppress this warning, call amplitude_to_db(np.abs(S)) instead.\n",
      "  warnings.warn('amplitude_to_db was called on complex input so phase '\n",
      "C:\\ProgramData\\Anaconda3\\envs\\gpu\\lib\\site-packages\\librosa\\core\\spectrum.py:960: UserWarning: amplitude_to_db was called on complex input so phase information will be discarded. To suppress this warning, call amplitude_to_db(np.abs(S)) instead.\n",
      "  warnings.warn('amplitude_to_db was called on complex input so phase '\n"
     ]
    },
    {
     "name": "stdout",
     "output_type": "stream",
     "text": [
      "../data/listenr-ml/crema-wav/AudioWAV/1002_IEO_FEA_HI.wav\n"
     ]
    },
    {
     "name": "stderr",
     "output_type": "stream",
     "text": [
      "C:\\ProgramData\\Anaconda3\\envs\\gpu\\lib\\site-packages\\librosa\\core\\spectrum.py:960: UserWarning: amplitude_to_db was called on complex input so phase information will be discarded. To suppress this warning, call amplitude_to_db(np.abs(S)) instead.\n",
      "  warnings.warn('amplitude_to_db was called on complex input so phase '\n"
     ]
    },
    {
     "name": "stdout",
     "output_type": "stream",
     "text": [
      "../data/listenr-ml/RAVDESS-Audio_Speech_Actors_01-24/Actor_03/03-01-05-01-01-02-03.wav\n"
     ]
    },
    {
     "name": "stderr",
     "output_type": "stream",
     "text": [
      "C:\\ProgramData\\Anaconda3\\envs\\gpu\\lib\\site-packages\\librosa\\core\\spectrum.py:960: UserWarning: amplitude_to_db was called on complex input so phase information will be discarded. To suppress this warning, call amplitude_to_db(np.abs(S)) instead.\n",
      "  warnings.warn('amplitude_to_db was called on complex input so phase '\n",
      "C:\\ProgramData\\Anaconda3\\envs\\gpu\\lib\\site-packages\\librosa\\core\\spectrum.py:960: UserWarning: amplitude_to_db was called on complex input so phase information will be discarded. To suppress this warning, call amplitude_to_db(np.abs(S)) instead.\n",
      "  warnings.warn('amplitude_to_db was called on complex input so phase '\n",
      "C:\\ProgramData\\Anaconda3\\envs\\gpu\\lib\\site-packages\\librosa\\core\\spectrum.py:960: UserWarning: amplitude_to_db was called on complex input so phase information will be discarded. To suppress this warning, call amplitude_to_db(np.abs(S)) instead.\n",
      "  warnings.warn('amplitude_to_db was called on complex input so phase '\n"
     ]
    },
    {
     "name": "stdout",
     "output_type": "stream",
     "text": [
      "../data/listenr-ml/crema-wav/AudioWAV/1008_IEO_SAD_MD.wav\n"
     ]
    },
    {
     "name": "stderr",
     "output_type": "stream",
     "text": [
      "C:\\ProgramData\\Anaconda3\\envs\\gpu\\lib\\site-packages\\librosa\\core\\spectrum.py:960: UserWarning: amplitude_to_db was called on complex input so phase information will be discarded. To suppress this warning, call amplitude_to_db(np.abs(S)) instead.\n",
      "  warnings.warn('amplitude_to_db was called on complex input so phase '\n"
     ]
    },
    {
     "name": "stdout",
     "output_type": "stream",
     "text": [
      "../data/listenr-ml/crema-wav/AudioWAV/1003_TIE_HAP_XX.wav\n"
     ]
    },
    {
     "name": "stderr",
     "output_type": "stream",
     "text": [
      "C:\\ProgramData\\Anaconda3\\envs\\gpu\\lib\\site-packages\\librosa\\core\\spectrum.py:960: UserWarning: amplitude_to_db was called on complex input so phase information will be discarded. To suppress this warning, call amplitude_to_db(np.abs(S)) instead.\n",
      "  warnings.warn('amplitude_to_db was called on complex input so phase '\n",
      "C:\\ProgramData\\Anaconda3\\envs\\gpu\\lib\\site-packages\\librosa\\core\\spectrum.py:960: UserWarning: amplitude_to_db was called on complex input so phase information will be discarded. To suppress this warning, call amplitude_to_db(np.abs(S)) instead.\n",
      "  warnings.warn('amplitude_to_db was called on complex input so phase '\n",
      "C:\\ProgramData\\Anaconda3\\envs\\gpu\\lib\\site-packages\\librosa\\core\\spectrum.py:960: UserWarning: amplitude_to_db was called on complex input so phase information will be discarded. To suppress this warning, call amplitude_to_db(np.abs(S)) instead.\n",
      "  warnings.warn('amplitude_to_db was called on complex input so phase '\n"
     ]
    },
    {
     "name": "stdout",
     "output_type": "stream",
     "text": [
      "../data/listenr-ml/RAVDESS-Audio_Speech_Actors_01-24/Actor_03/03-01-03-02-02-02-03.wav\n"
     ]
    },
    {
     "name": "stderr",
     "output_type": "stream",
     "text": [
      "C:\\ProgramData\\Anaconda3\\envs\\gpu\\lib\\site-packages\\librosa\\core\\spectrum.py:960: UserWarning: amplitude_to_db was called on complex input so phase information will be discarded. To suppress this warning, call amplitude_to_db(np.abs(S)) instead.\n",
      "  warnings.warn('amplitude_to_db was called on complex input so phase '\n",
      "C:\\ProgramData\\Anaconda3\\envs\\gpu\\lib\\site-packages\\librosa\\core\\spectrum.py:960: UserWarning: amplitude_to_db was called on complex input so phase information will be discarded. To suppress this warning, call amplitude_to_db(np.abs(S)) instead.\n",
      "  warnings.warn('amplitude_to_db was called on complex input so phase '\n",
      "C:\\ProgramData\\Anaconda3\\envs\\gpu\\lib\\site-packages\\librosa\\core\\spectrum.py:960: UserWarning: amplitude_to_db was called on complex input so phase information will be discarded. To suppress this warning, call amplitude_to_db(np.abs(S)) instead.\n",
      "  warnings.warn('amplitude_to_db was called on complex input so phase '\n"
     ]
    },
    {
     "name": "stdout",
     "output_type": "stream",
     "text": [
      "../data/listenr-ml/RAVDESS-Audio_Speech_Actors_01-24/Actor_13/03-01-05-01-02-02-13.wav\n"
     ]
    },
    {
     "name": "stderr",
     "output_type": "stream",
     "text": [
      "C:\\ProgramData\\Anaconda3\\envs\\gpu\\lib\\site-packages\\librosa\\core\\spectrum.py:960: UserWarning: amplitude_to_db was called on complex input so phase information will be discarded. To suppress this warning, call amplitude_to_db(np.abs(S)) instead.\n",
      "  warnings.warn('amplitude_to_db was called on complex input so phase '\n",
      "C:\\ProgramData\\Anaconda3\\envs\\gpu\\lib\\site-packages\\librosa\\core\\spectrum.py:960: UserWarning: amplitude_to_db was called on complex input so phase information will be discarded. To suppress this warning, call amplitude_to_db(np.abs(S)) instead.\n",
      "  warnings.warn('amplitude_to_db was called on complex input so phase '\n"
     ]
    },
    {
     "name": "stdout",
     "output_type": "stream",
     "text": [
      "../data/listenr-ml/RAVDESS-Audio_Speech_Actors_01-24/Actor_09/03-01-01-01-01-02-09.wav\n"
     ]
    },
    {
     "name": "stderr",
     "output_type": "stream",
     "text": [
      "C:\\ProgramData\\Anaconda3\\envs\\gpu\\lib\\site-packages\\librosa\\core\\spectrum.py:960: UserWarning: amplitude_to_db was called on complex input so phase information will be discarded. To suppress this warning, call amplitude_to_db(np.abs(S)) instead.\n",
      "  warnings.warn('amplitude_to_db was called on complex input so phase '\n",
      "C:\\ProgramData\\Anaconda3\\envs\\gpu\\lib\\site-packages\\librosa\\core\\spectrum.py:960: UserWarning: amplitude_to_db was called on complex input so phase information will be discarded. To suppress this warning, call amplitude_to_db(np.abs(S)) instead.\n",
      "  warnings.warn('amplitude_to_db was called on complex input so phase '\n"
     ]
    },
    {
     "name": "stdout",
     "output_type": "stream",
     "text": [
      "../data/listenr-ml/RAVDESS-Audio_Speech_Actors_01-24/Actor_14/03-01-06-01-02-01-14.wav\n"
     ]
    },
    {
     "name": "stderr",
     "output_type": "stream",
     "text": [
      "C:\\ProgramData\\Anaconda3\\envs\\gpu\\lib\\site-packages\\librosa\\core\\spectrum.py:960: UserWarning: amplitude_to_db was called on complex input so phase information will be discarded. To suppress this warning, call amplitude_to_db(np.abs(S)) instead.\n",
      "  warnings.warn('amplitude_to_db was called on complex input so phase '\n",
      "C:\\ProgramData\\Anaconda3\\envs\\gpu\\lib\\site-packages\\librosa\\core\\spectrum.py:960: UserWarning: amplitude_to_db was called on complex input so phase information will be discarded. To suppress this warning, call amplitude_to_db(np.abs(S)) instead.\n",
      "  warnings.warn('amplitude_to_db was called on complex input so phase '\n"
     ]
    },
    {
     "name": "stdout",
     "output_type": "stream",
     "text": [
      "../data/listenr-ml/RAVDESS-Audio_Speech_Actors_01-24/Actor_16/03-01-05-02-02-02-16.wav\n"
     ]
    },
    {
     "name": "stderr",
     "output_type": "stream",
     "text": [
      "C:\\ProgramData\\Anaconda3\\envs\\gpu\\lib\\site-packages\\librosa\\core\\spectrum.py:960: UserWarning: amplitude_to_db was called on complex input so phase information will be discarded. To suppress this warning, call amplitude_to_db(np.abs(S)) instead.\n",
      "  warnings.warn('amplitude_to_db was called on complex input so phase '\n",
      "C:\\ProgramData\\Anaconda3\\envs\\gpu\\lib\\site-packages\\librosa\\core\\spectrum.py:960: UserWarning: amplitude_to_db was called on complex input so phase information will be discarded. To suppress this warning, call amplitude_to_db(np.abs(S)) instead.\n",
      "  warnings.warn('amplitude_to_db was called on complex input so phase '\n",
      "C:\\ProgramData\\Anaconda3\\envs\\gpu\\lib\\site-packages\\librosa\\core\\spectrum.py:960: UserWarning: amplitude_to_db was called on complex input so phase information will be discarded. To suppress this warning, call amplitude_to_db(np.abs(S)) instead.\n",
      "  warnings.warn('amplitude_to_db was called on complex input so phase '\n"
     ]
    },
    {
     "name": "stdout",
     "output_type": "stream",
     "text": [
      "../data/listenr-ml/crema-wav/AudioWAV/1003_ITH_SAD_XX.wav\n"
     ]
    },
    {
     "name": "stderr",
     "output_type": "stream",
     "text": [
      "C:\\ProgramData\\Anaconda3\\envs\\gpu\\lib\\site-packages\\librosa\\core\\spectrum.py:960: UserWarning: amplitude_to_db was called on complex input so phase information will be discarded. To suppress this warning, call amplitude_to_db(np.abs(S)) instead.\n",
      "  warnings.warn('amplitude_to_db was called on complex input so phase '\n",
      "C:\\ProgramData\\Anaconda3\\envs\\gpu\\lib\\site-packages\\librosa\\core\\spectrum.py:960: UserWarning: amplitude_to_db was called on complex input so phase information will be discarded. To suppress this warning, call amplitude_to_db(np.abs(S)) instead.\n",
      "  warnings.warn('amplitude_to_db was called on complex input so phase '\n"
     ]
    },
    {
     "name": "stdout",
     "output_type": "stream",
     "text": [
      "../data/listenr-ml/crema-wav/AudioWAV/1002_IEO_FEA_HI.wav\n"
     ]
    },
    {
     "name": "stderr",
     "output_type": "stream",
     "text": [
      "C:\\ProgramData\\Anaconda3\\envs\\gpu\\lib\\site-packages\\librosa\\core\\spectrum.py:960: UserWarning: amplitude_to_db was called on complex input so phase information will be discarded. To suppress this warning, call amplitude_to_db(np.abs(S)) instead.\n",
      "  warnings.warn('amplitude_to_db was called on complex input so phase '\n"
     ]
    },
    {
     "name": "stdout",
     "output_type": "stream",
     "text": [
      "../data/listenr-ml/crema-wav/AudioWAV/1004_ITH_NEU_XX.wav\n"
     ]
    },
    {
     "name": "stderr",
     "output_type": "stream",
     "text": [
      "C:\\ProgramData\\Anaconda3\\envs\\gpu\\lib\\site-packages\\librosa\\core\\spectrum.py:960: UserWarning: amplitude_to_db was called on complex input so phase information will be discarded. To suppress this warning, call amplitude_to_db(np.abs(S)) instead.\n",
      "  warnings.warn('amplitude_to_db was called on complex input so phase '\n",
      "C:\\ProgramData\\Anaconda3\\envs\\gpu\\lib\\site-packages\\librosa\\core\\spectrum.py:960: UserWarning: amplitude_to_db was called on complex input so phase information will be discarded. To suppress this warning, call amplitude_to_db(np.abs(S)) instead.\n",
      "  warnings.warn('amplitude_to_db was called on complex input so phase '\n",
      "C:\\ProgramData\\Anaconda3\\envs\\gpu\\lib\\site-packages\\librosa\\core\\spectrum.py:960: UserWarning: amplitude_to_db was called on complex input so phase information will be discarded. To suppress this warning, call amplitude_to_db(np.abs(S)) instead.\n",
      "  warnings.warn('amplitude_to_db was called on complex input so phase '\n"
     ]
    },
    {
     "name": "stdout",
     "output_type": "stream",
     "text": [
      "../data/listenr-ml/crema-wav/AudioWAV/1005_IEO_FEA_LO.wav\n"
     ]
    },
    {
     "name": "stderr",
     "output_type": "stream",
     "text": [
      "C:\\ProgramData\\Anaconda3\\envs\\gpu\\lib\\site-packages\\librosa\\core\\spectrum.py:960: UserWarning: amplitude_to_db was called on complex input so phase information will be discarded. To suppress this warning, call amplitude_to_db(np.abs(S)) instead.\n",
      "  warnings.warn('amplitude_to_db was called on complex input so phase '\n"
     ]
    },
    {
     "name": "stdout",
     "output_type": "stream",
     "text": [
      "../data/listenr-ml/RAVDESS-Audio_Speech_Actors_01-24/Actor_03/03-01-05-01-01-02-03.wav\n"
     ]
    },
    {
     "name": "stderr",
     "output_type": "stream",
     "text": [
      "C:\\ProgramData\\Anaconda3\\envs\\gpu\\lib\\site-packages\\librosa\\core\\spectrum.py:960: UserWarning: amplitude_to_db was called on complex input so phase information will be discarded. To suppress this warning, call amplitude_to_db(np.abs(S)) instead.\n",
      "  warnings.warn('amplitude_to_db was called on complex input so phase '\n",
      "C:\\ProgramData\\Anaconda3\\envs\\gpu\\lib\\site-packages\\librosa\\core\\spectrum.py:960: UserWarning: amplitude_to_db was called on complex input so phase information will be discarded. To suppress this warning, call amplitude_to_db(np.abs(S)) instead.\n",
      "  warnings.warn('amplitude_to_db was called on complex input so phase '\n",
      "C:\\ProgramData\\Anaconda3\\envs\\gpu\\lib\\site-packages\\librosa\\core\\spectrum.py:960: UserWarning: amplitude_to_db was called on complex input so phase information will be discarded. To suppress this warning, call amplitude_to_db(np.abs(S)) instead.\n",
      "  warnings.warn('amplitude_to_db was called on complex input so phase '\n"
     ]
    },
    {
     "name": "stdout",
     "output_type": "stream",
     "text": [
      "../data/listenr-ml/RAVDESS-Audio_Speech_Actors_01-24/Actor_20/03-01-06-02-01-02-20.wav\n"
     ]
    },
    {
     "name": "stderr",
     "output_type": "stream",
     "text": [
      "C:\\ProgramData\\Anaconda3\\envs\\gpu\\lib\\site-packages\\librosa\\core\\spectrum.py:960: UserWarning: amplitude_to_db was called on complex input so phase information will be discarded. To suppress this warning, call amplitude_to_db(np.abs(S)) instead.\n",
      "  warnings.warn('amplitude_to_db was called on complex input so phase '\n",
      "C:\\ProgramData\\Anaconda3\\envs\\gpu\\lib\\site-packages\\librosa\\core\\spectrum.py:960: UserWarning: amplitude_to_db was called on complex input so phase information will be discarded. To suppress this warning, call amplitude_to_db(np.abs(S)) instead.\n",
      "  warnings.warn('amplitude_to_db was called on complex input so phase '\n",
      "C:\\ProgramData\\Anaconda3\\envs\\gpu\\lib\\site-packages\\librosa\\core\\spectrum.py:960: UserWarning: amplitude_to_db was called on complex input so phase information will be discarded. To suppress this warning, call amplitude_to_db(np.abs(S)) instead.\n",
      "  warnings.warn('amplitude_to_db was called on complex input so phase '\n"
     ]
    }
   ],
   "source": [
    "fns = test_meta[\"filepath\"].values\n",
    "preds_2 = []\n",
    "preds_1 = []\n",
    "\n",
    "for i in range(20):\n",
    "    idx = np.random.randint(0, len(fns))\n",
    "    print(fns[idx])\n",
    "    fn = fns[idx]\n",
    "    try:\n",
    "        one, two = preprocess_sample(fn)\n",
    "        preds_2.append(md_2d.predict_classes(two))\n",
    "        preds_1.append(md_1d.predict_classes(one))\n",
    "    except:\n",
    "        pass"
   ]
  },
  {
   "cell_type": "markdown",
   "metadata": {},
   "source": [
    "# Generate a range of predictions from each model separately"
   ]
  },
  {
   "cell_type": "code",
   "execution_count": 70,
   "metadata": {
    "scrolled": true
   },
   "outputs": [
    {
     "data": {
      "text/plain": [
       "[array([3, 3, 3], dtype=int64),\n",
       " array([3, 3, 3, 3], dtype=int64),\n",
       " array([3, 3], dtype=int64),\n",
       " array([3, 3], dtype=int64),\n",
       " array([3, 3], dtype=int64),\n",
       " array([3], dtype=int64),\n",
       " array([3, 3, 3], dtype=int64),\n",
       " array([3], dtype=int64),\n",
       " array([3, 3, 3], dtype=int64),\n",
       " array([3, 3, 3], dtype=int64),\n",
       " array([3, 3], dtype=int64),\n",
       " array([3, 3], dtype=int64),\n",
       " array([3, 3], dtype=int64),\n",
       " array([3, 3, 3], dtype=int64),\n",
       " array([3, 3], dtype=int64),\n",
       " array([3], dtype=int64),\n",
       " array([3, 3, 3], dtype=int64),\n",
       " array([3], dtype=int64),\n",
       " array([3, 3, 3], dtype=int64),\n",
       " array([3, 3, 3], dtype=int64)]"
      ]
     },
     "execution_count": 70,
     "metadata": {},
     "output_type": "execute_result"
    }
   ],
   "source": [
    "preds_2"
   ]
  },
  {
   "cell_type": "code",
   "execution_count": 71,
   "metadata": {},
   "outputs": [
    {
     "data": {
      "text/plain": [
       "[array([5, 1, 5], dtype=int64),\n",
       " array([1, 1, 4, 5], dtype=int64),\n",
       " array([1, 4], dtype=int64),\n",
       " array([1, 4], dtype=int64),\n",
       " array([1, 5], dtype=int64),\n",
       " array([5], dtype=int64),\n",
       " array([5, 1, 1], dtype=int64),\n",
       " array([5], dtype=int64),\n",
       " array([4, 5, 1], dtype=int64),\n",
       " array([1, 1, 4], dtype=int64),\n",
       " array([5, 4], dtype=int64),\n",
       " array([1, 1], dtype=int64),\n",
       " array([5, 5], dtype=int64),\n",
       " array([5, 5, 5], dtype=int64),\n",
       " array([1, 1], dtype=int64),\n",
       " array([5], dtype=int64),\n",
       " array([1, 1, 1], dtype=int64),\n",
       " array([5], dtype=int64),\n",
       " array([5, 1, 1], dtype=int64),\n",
       " array([5, 1, 1], dtype=int64)]"
      ]
     },
     "execution_count": 71,
     "metadata": {},
     "output_type": "execute_result"
    }
   ],
   "source": [
    "preds_1"
   ]
  },
  {
   "cell_type": "code",
   "execution_count": 72,
   "metadata": {},
   "outputs": [
    {
     "data": {
      "text/plain": [
       "array([3, 3, 3], dtype=int64)"
      ]
     },
     "execution_count": 72,
     "metadata": {},
     "output_type": "execute_result"
    }
   ],
   "source": [
    "md_2d.predict_classes(two)"
   ]
  },
  {
   "cell_type": "code",
   "execution_count": null,
   "metadata": {},
   "outputs": [],
   "source": [
    "md_1d.predict_proba(one)"
   ]
  },
  {
   "cell_type": "code",
   "execution_count": null,
   "metadata": {},
   "outputs": [],
   "source": []
  }
 ],
 "metadata": {
  "kernelspec": {
   "display_name": "Python 3",
   "language": "python",
   "name": "python3"
  },
  "language_info": {
   "codemirror_mode": {
    "name": "ipython",
    "version": 3
   },
   "file_extension": ".py",
   "mimetype": "text/x-python",
   "name": "python",
   "nbconvert_exporter": "python",
   "pygments_lexer": "ipython3",
   "version": "3.6.7"
  }
 },
 "nbformat": 4,
 "nbformat_minor": 2
}
